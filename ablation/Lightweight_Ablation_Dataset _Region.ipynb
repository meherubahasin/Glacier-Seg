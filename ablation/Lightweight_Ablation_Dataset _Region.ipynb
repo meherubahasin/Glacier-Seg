{
 "cells": [
  {
   "cell_type": "code",
   "execution_count": 1,
   "id": "0c23baca",
   "metadata": {},
   "outputs": [
    {
     "name": "stdout",
     "output_type": "stream",
     "text": [
      "Python: 3.10.18 (main, Jun  5 2025, 13:14:17) [GCC 11.2.0]\n",
      "PyTorch: 2.8.0+cu129\n",
      "CUDA available: True\n",
      "CUDA device: NVIDIA GeForce RTX 4060 Ti\n",
      "mamba_ssm found: True\n",
      "mamba_model found: True\n"
     ]
    }
   ],
   "source": [
    "\n",
    "import os, sys, torch\n",
    "print('Python:', sys.version)\n",
    "print('PyTorch:', torch.__version__)\n",
    "print('CUDA available:', torch.cuda.is_available())\n",
    "if torch.cuda.is_available():\n",
    "    print('CUDA device:', torch.cuda.get_device_name(0))\n",
    "\n",
    "# Check presence of mamba_ssm (optional) and mamba_model (required)\n",
    "try:\n",
    "    import importlib.util\n",
    "    spec = importlib.util.find_spec('mamba_ssm')\n",
    "    print('mamba_ssm found:', spec is not None)\n",
    "except Exception as e:\n",
    "    print('mamba_ssm check error:', e)\n",
    "\n",
    "try:\n",
    "    spec2 = importlib.util.find_spec('mamba_model')\n",
    "    print('mamba_model found:', spec2 is not None)\n",
    "except Exception as e:\n",
    "    print('mamba_model check error:', e)\n"
   ]
  },
  {
   "cell_type": "code",
   "execution_count": 3,
   "id": "0bd3d885",
   "metadata": {},
   "outputs": [],
   "source": [
    "#imports\n",
    "import os\n",
    "import h5py\n",
    "import numpy as np\n",
    "import cv2\n",
    "import torch\n",
    "import random\n",
    "from torch.utils.data import Dataset, DataLoader\n",
    "from tqdm import tqdm\n",
    "import torch.nn.functional as F\n",
    "from torch.optim import AdamW\n"
   ]
  },
  {
   "cell_type": "code",
   "execution_count": 4,
   "id": "1369e8a1",
   "metadata": {},
   "outputs": [],
   "source": [
    "# Constants\n",
    "PATCH_SIZE = 256\n",
    "TARGET_SIZE = (256, 256)\n",
    "LABEL_KEY = 'outlines'\n",
    "MODALITIES_3 = ['dem', 'optical', 'bright_dark_outlines']\n",
    "CHANNEL_INFO_3 = {'dem': 2, 'optical': 6, 'bright_dark_outlines': 3}\n",
    "\n",
    "def normalize(arr):\n",
    "    arr = arr.astype(np.float32)\n",
    "    return (arr - arr.mean()) / (arr.std() + 1e-5)"
   ]
  },
  {
   "cell_type": "code",
   "execution_count": 5,
   "id": "0a2e84fe",
   "metadata": {},
   "outputs": [],
   "source": [
    "import os, random, h5py\n",
    "import numpy as np\n",
    "import torch\n",
    "from torch.utils.data import Dataset\n",
    "\n",
    "# --- Normalization ---\n",
    "def normalize(arr):\n",
    "    arr = arr.astype(np.float32)\n",
    "    return (arr - arr.mean()) / (arr.std() + 1e-5)\n",
    "\n",
    "# --- Augmentations ---\n",
    "def augment_patch(img, label):\n",
    "    if random.random() < 0.5:\n",
    "        img = np.flip(img, axis=0)\n",
    "        label = np.flip(label, axis=0)\n",
    "    if random.random() < 0.5:\n",
    "        img = np.flip(img, axis=1)\n",
    "        label = np.flip(label, axis=1)\n",
    "    if random.random() < 0.5:\n",
    "        noise = np.random.normal(0, 0.01, img.shape)\n",
    "        img = img + noise\n",
    "    return img, label\n",
    "\n",
    "# --- Region-specific Dataset Class ---\n",
    "class GlacierRegionHDF5Dataset(Dataset):\n",
    "    def __init__(self, hdf5_file_path, patch_size=256, target_size=(256,256),\n",
    "                 length=600, modalities=None, regions=None):\n",
    "        \"\"\"\n",
    "        regions: list of region codes/prefixes to include (e.g. ['HMA'], ['SVAL','GR'])\n",
    "        \"\"\"\n",
    "        self.hdf5 = h5py.File(hdf5_file_path, 'r')\n",
    "        self.modalities = modalities if modalities is not None else ['dem', 'optical', 'bright_dark_outlines']\n",
    "        self.channel_info = {'dem': 2, 'optical': 6, 'bright_dark_outlines': 3}\n",
    "        self.in_chans = sum(self.channel_info[m] for m in self.modalities)\n",
    "\n",
    "        # --- Filter by region ---\n",
    "        all_tiles = [name for name in self.hdf5.keys() if all(m in self.hdf5[name] for m in self.modalities)]\n",
    "        if regions:\n",
    "            regions = [r.upper() for r in regions]\n",
    "            self.tiles = [t for t in all_tiles if any(t.upper().startswith(r) for r in regions)]\n",
    "        else:\n",
    "            self.tiles = all_tiles\n",
    "\n",
    "        if len(self.tiles) == 0:\n",
    "            raise ValueError(f\"No tiles found for regions={regions} in {hdf5_file_path}\")\n",
    "\n",
    "        self.patch_size = patch_size\n",
    "        self.target_size = target_size\n",
    "        self.length = length\n",
    "\n",
    "    def __len__(self):\n",
    "        return self.length\n",
    "\n",
    "    def __getitem__(self, idx):\n",
    "        tile_name = random.choice(self.tiles)\n",
    "        tile = self.hdf5[tile_name]\n",
    "        h, w = tile[self.modalities[0]].shape[:2]\n",
    "        y = random.randint(0, h - self.patch_size)\n",
    "        x = random.randint(0, w - self.patch_size)\n",
    "\n",
    "        input_channels = []\n",
    "        for key in self.modalities:\n",
    "            arr = tile[key][y:y+self.patch_size, x:x+self.patch_size, :]\n",
    "            arr = normalize(arr)\n",
    "            input_channels.append(arr)\n",
    "        input_patch = np.concatenate(input_channels, axis=2)\n",
    "\n",
    "        label = tile['outlines'][y:y+self.patch_size, x:x+self.patch_size]\n",
    "        if label.ndim == 3:\n",
    "            label = label[:,:,0] if label.shape[2] == 1 else np.argmax(label, axis=2)\n",
    "\n",
    "        input_patch, label = augment_patch(input_patch, label)\n",
    "\n",
    "        input_tensor = torch.tensor(np.ascontiguousarray(input_patch)).permute(2,0,1).float()\n",
    "        label_tensor = torch.tensor(np.ascontiguousarray(label), dtype=torch.long)\n",
    "        return input_tensor, label_tensor\n",
    "\n",
    "    def close(self):\n",
    "        self.hdf5.close()\n"
   ]
  },
  {
   "cell_type": "code",
   "execution_count": 6,
   "id": "ad3f1ef3",
   "metadata": {},
   "outputs": [],
   "source": [
    "import numpy as np\n",
    "from sklearn.metrics import (\n",
    "    accuracy_score, \n",
    "    f1_score, \n",
    "    jaccard_score, \n",
    "    precision_score, \n",
    "    recall_score, \n",
    "    confusion_matrix\n",
    ")\n",
    "\n",
    "def segmentation_metrics(y_true, y_pred, num_classes=3):\n",
    "    # Flatten arrays\n",
    "    y_true = y_true.ravel()\n",
    "    y_pred = y_pred.ravel()\n",
    "\n",
    "    # Confusion matrix\n",
    "    cm = confusion_matrix(y_true, y_pred, labels=list(range(num_classes)))\n",
    "\n",
    "    # Pixel accuracy\n",
    "    pixel_acc = accuracy_score(y_true, y_pred)\n",
    "\n",
    "    # IoU (Jaccard Index)\n",
    "    per_class_iou = jaccard_score(y_true, y_pred, average=None, labels=list(range(num_classes)))\n",
    "    mean_iou = jaccard_score(y_true, y_pred, average=\"macro\", labels=list(range(num_classes)))\n",
    "\n",
    "    # Dice (F1-score)\n",
    "    per_class_dice = f1_score(y_true, y_pred, average=None, labels=list(range(num_classes)))\n",
    "    mean_dice = f1_score(y_true, y_pred, average=\"macro\", labels=list(range(num_classes)))\n",
    "\n",
    "    # Precision & Recall\n",
    "    precision = precision_score(y_true, y_pred, average=\"macro\", labels=list(range(num_classes)))\n",
    "    recall = recall_score(y_true, y_pred, average=\"macro\", labels=list(range(num_classes)))\n",
    "\n",
    "    return {\n",
    "        \"pixel_acc\": pixel_acc,\n",
    "        \"mean_iou\": mean_iou,\n",
    "        \"mean_dice\": mean_dice,\n",
    "        \"per_class_iou\": per_class_iou,\n",
    "        \"per_class_dice\": per_class_dice,\n",
    "        \"precision\": precision,\n",
    "        \"recall\": recall,\n",
    "        \"confusion_matrix\": cm\n",
    "    }\n"
   ]
  },
  {
   "cell_type": "code",
   "execution_count": 7,
   "id": "e913cdfa",
   "metadata": {},
   "outputs": [],
   "source": [
    "class EarlyStopping:\n",
    "    \"\"\"\n",
    "    Early-stop when monitored metric doesn't improve after `patience` epochs.\n",
    "    mode='max' for metrics like mIoU; set delta to require minimal improvement.\n",
    "    \"\"\"\n",
    "    def __init__(self, patience=10, mode='max', min_delta=0.0):\n",
    "        self.patience = patience\n",
    "        self.mode = mode\n",
    "        self.min_delta = min_delta\n",
    "        self.best = None\n",
    "        self.counter = 0\n",
    "        self.should_stop = False\n",
    "\n",
    "    def step(self, current):\n",
    "        if self.best is None:\n",
    "            self.best = current\n",
    "            return False\n",
    "\n",
    "        improved = (current > self.best + self.min_delta) if self.mode == 'max' else (current < self.best - self.min_delta)\n",
    "        if improved:\n",
    "            self.best = current\n",
    "            self.counter = 0\n",
    "        else:\n",
    "            self.counter += 1\n",
    "            if self.counter >= self.patience:\n",
    "                self.should_stop = True\n",
    "        return self.should_stop\n"
   ]
  },
  {
   "cell_type": "code",
   "execution_count": 8,
   "id": "0c6ab809",
   "metadata": {},
   "outputs": [],
   "source": [
    "import torch.optim as optim\n",
    "\n",
    "def build_optimizer(model, opt_cfg=None):\n",
    "    opt_cfg = opt_cfg or {\"name\": \"AdamW\", \"lr\": 3e-6, \"weight_decay\": 1e-4}\n",
    "    name = opt_cfg.get(\"name\", \"AdamW\").lower()\n",
    "    lr = opt_cfg.get(\"lr\", 3e-6)\n",
    "    wd = opt_cfg.get(\"weight_decay\", 1e-4)\n",
    "    momentum = opt_cfg.get(\"momentum\", 0.9)\n",
    "\n",
    "    if name == \"sgd\":\n",
    "        return optim.SGD(model.parameters(), lr=lr, weight_decay=wd, momentum=momentum, nesterov=True)\n",
    "    elif name == \"adam\":\n",
    "        return optim.Adam(model.parameters(), lr=lr, weight_decay=wd)\n",
    "    else:\n",
    "        return optim.AdamW(model.parameters(), lr=lr, weight_decay=wd)\n",
    "\n",
    "def build_scheduler(optimizer, sch_cfg=None):\n",
    "    \"\"\"\n",
    "    Default: ReduceLROnPlateau on val mIoU (mode='max').\n",
    "    If you want cosine/step later, we can expand this switch.\n",
    "    \"\"\"\n",
    "    sch_cfg = sch_cfg or {\"name\": \"ReduceLROnPlateau\", \"factor\": 0.5, \"patience\": 5, \"threshold\": 1e-4, \"min_lr\": 1e-7}\n",
    "    name = sch_cfg.get(\"name\", \"ReduceLROnPlateau\").lower()\n",
    "\n",
    "    if name == \"reducelronplateau\":\n",
    "        return optim.lr_scheduler.ReduceLROnPlateau(\n",
    "            optimizer,\n",
    "            mode=\"max\",\n",
    "            factor=sch_cfg.get(\"factor\", 0.5),\n",
    "            patience=sch_cfg.get(\"patience\", 5),\n",
    "            threshold=sch_cfg.get(\"threshold\", 1e-4),\n",
    "            cooldown=sch_cfg.get(\"cooldown\", 0),\n",
    "            min_lr=sch_cfg.get(\"min_lr\", 1e-7)\n",
    "        )\n",
    "    elif name == \"cosineannealing\":\n",
    "        return optim.lr_scheduler.CosineAnnealingLR(\n",
    "            optimizer, T_max=sch_cfg.get(\"T_max\", 50), eta_min=sch_cfg.get(\"min_lr\", 1e-7)\n",
    "        )\n",
    "    elif name == \"steplr\":\n",
    "        return optim.lr_scheduler.StepLR(\n",
    "            optimizer, step_size=sch_cfg.get(\"step_size\", 30), gamma=sch_cfg.get(\"gamma\", 0.1)\n",
    "        )\n",
    "    else:\n",
    "        return None\n"
   ]
  },
  {
   "cell_type": "code",
   "execution_count": 9,
   "id": "ed9eb2ff",
   "metadata": {},
   "outputs": [],
   "source": [
    "from tqdm import tqdm\n",
    "def train_epoch(loader, model, criterion, optimizer, device):\n",
    "    model.train()\n",
    "    total_loss = 0\n",
    "    for x, y in tqdm(loader):\n",
    "        x, y = x.to(device), y.to(device)\n",
    "        optimizer.zero_grad()\n",
    "        outputs = model(x)\n",
    "        loss = criterion(outputs, y)\n",
    "        loss.backward()\n",
    "        optimizer.step()\n",
    "        total_loss += loss.item()\n",
    "    return total_loss/len(loader)\n",
    "\n",
    "def eval_epoch(loader, model, criterion, device):\n",
    "    model.eval()\n",
    "    total_loss = 0\n",
    "    correct, total = 0, 0\n",
    "    with torch.no_grad():\n",
    "        for x, y in loader:\n",
    "            x, y = x.to(device), y.to(device)\n",
    "            outputs = model(x)\n",
    "            loss = criterion(outputs, y)\n",
    "            total_loss += loss.item()\n",
    "            preds = torch.argmax(outputs, dim=1)\n",
    "            correct += (preds == y).sum().item()\n",
    "            total += y.numel()\n",
    "    return total_loss/len(loader), correct/total\n"
   ]
  },
  {
   "cell_type": "code",
   "execution_count": 10,
   "id": "00769abd",
   "metadata": {},
   "outputs": [],
   "source": [
    "TRAIN_PATH = \"/home/goblin/dataset/20230905_train_global_ps384.hdf5\"\n",
    "VAL_PATH = \"/home/goblin/dataset/20230905_val_global_ps384.hdf5\"\n",
    "TEST_PATH = \"/home/goblin/dataset/20230905_test_global_ps384.hdf5\"\n",
    "WEIGHT_DIR = \"weights/NIRD_Config\"\n",
    "os.makedirs(WEIGHT_DIR, exist_ok=True)\n",
    "\n",
    "# dataset_train = GlacierHDF5PatchDataset3(TRAIN_PATH, length=2000)\n",
    "# dataset_val = GlacierHDF5PatchDataset3(VAL_PATH, length = 500)\n",
    "# dataset_test = GlacierHDF5PatchDataset3(TEST_PATH, length = 800)\n",
    "# train_loader= DataLoader(dataset_train, batch_size=30, shuffle=True)\n",
    "# dev_loader = DataLoader(dataset_val, batch_size=30, shuffle=False)\n",
    "# dev_loader = DataLoader(dataset_test, batch_size=30, shuffle=False)\n",
    "\n",
    "DEVICE = torch.device('cuda' if torch.cuda.is_available() else 'cpu')\n",
    "\n"
   ]
  },
  {
   "cell_type": "code",
   "execution_count": 11,
   "id": "5b576c83",
   "metadata": {},
   "outputs": [
    {
     "name": "stdout",
     "output_type": "stream",
     "text": [
      "[INFO] Using device: cpu\n",
      "[ERROR] thop profiling failed: Pointer argument (at 0) cannot be accessed from Triton (cpu tensor?)\n",
      "[ERROR] torchinfo summary failed: Failed to run torchinfo. See above stack traces for more details. Executed layers up to: [OverlapPatchEmbedInvo: 4, Involution2D: 5, AvgPool2d: 6, Conv2d: 6, ReLU: 6, Conv2d: 6, Conv2d: 5, BatchNorm2d: 5]\n",
      "[ERROR] Analysis failed: Pointer argument (at 0) cannot be accessed from Triton (cpu tensor?)\n"
     ]
    }
   ],
   "source": [
    "import torch\n",
    "import time\n",
    "from thop import profile\n",
    "from torchinfo import summary\n",
    "\n",
    "def analyze_model(model, input_size=(1, 11, 256, 256), device=None):\n",
    "    # --- Device selection ---\n",
    "    device = device or (\"cuda\" if torch.cuda.is_available() else \"cpu\")\n",
    "    print(f\"[INFO] Using device: {device}\")\n",
    "\n",
    "    # --- Move model and input to device ---\n",
    "    model = model.to(device)\n",
    "    dummy_input = torch.randn(*input_size).to(device)\n",
    "\n",
    "    # --- Verify device consistency ---\n",
    "    if next(model.parameters()).device != dummy_input.device:\n",
    "        raise RuntimeError(f\"Model and input device mismatch: model on {next(model.parameters()).device}, input on {dummy_input.device}\")\n",
    "\n",
    "    # --- FLOPs & MACs ---\n",
    "    try:\n",
    "        macs, params = profile(model, inputs=(dummy_input,), verbose=False)\n",
    "        flops = 2 * macs  # 1 MAC = 2 FLOPs\n",
    "    except Exception as e:\n",
    "        print(f\"[ERROR] thop profiling failed: {e}\")\n",
    "        macs, params, flops = 0, 0, 0  # Fallback values\n",
    "\n",
    "    # --- Torchinfo summary ---\n",
    "    try:\n",
    "        print(summary(model, input_size=input_size, device=device))\n",
    "    except Exception as e:\n",
    "        print(f\"[ERROR] torchinfo summary failed: {e}\")\n",
    "\n",
    "    # --- Inference time ---\n",
    "    model.eval()\n",
    "    with torch.no_grad():\n",
    "        # Warm-up\n",
    "        for _ in range(5):\n",
    "            _ = model(dummy_input)\n",
    "        torch.cuda.synchronize() if device.startswith(\"cuda\") else None  # Sync for GPU\n",
    "        start = time.time()\n",
    "        for _ in range(20):\n",
    "            _ = model(dummy_input)\n",
    "        torch.cuda.synchronize() if device.startswith(\"cuda\") else None  # Sync for GPU\n",
    "        end = time.time()\n",
    "    avg_time = (end - start) / 20 * 1000  # Convert to ms/sample\n",
    "\n",
    "    return {\n",
    "        \"device\": device,\n",
    "        \"params\": params,\n",
    "        \"macs\": macs / 1e6,  # Convert to millions\n",
    "        \"flops\": flops / 1e6,  # Convert to millions\n",
    "        \"avg_inference_time_ms\": avg_time\n",
    "    }\n",
    "\n",
    "# Example usage\n",
    "try:\n",
    "    model = SegFormer(num_classes=2, in_chans=11)  # Ensure SegFormer is defined\n",
    "    stats = analyze_model(model, input_size=(1, 11, 256, 256), device=\"cpu\")\n",
    "    print(stats)\n",
    "except Exception as e:\n",
    "    print(f\"[ERROR] Analysis failed: {e}\")"
   ]
  },
  {
   "cell_type": "code",
   "execution_count": null,
   "id": "696bed1b",
   "metadata": {},
   "outputs": [],
   "source": [
    "# %%\n",
    "import os, time, numpy as np, torch\n",
    "from torch.utils.data import DataLoader\n",
    "from torch.utils.tensorboard import SummaryWriter\n",
    "import torch.nn as nn\n",
    "\n",
    "def _format_list(vals):\n",
    "    return \"[\" + \"|\".join(f\"{float(v):.4f}\" for v in vals) + \"]\"\n",
    "\n",
    "def _flatten_cm(cm):\n",
    "    return \"[\" + \"|\".join(str(int(x)) for x in cm.flatten().tolist()) + \"]\"\n",
    "\n",
    "def train_dataset_config(\n",
    "    config,\n",
    "    train_path,\n",
    "    val_path,\n",
    "    device=\"cuda\",\n",
    "    epochs_default=30,\n",
    "    batch_size_default=30,\n",
    "    num_classes=2,\n",
    "    base_run_dir=\"runs\",\n",
    "    base_weight_dir=\"weights\",\n",
    "    save_every=5,\n",
    "    es_patience_default=10\n",
    "):\n",
    "    name = config['name']\n",
    "    run_dir = os.path.join(base_run_dir, name)\n",
    "    weight_dir = os.path.join(base_weight_dir, name)\n",
    "    os.makedirs(run_dir, exist_ok=True)\n",
    "    os.makedirs(weight_dir, exist_ok=True)\n",
    "\n",
    "    # --- Build datasets ---\n",
    "    dataset_train = GlacierRegionHDF5Dataset(\n",
    "        train_path,\n",
    "        length=config[\"length_train\"],\n",
    "        modalities=config[\"modalities\"],\n",
    "        regions=config.get(\"regions\")   # 🔹 new field\n",
    "    )\n",
    "    dataset_val = GlacierRegionHDF5Dataset(\n",
    "        val_path,\n",
    "        length=config[\"length_val\"],\n",
    "        modalities=config[\"modalities\"],\n",
    "        regions=config.get(\"regions\")   # 🔹 same region(s) for validation\n",
    "    )\n",
    "\n",
    "    epochs = config.get(\"epochs\", epochs_default)\n",
    "    batch_size = config.get(\"batch_size\", batch_size_default)\n",
    "\n",
    "    train_loader = DataLoader(dataset_train, batch_size=batch_size, shuffle=True)\n",
    "    val_loader   = DataLoader(dataset_val,   batch_size=batch_size, shuffle=False)\n",
    "\n",
    "    # --- Build model ---\n",
    "    in_chans = dataset_train.in_chans\n",
    "    model = Glacier_seg(\n",
    "        num_classes=num_classes,\n",
    "        variant=\"mit_b0\",\n",
    "        drop_path_rate=0.1,\n",
    "        in_chans=in_chans,\n",
    "        embed_dims=[16, 32, 64, 128],  # keep fixed backbone for ablation\n",
    "        depths=[1, 1, 1, 1],\n",
    "        use_invo_stages=(True, True, False, False)\n",
    "    ).to(device)\n",
    "\n",
    "    # --- Optimizer & scheduler ---\n",
    "    optimizer = build_optimizer(model, config.get(\"optimizer\"))\n",
    "    scheduler = build_scheduler(optimizer, config.get(\"scheduler\"))\n",
    "\n",
    "    # --- Criterion ---\n",
    "    criterion = nn.CrossEntropyLoss()\n",
    "\n",
    "    # --- TensorBoard writer ---\n",
    "    writer = SummaryWriter(run_dir)\n",
    "\n",
    "    # --- Computational analysis (optional) ---\n",
    "    try:\n",
    "        computational_metrics = analyze_model(model, input_size=(1, in_chans, 256, 256), device=device)\n",
    "    except Exception as e:\n",
    "        print(f\"[WARN] analyze_model failed: {e}\")\n",
    "        computational_metrics = {}\n",
    "    if computational_metrics:\n",
    "        if 'params' in computational_metrics:       writer.add_scalar(\"Computational/Params\", computational_metrics['params'], 0)\n",
    "        if 'macs' in computational_metrics:         writer.add_scalar(\"Computational/MACs_M\", computational_metrics['macs'], 0)\n",
    "        if 'flops' in computational_metrics:        writer.add_scalar(\"Computational/FLOPs_M\", computational_metrics['flops'], 0)\n",
    "        if 'avg_inference_time_ms' in computational_metrics:\n",
    "            writer.add_scalar(\"Computational/AvgInference_ms\", computational_metrics['avg_inference_time_ms'], 0)\n",
    "\n",
    "    # --- Training loop ---\n",
    "    log_path = os.path.join(weight_dir, \"training_log.txt\")\n",
    "    if not os.path.exists(log_path):\n",
    "        with open(log_path, \"w\") as f:\n",
    "            f.write(\"epoch,train_loss,val_loss,val_pixel_acc,val_mIoU,val_dice,val_precision,val_recall,lr,per_class_iou[],per_class_dice[],confusion_matrix_flat\\n\")\n",
    "\n",
    "    es_cfg = config.get(\"early_stopping\", {\"monitor\": \"val_mIoU\", \"patience\": es_patience_default})\n",
    "    es_patience = es_cfg.get(\"patience\", es_patience_default)\n",
    "    early_stopper = EarlyStopping(patience=es_patience, mode=\"max\", min_delta=0.0)\n",
    "\n",
    "    best_iou, best_epoch = -1.0, -1\n",
    "    start_time = time.time()\n",
    "\n",
    "    for epoch in range(1, epochs + 1):\n",
    "        train_loss = train_epoch(train_loader, model, criterion, optimizer, device)\n",
    "        val_loss, _ = eval_epoch(val_loader, model, criterion, device)\n",
    "\n",
    "        # --- Collect predictions ---\n",
    "        model.eval()\n",
    "        all_preds, all_labels = [], []\n",
    "        with torch.no_grad():\n",
    "            for x, y in val_loader:\n",
    "                x, y = x.to(device), y.to(device)\n",
    "                logits = model(x)\n",
    "                preds = torch.argmax(logits, dim=1)\n",
    "                all_preds.append(preds.cpu().numpy())\n",
    "                all_labels.append(y.cpu().numpy())\n",
    "\n",
    "        y_true = np.concatenate(all_labels, axis=None)\n",
    "        y_pred = np.concatenate(all_preds, axis=None)\n",
    "        metrics = segmentation_metrics(y_true, y_pred, num_classes=num_classes)\n",
    "\n",
    "        val_acc, val_miou, val_dice = float(metrics[\"pixel_acc\"]), float(metrics[\"mean_iou\"]), float(metrics[\"mean_dice\"])\n",
    "        val_prec, val_rec = float(metrics[\"precision\"]), float(metrics[\"recall\"])\n",
    "        cls_iou, cls_dice, cm = metrics[\"per_class_iou\"], metrics[\"per_class_dice\"], metrics[\"confusion_matrix\"]\n",
    "\n",
    "        # --- LR update ---\n",
    "        current_lr = optimizer.param_groups[0][\"lr\"]\n",
    "        if scheduler is not None:\n",
    "            scheduler.step(val_miou)\n",
    "            current_lr = optimizer.param_groups[0][\"lr\"]\n",
    "\n",
    "        # --- TensorBoard ---\n",
    "        writer.add_scalar(\"Loss/train\", train_loss, epoch)\n",
    "        writer.add_scalar(\"Loss/val\", val_loss, epoch)\n",
    "        writer.add_scalar(\"Val/PixelAcc\", val_acc, epoch)\n",
    "        writer.add_scalar(\"Val/mIoU\", val_miou, epoch)\n",
    "        writer.add_scalar(\"Val/Dice\", val_dice, epoch)\n",
    "        writer.add_scalar(\"Val/Precision\", val_prec, epoch)\n",
    "        writer.add_scalar(\"Val/Recall\", val_rec, epoch)\n",
    "        writer.add_scalar(\"LR/lr\", current_lr, epoch)\n",
    "\n",
    "        # --- Log CSV ---\n",
    "        with open(log_path, \"a\") as f:\n",
    "            f.write(f\"{epoch},{train_loss:.6f},{val_loss:.6f},{val_acc:.6f},{val_miou:.6f},{val_dice:.6f},{val_prec:.6f},{val_rec:.6f},{current_lr:.8e},{_format_list(cls_iou)},{_format_list(cls_dice)},{_flatten_cm(cm)}\\n\")\n",
    "\n",
    "        # --- Save best ---\n",
    "        if val_miou > best_iou:\n",
    "            best_iou, best_epoch = val_miou, epoch\n",
    "            best_ckpt_path = os.path.join(weight_dir, \"best_model.pth\")\n",
    "            torch.save(model.state_dict(), best_ckpt_path)\n",
    "            print(f\"[{name}] ✔ New best mIoU={best_iou:.4f} at epoch {epoch} → saved {best_ckpt_path}\")\n",
    "\n",
    "        if save_every and epoch % save_every == 0:\n",
    "            torch.save(model.state_dict(), os.path.join(weight_dir, f\"epoch_{epoch:03d}.pth\"))\n",
    "\n",
    "        if early_stopper.step(val_miou):\n",
    "            print(f\"[{name}] ⏹ Early stopping at epoch {epoch}.\")\n",
    "            break\n",
    "\n",
    "    total_time = time.time() - start_time\n",
    "    with open(log_path, \"a\") as f:\n",
    "        f.write(f\"BEST_EPOCH={best_epoch}\\nBEST_mIoU={best_iou:.6f}\\nTOTAL_TIME_SEC={total_time:.2f}\\n\")\n",
    "\n",
    "    writer.flush()\n",
    "    writer.close()\n",
    "    dataset_train.close()\n",
    "    dataset_val.close()\n",
    "    print(f\"[{name}] Finished. Best mIoU={best_iou:.4f} at epoch {best_epoch}. Log: {log_path}\")\n"
   ]
  },
  {
   "cell_type": "code",
   "execution_count": 13,
   "id": "38fb2468",
   "metadata": {},
   "outputs": [],
   "source": [
    "# %%\n",
    "def run_all_dataset_configs(\n",
    "    variants,\n",
    "    train_path,\n",
    "    val_path,\n",
    "    device=\"cuda\",\n",
    "    epochs=30,\n",
    "    batch_size=30,\n",
    "    num_classes=2,\n",
    "    base_run_dir=\"runs\",\n",
    "    base_weight_dir=\"weights\"\n",
    "):\n",
    "    \"\"\"\n",
    "    Loop through all dataset configs (variants) and train each one.\n",
    "    Supports region-based configs by passing 'regions' to train_dataset_config.\n",
    "    \"\"\"\n",
    "    for config in variants:\n",
    "        print(f\"\\n=== Processing dataset config: {config['name']} ===\")\n",
    "        if \"regions\" in config:\n",
    "            print(f\"   ↳ Training only on regions: {config['regions']}\")\n",
    "\n",
    "        train_dataset_config(\n",
    "            config=config,\n",
    "            train_path=train_path,\n",
    "            val_path=val_path,\n",
    "            device=device,\n",
    "            epochs_default=epochs,\n",
    "            batch_size_default=batch_size,\n",
    "            num_classes=num_classes,\n",
    "            base_run_dir=base_run_dir,\n",
    "            base_weight_dir=base_weight_dir,\n",
    "            save_every=config.get(\"save_every\", None),\n",
    "            es_patience_default=config.get(\"early_stopping\", {\"patience\": 10})[\"patience\"]\n",
    "        )\n"
   ]
  },
  {
   "cell_type": "code",
   "execution_count": 14,
   "id": "e0c40257",
   "metadata": {},
   "outputs": [],
   "source": [
    "region_variants = [\n",
    "    {\"name\": \"alp_region\", \"modalities\": ['dem','optical','bright_dark_outlines'],\n",
    "     \"length_train\": 800, \"length_val\": 200, \"regions\": [\"ALP\"]},\n",
    "\n",
    "    {\"name\": \"antarctica_region\", \"modalities\": ['dem','optical','bright_dark_outlines'],\n",
    "     \"length_train\": 800, \"length_val\": 200, \"regions\": [\"AN\"]},\n",
    "\n",
    "    {\"name\": \"alaska_region\", \"modalities\": ['dem','optical','bright_dark_outlines'],\n",
    "     \"length_train\": 800, \"length_val\": 200, \"regions\": [\"AWA\"]},\n",
    "\n",
    "    {\"name\": \"caucasus_region\", \"modalities\": ['dem','optical','bright_dark_outlines'],\n",
    "     \"length_train\": 800, \"length_val\": 200, \"regions\": [\"CAU\"]},\n",
    "\n",
    "    {\"name\": \"greenland_region\", \"modalities\": ['dem','optical','bright_dark_outlines'],\n",
    "     \"length_train\": 800, \"length_val\": 200, \"regions\": [\"GR\"]},\n",
    "\n",
    "    {\"name\": \"hma_region\", \"modalities\": ['dem','optical','bright_dark_outlines'],\n",
    "     \"length_train\": 800, \"length_val\": 200, \"regions\": [\"HMA\"]},\n",
    "\n",
    "    {\"name\": \"lowlat_region\", \"modalities\": ['dem','optical','bright_dark_outlines'],\n",
    "     \"length_train\": 800, \"length_val\": 200, \"regions\": [\"LL5\"]},\n",
    "\n",
    "    {\"name\": \"nz_region\", \"modalities\": ['dem','optical','bright_dark_outlines'],\n",
    "     \"length_train\": 800, \"length_val\": 200, \"regions\": [\"NZ1\"]},\n",
    "\n",
    "    {\"name\": \"andes_region\", \"modalities\": ['dem','optical','bright_dark_outlines'],\n",
    "     \"length_train\": 800, \"length_val\": 200, \"regions\": [\"SA\"]},\n",
    "\n",
    "    {\"name\": \"subantarctic_region\", \"modalities\": ['dem','optical','bright_dark_outlines'],\n",
    "     \"length_train\": 800, \"length_val\": 200, \"regions\": [\"SC\"]},\n",
    "\n",
    "    {\"name\": \"svalbard_region\", \"modalities\": ['dem','optical','bright_dark_outlines'],\n",
    "     \"length_train\": 800, \"length_val\": 200, \"regions\": [\"SVAL\"]},\n",
    "]\n"
   ]
  },
  {
   "cell_type": "code",
   "execution_count": 15,
   "id": "0067a083",
   "metadata": {},
   "outputs": [
    {
     "name": "stdout",
     "output_type": "stream",
     "text": [
      "\n",
      "=== Processing dataset config: alp_region ===\n",
      "   ↳ Training only on regions: ['ALP']\n",
      "[INFO] Using device: cuda\n",
      "====================================================================================================\n",
      "Layer (type:depth-idx)                             Output Shape              Param #\n",
      "====================================================================================================\n",
      "SegFormer                                          [1, 2, 256, 256]          --\n",
      "├─MixVisionTransformer: 1-1                        [1, 16, 128, 128]         --\n",
      "│    └─ModuleList: 2-1                             --                        --\n",
      "│    │    └─MiTStage: 3-1                          [1, 16, 128, 128]         5,795\n",
      "│    │    └─MiTStage: 3-2                          [1, 32, 64, 64]           19,057\n",
      "│    │    └─MiTStage: 3-3                          [1, 64, 32, 32]           84,416\n",
      "│    │    └─MiTStage: 3-4                          [1, 128, 16, 16]          322,432\n",
      "├─SegFormerHead: 1-2                               [1, 2, 128, 128]          --\n",
      "│    └─ModuleList: 2-2                             --                        --\n",
      "│    │    └─Sequential: 3-5                        [1, 128, 128, 128]        2,304\n",
      "│    │    └─Sequential: 3-6                        [1, 128, 64, 64]          4,352\n",
      "│    │    └─Sequential: 3-7                        [1, 128, 32, 32]          8,448\n",
      "│    │    └─Sequential: 3-8                        [1, 128, 16, 16]          16,640\n",
      "│    └─Sequential: 2-3                             [1, 128, 128, 128]        --\n",
      "│    │    └─Conv2d: 3-9                            [1, 128, 128, 128]        65,536\n",
      "│    │    └─BatchNorm2d: 3-10                      [1, 128, 128, 128]        256\n",
      "│    │    └─ReLU: 3-11                             [1, 128, 128, 128]        --\n",
      "│    │    └─Conv2d: 3-12                           [1, 128, 128, 128]        147,456\n",
      "│    │    └─BatchNorm2d: 3-13                      [1, 128, 128, 128]        256\n",
      "│    │    └─ReLU: 3-14                             [1, 128, 128, 128]        --\n",
      "│    └─Conv2d: 2-4                                 [1, 2, 128, 128]          258\n",
      "====================================================================================================\n",
      "Total params: 677,206\n",
      "Trainable params: 677,206\n",
      "Non-trainable params: 0\n",
      "Total mult-adds (G): 3.60\n",
      "====================================================================================================\n",
      "Input size (MB): 2.88\n",
      "Forward/backward pass size (MB): 149.19\n",
      "Params size (MB): 2.06\n",
      "Estimated Total Size (MB): 154.14\n",
      "====================================================================================================\n",
      "[WARN] analyze_model failed: 'torch.device' object has no attribute 'startswith'\n"
     ]
    },
    {
     "name": "stderr",
     "output_type": "stream",
     "text": [
      "100%|██████████| 67/67 [00:35<00:00,  1.87it/s]\n"
     ]
    },
    {
     "name": "stdout",
     "output_type": "stream",
     "text": [
      "[alp_region] ✔ New best mIoU=0.0598 at epoch 1 → saved weights/abliation_regions/alp_region/best_model.pth\n"
     ]
    },
    {
     "name": "stderr",
     "output_type": "stream",
     "text": [
      "100%|██████████| 67/67 [00:33<00:00,  1.99it/s]\n"
     ]
    },
    {
     "name": "stdout",
     "output_type": "stream",
     "text": [
      "[alp_region] ✔ New best mIoU=0.3524 at epoch 2 → saved weights/abliation_regions/alp_region/best_model.pth\n"
     ]
    },
    {
     "name": "stderr",
     "output_type": "stream",
     "text": [
      "100%|██████████| 67/67 [00:33<00:00,  2.00it/s]\n"
     ]
    },
    {
     "name": "stdout",
     "output_type": "stream",
     "text": [
      "[alp_region] ✔ New best mIoU=0.4395 at epoch 3 → saved weights/abliation_regions/alp_region/best_model.pth\n"
     ]
    },
    {
     "name": "stderr",
     "output_type": "stream",
     "text": [
      "100%|██████████| 67/67 [00:44<00:00,  1.50it/s]\n"
     ]
    },
    {
     "name": "stdout",
     "output_type": "stream",
     "text": [
      "[alp_region] ✔ New best mIoU=0.4401 at epoch 4 → saved weights/abliation_regions/alp_region/best_model.pth\n"
     ]
    },
    {
     "name": "stderr",
     "output_type": "stream",
     "text": [
      "100%|██████████| 67/67 [00:32<00:00,  2.06it/s]\n"
     ]
    },
    {
     "name": "stdout",
     "output_type": "stream",
     "text": [
      "[alp_region] ✔ New best mIoU=0.4644 at epoch 5 → saved weights/abliation_regions/alp_region/best_model.pth\n"
     ]
    },
    {
     "name": "stderr",
     "output_type": "stream",
     "text": [
      "100%|██████████| 67/67 [00:32<00:00,  2.05it/s]\n"
     ]
    },
    {
     "name": "stdout",
     "output_type": "stream",
     "text": [
      "[alp_region] ✔ New best mIoU=0.5097 at epoch 6 → saved weights/abliation_regions/alp_region/best_model.pth\n"
     ]
    },
    {
     "name": "stderr",
     "output_type": "stream",
     "text": [
      "100%|██████████| 67/67 [00:33<00:00,  2.02it/s]\n"
     ]
    },
    {
     "name": "stdout",
     "output_type": "stream",
     "text": [
      "[alp_region] ✔ New best mIoU=0.5729 at epoch 7 → saved weights/abliation_regions/alp_region/best_model.pth\n"
     ]
    },
    {
     "name": "stderr",
     "output_type": "stream",
     "text": [
      "100%|██████████| 67/67 [00:32<00:00,  2.04it/s]\n",
      "100%|██████████| 67/67 [00:33<00:00,  2.00it/s]\n"
     ]
    },
    {
     "name": "stdout",
     "output_type": "stream",
     "text": [
      "[alp_region] ✔ New best mIoU=0.6348 at epoch 9 → saved weights/abliation_regions/alp_region/best_model.pth\n"
     ]
    },
    {
     "name": "stderr",
     "output_type": "stream",
     "text": [
      "100%|██████████| 67/67 [00:46<00:00,  1.44it/s]\n",
      "100%|██████████| 67/67 [00:33<00:00,  1.99it/s]\n"
     ]
    },
    {
     "name": "stdout",
     "output_type": "stream",
     "text": [
      "[alp_region] ✔ New best mIoU=0.6358 at epoch 11 → saved weights/abliation_regions/alp_region/best_model.pth\n"
     ]
    },
    {
     "name": "stderr",
     "output_type": "stream",
     "text": [
      "100%|██████████| 67/67 [00:33<00:00,  1.98it/s]\n"
     ]
    },
    {
     "name": "stdout",
     "output_type": "stream",
     "text": [
      "[alp_region] ✔ New best mIoU=0.6814 at epoch 12 → saved weights/abliation_regions/alp_region/best_model.pth\n"
     ]
    },
    {
     "name": "stderr",
     "output_type": "stream",
     "text": [
      "100%|██████████| 67/67 [00:33<00:00,  1.97it/s]\n"
     ]
    },
    {
     "name": "stdout",
     "output_type": "stream",
     "text": [
      "[alp_region] ✔ New best mIoU=0.7181 at epoch 13 → saved weights/abliation_regions/alp_region/best_model.pth\n"
     ]
    },
    {
     "name": "stderr",
     "output_type": "stream",
     "text": [
      "100%|██████████| 67/67 [00:33<00:00,  2.01it/s]\n",
      "100%|██████████| 67/67 [00:33<00:00,  1.97it/s]\n",
      "100%|██████████| 67/67 [00:45<00:00,  1.46it/s]\n",
      "100%|██████████| 67/67 [00:34<00:00,  1.97it/s]\n"
     ]
    },
    {
     "name": "stdout",
     "output_type": "stream",
     "text": [
      "[alp_region] ✔ New best mIoU=0.7747 at epoch 17 → saved weights/abliation_regions/alp_region/best_model.pth\n"
     ]
    },
    {
     "name": "stderr",
     "output_type": "stream",
     "text": [
      "100%|██████████| 67/67 [00:34<00:00,  1.94it/s]\n",
      "100%|██████████| 67/67 [00:34<00:00,  1.94it/s]\n",
      "100%|██████████| 67/67 [00:34<00:00,  1.93it/s]\n",
      "100%|██████████| 67/67 [00:34<00:00,  1.95it/s]\n",
      "100%|██████████| 67/67 [00:34<00:00,  1.95it/s]\n"
     ]
    },
    {
     "name": "stdout",
     "output_type": "stream",
     "text": [
      "[alp_region] ✔ New best mIoU=0.7758 at epoch 22 → saved weights/abliation_regions/alp_region/best_model.pth\n"
     ]
    },
    {
     "name": "stderr",
     "output_type": "stream",
     "text": [
      "100%|██████████| 67/67 [00:34<00:00,  1.96it/s]\n",
      "100%|██████████| 67/67 [00:34<00:00,  1.95it/s]\n",
      "100%|██████████| 67/67 [00:34<00:00,  1.92it/s]\n"
     ]
    },
    {
     "name": "stdout",
     "output_type": "stream",
     "text": [
      "[alp_region] ✔ New best mIoU=0.7791 at epoch 25 → saved weights/abliation_regions/alp_region/best_model.pth\n"
     ]
    },
    {
     "name": "stderr",
     "output_type": "stream",
     "text": [
      "100%|██████████| 67/67 [00:34<00:00,  1.93it/s]\n"
     ]
    },
    {
     "name": "stdout",
     "output_type": "stream",
     "text": [
      "[alp_region] ✔ New best mIoU=0.8171 at epoch 26 → saved weights/abliation_regions/alp_region/best_model.pth\n"
     ]
    },
    {
     "name": "stderr",
     "output_type": "stream",
     "text": [
      "100%|██████████| 67/67 [00:34<00:00,  1.96it/s]\n"
     ]
    },
    {
     "name": "stdout",
     "output_type": "stream",
     "text": [
      "[alp_region] ✔ New best mIoU=0.8270 at epoch 27 → saved weights/abliation_regions/alp_region/best_model.pth\n"
     ]
    },
    {
     "name": "stderr",
     "output_type": "stream",
     "text": [
      "100%|██████████| 67/67 [00:35<00:00,  1.91it/s]\n"
     ]
    },
    {
     "name": "stdout",
     "output_type": "stream",
     "text": [
      "[alp_region] ✔ New best mIoU=0.8291 at epoch 28 → saved weights/abliation_regions/alp_region/best_model.pth\n"
     ]
    },
    {
     "name": "stderr",
     "output_type": "stream",
     "text": [
      "100%|██████████| 67/67 [00:34<00:00,  1.94it/s]\n",
      "100%|██████████| 67/67 [00:34<00:00,  1.92it/s]\n"
     ]
    },
    {
     "name": "stdout",
     "output_type": "stream",
     "text": [
      "[alp_region] Finished. Best mIoU=0.8291 at epoch 28. Log: weights/abliation_regions/alp_region/training_log.txt\n",
      "\n",
      "=== Processing dataset config: antarctica_region ===\n",
      "   ↳ Training only on regions: ['AN']\n",
      "[INFO] Using device: cuda\n",
      "====================================================================================================\n",
      "Layer (type:depth-idx)                             Output Shape              Param #\n",
      "====================================================================================================\n",
      "SegFormer                                          [1, 2, 256, 256]          --\n",
      "├─MixVisionTransformer: 1-1                        [1, 16, 128, 128]         --\n",
      "│    └─ModuleList: 2-1                             --                        --\n",
      "│    │    └─MiTStage: 3-1                          [1, 16, 128, 128]         5,795\n",
      "│    │    └─MiTStage: 3-2                          [1, 32, 64, 64]           19,057\n",
      "│    │    └─MiTStage: 3-3                          [1, 64, 32, 32]           84,416\n",
      "│    │    └─MiTStage: 3-4                          [1, 128, 16, 16]          322,432\n",
      "├─SegFormerHead: 1-2                               [1, 2, 128, 128]          --\n",
      "│    └─ModuleList: 2-2                             --                        --\n",
      "│    │    └─Sequential: 3-5                        [1, 128, 128, 128]        2,304\n",
      "│    │    └─Sequential: 3-6                        [1, 128, 64, 64]          4,352\n",
      "│    │    └─Sequential: 3-7                        [1, 128, 32, 32]          8,448\n",
      "│    │    └─Sequential: 3-8                        [1, 128, 16, 16]          16,640\n",
      "│    └─Sequential: 2-3                             [1, 128, 128, 128]        --\n",
      "│    │    └─Conv2d: 3-9                            [1, 128, 128, 128]        65,536\n",
      "│    │    └─BatchNorm2d: 3-10                      [1, 128, 128, 128]        256\n",
      "│    │    └─ReLU: 3-11                             [1, 128, 128, 128]        --\n",
      "│    │    └─Conv2d: 3-12                           [1, 128, 128, 128]        147,456\n",
      "│    │    └─BatchNorm2d: 3-13                      [1, 128, 128, 128]        256\n",
      "│    │    └─ReLU: 3-14                             [1, 128, 128, 128]        --\n",
      "│    └─Conv2d: 2-4                                 [1, 2, 128, 128]          258\n",
      "====================================================================================================\n",
      "Total params: 677,206\n",
      "Trainable params: 677,206\n",
      "Non-trainable params: 0\n",
      "Total mult-adds (G): 3.60\n",
      "====================================================================================================\n",
      "Input size (MB): 2.88\n",
      "Forward/backward pass size (MB): 149.19\n",
      "Params size (MB): 2.06\n",
      "Estimated Total Size (MB): 154.14\n",
      "====================================================================================================\n",
      "[WARN] analyze_model failed: 'torch.device' object has no attribute 'startswith'\n"
     ]
    },
    {
     "name": "stderr",
     "output_type": "stream",
     "text": [
      "100%|██████████| 67/67 [00:33<00:00,  1.98it/s]\n"
     ]
    },
    {
     "name": "stdout",
     "output_type": "stream",
     "text": [
      "[antarctica_region] ✔ New best mIoU=0.5076 at epoch 1 → saved weights/abliation_regions/antarctica_region/best_model.pth\n"
     ]
    },
    {
     "name": "stderr",
     "output_type": "stream",
     "text": [
      "100%|██████████| 67/67 [00:34<00:00,  1.94it/s]\n"
     ]
    },
    {
     "name": "stdout",
     "output_type": "stream",
     "text": [
      "[antarctica_region] ✔ New best mIoU=0.6556 at epoch 2 → saved weights/abliation_regions/antarctica_region/best_model.pth\n"
     ]
    },
    {
     "name": "stderr",
     "output_type": "stream",
     "text": [
      "100%|██████████| 67/67 [00:34<00:00,  1.92it/s]\n"
     ]
    },
    {
     "name": "stdout",
     "output_type": "stream",
     "text": [
      "[antarctica_region] ✔ New best mIoU=0.7466 at epoch 3 → saved weights/abliation_regions/antarctica_region/best_model.pth\n"
     ]
    },
    {
     "name": "stderr",
     "output_type": "stream",
     "text": [
      "100%|██████████| 67/67 [00:45<00:00,  1.46it/s]\n"
     ]
    },
    {
     "name": "stdout",
     "output_type": "stream",
     "text": [
      "[antarctica_region] ✔ New best mIoU=0.8220 at epoch 4 → saved weights/abliation_regions/antarctica_region/best_model.pth\n"
     ]
    },
    {
     "name": "stderr",
     "output_type": "stream",
     "text": [
      "100%|██████████| 67/67 [00:46<00:00,  1.43it/s]\n"
     ]
    },
    {
     "name": "stdout",
     "output_type": "stream",
     "text": [
      "[antarctica_region] ✔ New best mIoU=0.8523 at epoch 5 → saved weights/abliation_regions/antarctica_region/best_model.pth\n"
     ]
    },
    {
     "name": "stderr",
     "output_type": "stream",
     "text": [
      "100%|██████████| 67/67 [00:46<00:00,  1.43it/s]\n"
     ]
    },
    {
     "name": "stdout",
     "output_type": "stream",
     "text": [
      "[antarctica_region] ✔ New best mIoU=0.8753 at epoch 6 → saved weights/abliation_regions/antarctica_region/best_model.pth\n"
     ]
    },
    {
     "name": "stderr",
     "output_type": "stream",
     "text": [
      "100%|██████████| 67/67 [00:46<00:00,  1.45it/s]\n"
     ]
    },
    {
     "name": "stdout",
     "output_type": "stream",
     "text": [
      "[antarctica_region] ✔ New best mIoU=0.8820 at epoch 7 → saved weights/abliation_regions/antarctica_region/best_model.pth\n"
     ]
    },
    {
     "name": "stderr",
     "output_type": "stream",
     "text": [
      "100%|██████████| 67/67 [00:42<00:00,  1.59it/s]\n"
     ]
    },
    {
     "name": "stdout",
     "output_type": "stream",
     "text": [
      "[antarctica_region] ✔ New best mIoU=0.8929 at epoch 8 → saved weights/abliation_regions/antarctica_region/best_model.pth\n"
     ]
    },
    {
     "name": "stderr",
     "output_type": "stream",
     "text": [
      "100%|██████████| 67/67 [00:35<00:00,  1.89it/s]\n"
     ]
    },
    {
     "name": "stdout",
     "output_type": "stream",
     "text": [
      "[antarctica_region] ✔ New best mIoU=0.9100 at epoch 9 → saved weights/abliation_regions/antarctica_region/best_model.pth\n"
     ]
    },
    {
     "name": "stderr",
     "output_type": "stream",
     "text": [
      "100%|██████████| 67/67 [00:46<00:00,  1.43it/s]\n"
     ]
    },
    {
     "name": "stdout",
     "output_type": "stream",
     "text": [
      "[antarctica_region] ✔ New best mIoU=0.9133 at epoch 10 → saved weights/abliation_regions/antarctica_region/best_model.pth\n"
     ]
    },
    {
     "name": "stderr",
     "output_type": "stream",
     "text": [
      "100%|██████████| 67/67 [00:34<00:00,  1.93it/s]\n"
     ]
    },
    {
     "name": "stdout",
     "output_type": "stream",
     "text": [
      "[antarctica_region] ✔ New best mIoU=0.9206 at epoch 11 → saved weights/abliation_regions/antarctica_region/best_model.pth\n"
     ]
    },
    {
     "name": "stderr",
     "output_type": "stream",
     "text": [
      "100%|██████████| 67/67 [00:35<00:00,  1.91it/s]\n",
      "100%|██████████| 67/67 [00:35<00:00,  1.89it/s]\n"
     ]
    },
    {
     "name": "stdout",
     "output_type": "stream",
     "text": [
      "[antarctica_region] ✔ New best mIoU=0.9219 at epoch 13 → saved weights/abliation_regions/antarctica_region/best_model.pth\n"
     ]
    },
    {
     "name": "stderr",
     "output_type": "stream",
     "text": [
      "100%|██████████| 67/67 [00:34<00:00,  1.92it/s]\n",
      "100%|██████████| 67/67 [00:35<00:00,  1.91it/s]\n"
     ]
    },
    {
     "name": "stdout",
     "output_type": "stream",
     "text": [
      "[antarctica_region] ✔ New best mIoU=0.9246 at epoch 15 → saved weights/abliation_regions/antarctica_region/best_model.pth\n"
     ]
    },
    {
     "name": "stderr",
     "output_type": "stream",
     "text": [
      "100%|██████████| 67/67 [00:35<00:00,  1.91it/s]\n"
     ]
    },
    {
     "name": "stdout",
     "output_type": "stream",
     "text": [
      "[antarctica_region] ✔ New best mIoU=0.9296 at epoch 16 → saved weights/abliation_regions/antarctica_region/best_model.pth\n"
     ]
    },
    {
     "name": "stderr",
     "output_type": "stream",
     "text": [
      "100%|██████████| 67/67 [00:47<00:00,  1.42it/s]\n",
      "100%|██████████| 67/67 [00:47<00:00,  1.41it/s]\n"
     ]
    },
    {
     "name": "stdout",
     "output_type": "stream",
     "text": [
      "[antarctica_region] ✔ New best mIoU=0.9443 at epoch 18 → saved weights/abliation_regions/antarctica_region/best_model.pth\n"
     ]
    },
    {
     "name": "stderr",
     "output_type": "stream",
     "text": [
      "100%|██████████| 67/67 [00:34<00:00,  1.91it/s]\n",
      "100%|██████████| 67/67 [00:34<00:00,  1.92it/s]\n",
      "100%|██████████| 67/67 [00:46<00:00,  1.44it/s]\n",
      "100%|██████████| 67/67 [00:35<00:00,  1.90it/s]\n",
      "100%|██████████| 67/67 [00:35<00:00,  1.90it/s]\n",
      "100%|██████████| 67/67 [00:47<00:00,  1.42it/s]\n"
     ]
    },
    {
     "name": "stdout",
     "output_type": "stream",
     "text": [
      "[antarctica_region] ✔ New best mIoU=0.9487 at epoch 24 → saved weights/abliation_regions/antarctica_region/best_model.pth\n"
     ]
    },
    {
     "name": "stderr",
     "output_type": "stream",
     "text": [
      "100%|██████████| 67/67 [00:35<00:00,  1.91it/s]\n",
      "100%|██████████| 67/67 [00:34<00:00,  1.92it/s]\n",
      "100%|██████████| 67/67 [00:34<00:00,  1.93it/s]\n",
      "100%|██████████| 67/67 [00:46<00:00,  1.44it/s]\n",
      "100%|██████████| 67/67 [00:34<00:00,  1.96it/s]\n",
      "100%|██████████| 67/67 [00:31<00:00,  2.12it/s]\n"
     ]
    },
    {
     "name": "stdout",
     "output_type": "stream",
     "text": [
      "[antarctica_region] Finished. Best mIoU=0.9487 at epoch 24. Log: weights/abliation_regions/antarctica_region/training_log.txt\n",
      "\n",
      "=== Processing dataset config: alaska_region ===\n",
      "   ↳ Training only on regions: ['AWA']\n",
      "[INFO] Using device: cuda\n",
      "====================================================================================================\n",
      "Layer (type:depth-idx)                             Output Shape              Param #\n",
      "====================================================================================================\n",
      "SegFormer                                          [1, 2, 256, 256]          --\n",
      "├─MixVisionTransformer: 1-1                        [1, 16, 128, 128]         --\n",
      "│    └─ModuleList: 2-1                             --                        --\n",
      "│    │    └─MiTStage: 3-1                          [1, 16, 128, 128]         5,795\n",
      "│    │    └─MiTStage: 3-2                          [1, 32, 64, 64]           19,057\n",
      "│    │    └─MiTStage: 3-3                          [1, 64, 32, 32]           84,416\n",
      "│    │    └─MiTStage: 3-4                          [1, 128, 16, 16]          322,432\n",
      "├─SegFormerHead: 1-2                               [1, 2, 128, 128]          --\n",
      "│    └─ModuleList: 2-2                             --                        --\n",
      "│    │    └─Sequential: 3-5                        [1, 128, 128, 128]        2,304\n",
      "│    │    └─Sequential: 3-6                        [1, 128, 64, 64]          4,352\n",
      "│    │    └─Sequential: 3-7                        [1, 128, 32, 32]          8,448\n",
      "│    │    └─Sequential: 3-8                        [1, 128, 16, 16]          16,640\n",
      "│    └─Sequential: 2-3                             [1, 128, 128, 128]        --\n",
      "│    │    └─Conv2d: 3-9                            [1, 128, 128, 128]        65,536\n",
      "│    │    └─BatchNorm2d: 3-10                      [1, 128, 128, 128]        256\n",
      "│    │    └─ReLU: 3-11                             [1, 128, 128, 128]        --\n",
      "│    │    └─Conv2d: 3-12                           [1, 128, 128, 128]        147,456\n",
      "│    │    └─BatchNorm2d: 3-13                      [1, 128, 128, 128]        256\n",
      "│    │    └─ReLU: 3-14                             [1, 128, 128, 128]        --\n",
      "│    └─Conv2d: 2-4                                 [1, 2, 128, 128]          258\n",
      "====================================================================================================\n",
      "Total params: 677,206\n",
      "Trainable params: 677,206\n",
      "Non-trainable params: 0\n",
      "Total mult-adds (G): 3.60\n",
      "====================================================================================================\n",
      "Input size (MB): 2.88\n",
      "Forward/backward pass size (MB): 149.19\n",
      "Params size (MB): 2.06\n",
      "Estimated Total Size (MB): 154.14\n",
      "====================================================================================================\n",
      "[WARN] analyze_model failed: 'torch.device' object has no attribute 'startswith'\n"
     ]
    },
    {
     "name": "stderr",
     "output_type": "stream",
     "text": [
      "100%|██████████| 67/67 [00:56<00:00,  1.18it/s]\n"
     ]
    },
    {
     "name": "stdout",
     "output_type": "stream",
     "text": [
      "[alaska_region] ✔ New best mIoU=0.4115 at epoch 1 → saved weights/abliation_regions/alaska_region/best_model.pth\n"
     ]
    },
    {
     "name": "stderr",
     "output_type": "stream",
     "text": [
      "100%|██████████| 67/67 [00:33<00:00,  1.98it/s]\n"
     ]
    },
    {
     "name": "stdout",
     "output_type": "stream",
     "text": [
      "[alaska_region] ✔ New best mIoU=0.4753 at epoch 2 → saved weights/abliation_regions/alaska_region/best_model.pth\n"
     ]
    },
    {
     "name": "stderr",
     "output_type": "stream",
     "text": [
      "100%|██████████| 67/67 [00:33<00:00,  1.99it/s]\n"
     ]
    },
    {
     "name": "stdout",
     "output_type": "stream",
     "text": [
      "[alaska_region] ✔ New best mIoU=0.6030 at epoch 3 → saved weights/abliation_regions/alaska_region/best_model.pth\n"
     ]
    },
    {
     "name": "stderr",
     "output_type": "stream",
     "text": [
      "100%|██████████| 67/67 [00:45<00:00,  1.46it/s]\n",
      "100%|██████████| 67/67 [00:34<00:00,  1.95it/s]\n"
     ]
    },
    {
     "name": "stdout",
     "output_type": "stream",
     "text": [
      "[alaska_region] ✔ New best mIoU=0.6406 at epoch 5 → saved weights/abliation_regions/alaska_region/best_model.pth\n"
     ]
    },
    {
     "name": "stderr",
     "output_type": "stream",
     "text": [
      "100%|██████████| 67/67 [00:34<00:00,  1.92it/s]\n"
     ]
    },
    {
     "name": "stdout",
     "output_type": "stream",
     "text": [
      "[alaska_region] ✔ New best mIoU=0.6673 at epoch 6 → saved weights/abliation_regions/alaska_region/best_model.pth\n"
     ]
    },
    {
     "name": "stderr",
     "output_type": "stream",
     "text": [
      "100%|██████████| 67/67 [00:35<00:00,  1.90it/s]\n",
      "100%|██████████| 67/67 [00:46<00:00,  1.45it/s]\n"
     ]
    },
    {
     "name": "stdout",
     "output_type": "stream",
     "text": [
      "[alaska_region] ✔ New best mIoU=0.7369 at epoch 8 → saved weights/abliation_regions/alaska_region/best_model.pth\n"
     ]
    },
    {
     "name": "stderr",
     "output_type": "stream",
     "text": [
      "100%|██████████| 67/67 [00:35<00:00,  1.90it/s]\n",
      "100%|██████████| 67/67 [01:12<00:00,  1.08s/it]\n",
      "100%|██████████| 67/67 [00:35<00:00,  1.91it/s]\n",
      "100%|██████████| 67/67 [00:35<00:00,  1.88it/s]\n",
      "100%|██████████| 67/67 [00:35<00:00,  1.88it/s]\n",
      "100%|██████████| 67/67 [00:48<00:00,  1.39it/s]\n"
     ]
    },
    {
     "name": "stdout",
     "output_type": "stream",
     "text": [
      "[alaska_region] ✔ New best mIoU=0.7957 at epoch 14 → saved weights/abliation_regions/alaska_region/best_model.pth\n"
     ]
    },
    {
     "name": "stderr",
     "output_type": "stream",
     "text": [
      "100%|██████████| 67/67 [00:35<00:00,  1.88it/s]\n",
      "100%|██████████| 67/67 [00:35<00:00,  1.88it/s]\n",
      "100%|██████████| 67/67 [00:35<00:00,  1.89it/s]\n",
      "100%|██████████| 67/67 [00:35<00:00,  1.88it/s]\n"
     ]
    },
    {
     "name": "stdout",
     "output_type": "stream",
     "text": [
      "[alaska_region] ✔ New best mIoU=0.8195 at epoch 18 → saved weights/abliation_regions/alaska_region/best_model.pth\n"
     ]
    },
    {
     "name": "stderr",
     "output_type": "stream",
     "text": [
      "100%|██████████| 67/67 [00:35<00:00,  1.89it/s]\n"
     ]
    },
    {
     "name": "stdout",
     "output_type": "stream",
     "text": [
      "[alaska_region] ✔ New best mIoU=0.8308 at epoch 19 → saved weights/abliation_regions/alaska_region/best_model.pth\n"
     ]
    },
    {
     "name": "stderr",
     "output_type": "stream",
     "text": [
      "100%|██████████| 67/67 [00:35<00:00,  1.89it/s]\n",
      "100%|██████████| 67/67 [00:35<00:00,  1.87it/s]\n",
      "100%|██████████| 67/67 [00:36<00:00,  1.84it/s]\n",
      "100%|██████████| 67/67 [00:35<00:00,  1.89it/s]\n"
     ]
    },
    {
     "name": "stdout",
     "output_type": "stream",
     "text": [
      "[alaska_region] ✔ New best mIoU=0.8516 at epoch 23 → saved weights/abliation_regions/alaska_region/best_model.pth\n"
     ]
    },
    {
     "name": "stderr",
     "output_type": "stream",
     "text": [
      "100%|██████████| 67/67 [00:36<00:00,  1.86it/s]\n"
     ]
    },
    {
     "name": "stdout",
     "output_type": "stream",
     "text": [
      "[alaska_region] ✔ New best mIoU=0.8683 at epoch 24 → saved weights/abliation_regions/alaska_region/best_model.pth\n"
     ]
    },
    {
     "name": "stderr",
     "output_type": "stream",
     "text": [
      "100%|██████████| 67/67 [00:35<00:00,  1.87it/s]\n",
      "100%|██████████| 67/67 [00:35<00:00,  1.88it/s]\n",
      "100%|██████████| 67/67 [00:35<00:00,  1.88it/s]\n",
      "100%|██████████| 67/67 [00:36<00:00,  1.85it/s]\n",
      "100%|██████████| 67/67 [00:36<00:00,  1.83it/s]\n",
      "100%|██████████| 67/67 [00:36<00:00,  1.83it/s]\n"
     ]
    },
    {
     "name": "stdout",
     "output_type": "stream",
     "text": [
      "[alaska_region] Finished. Best mIoU=0.8683 at epoch 24. Log: weights/abliation_regions/alaska_region/training_log.txt\n",
      "\n",
      "=== Processing dataset config: caucasus_region ===\n",
      "   ↳ Training only on regions: ['CAU']\n",
      "[INFO] Using device: cuda\n",
      "====================================================================================================\n",
      "Layer (type:depth-idx)                             Output Shape              Param #\n",
      "====================================================================================================\n",
      "SegFormer                                          [1, 2, 256, 256]          --\n",
      "├─MixVisionTransformer: 1-1                        [1, 16, 128, 128]         --\n",
      "│    └─ModuleList: 2-1                             --                        --\n",
      "│    │    └─MiTStage: 3-1                          [1, 16, 128, 128]         5,795\n",
      "│    │    └─MiTStage: 3-2                          [1, 32, 64, 64]           19,057\n",
      "│    │    └─MiTStage: 3-3                          [1, 64, 32, 32]           84,416\n",
      "│    │    └─MiTStage: 3-4                          [1, 128, 16, 16]          322,432\n",
      "├─SegFormerHead: 1-2                               [1, 2, 128, 128]          --\n",
      "│    └─ModuleList: 2-2                             --                        --\n",
      "│    │    └─Sequential: 3-5                        [1, 128, 128, 128]        2,304\n",
      "│    │    └─Sequential: 3-6                        [1, 128, 64, 64]          4,352\n",
      "│    │    └─Sequential: 3-7                        [1, 128, 32, 32]          8,448\n",
      "│    │    └─Sequential: 3-8                        [1, 128, 16, 16]          16,640\n",
      "│    └─Sequential: 2-3                             [1, 128, 128, 128]        --\n",
      "│    │    └─Conv2d: 3-9                            [1, 128, 128, 128]        65,536\n",
      "│    │    └─BatchNorm2d: 3-10                      [1, 128, 128, 128]        256\n",
      "│    │    └─ReLU: 3-11                             [1, 128, 128, 128]        --\n",
      "│    │    └─Conv2d: 3-12                           [1, 128, 128, 128]        147,456\n",
      "│    │    └─BatchNorm2d: 3-13                      [1, 128, 128, 128]        256\n",
      "│    │    └─ReLU: 3-14                             [1, 128, 128, 128]        --\n",
      "│    └─Conv2d: 2-4                                 [1, 2, 128, 128]          258\n",
      "====================================================================================================\n",
      "Total params: 677,206\n",
      "Trainable params: 677,206\n",
      "Non-trainable params: 0\n",
      "Total mult-adds (G): 3.60\n",
      "====================================================================================================\n",
      "Input size (MB): 2.88\n",
      "Forward/backward pass size (MB): 149.19\n",
      "Params size (MB): 2.06\n",
      "Estimated Total Size (MB): 154.14\n",
      "====================================================================================================\n",
      "[WARN] analyze_model failed: 'torch.device' object has no attribute 'startswith'\n"
     ]
    },
    {
     "name": "stderr",
     "output_type": "stream",
     "text": [
      "100%|██████████| 67/67 [00:24<00:00,  2.69it/s]\n"
     ]
    },
    {
     "name": "stdout",
     "output_type": "stream",
     "text": [
      "[caucasus_region] ✔ New best mIoU=0.4226 at epoch 1 → saved weights/abliation_regions/caucasus_region/best_model.pth\n"
     ]
    },
    {
     "name": "stderr",
     "output_type": "stream",
     "text": [
      "100%|██████████| 67/67 [00:21<00:00,  3.09it/s]\n"
     ]
    },
    {
     "name": "stdout",
     "output_type": "stream",
     "text": [
      "[caucasus_region] ✔ New best mIoU=0.4975 at epoch 2 → saved weights/abliation_regions/caucasus_region/best_model.pth\n"
     ]
    },
    {
     "name": "stderr",
     "output_type": "stream",
     "text": [
      "100%|██████████| 67/67 [00:15<00:00,  4.27it/s]\n"
     ]
    },
    {
     "name": "stdout",
     "output_type": "stream",
     "text": [
      "[caucasus_region] ✔ New best mIoU=0.5406 at epoch 3 → saved weights/abliation_regions/caucasus_region/best_model.pth\n"
     ]
    },
    {
     "name": "stderr",
     "output_type": "stream",
     "text": [
      "100%|██████████| 67/67 [00:13<00:00,  5.02it/s]\n"
     ]
    },
    {
     "name": "stdout",
     "output_type": "stream",
     "text": [
      "[caucasus_region] ✔ New best mIoU=0.6427 at epoch 4 → saved weights/abliation_regions/caucasus_region/best_model.pth\n"
     ]
    },
    {
     "name": "stderr",
     "output_type": "stream",
     "text": [
      "100%|██████████| 67/67 [00:13<00:00,  4.92it/s]\n"
     ]
    },
    {
     "name": "stdout",
     "output_type": "stream",
     "text": [
      "[caucasus_region] ✔ New best mIoU=0.6730 at epoch 5 → saved weights/abliation_regions/caucasus_region/best_model.pth\n"
     ]
    },
    {
     "name": "stderr",
     "output_type": "stream",
     "text": [
      "100%|██████████| 67/67 [00:13<00:00,  5.03it/s]\n"
     ]
    },
    {
     "name": "stdout",
     "output_type": "stream",
     "text": [
      "[caucasus_region] ✔ New best mIoU=0.7654 at epoch 6 → saved weights/abliation_regions/caucasus_region/best_model.pth\n"
     ]
    },
    {
     "name": "stderr",
     "output_type": "stream",
     "text": [
      "100%|██████████| 67/67 [00:13<00:00,  4.94it/s]\n"
     ]
    },
    {
     "name": "stdout",
     "output_type": "stream",
     "text": [
      "[caucasus_region] ✔ New best mIoU=0.7960 at epoch 7 → saved weights/abliation_regions/caucasus_region/best_model.pth\n"
     ]
    },
    {
     "name": "stderr",
     "output_type": "stream",
     "text": [
      "100%|██████████| 67/67 [00:13<00:00,  4.91it/s]\n"
     ]
    },
    {
     "name": "stdout",
     "output_type": "stream",
     "text": [
      "[caucasus_region] ✔ New best mIoU=0.8064 at epoch 8 → saved weights/abliation_regions/caucasus_region/best_model.pth\n"
     ]
    },
    {
     "name": "stderr",
     "output_type": "stream",
     "text": [
      "100%|██████████| 67/67 [00:13<00:00,  4.87it/s]\n"
     ]
    },
    {
     "name": "stdout",
     "output_type": "stream",
     "text": [
      "[caucasus_region] ✔ New best mIoU=0.8498 at epoch 9 → saved weights/abliation_regions/caucasus_region/best_model.pth\n"
     ]
    },
    {
     "name": "stderr",
     "output_type": "stream",
     "text": [
      "100%|██████████| 67/67 [00:13<00:00,  4.98it/s]\n"
     ]
    },
    {
     "name": "stdout",
     "output_type": "stream",
     "text": [
      "[caucasus_region] ✔ New best mIoU=0.8587 at epoch 10 → saved weights/abliation_regions/caucasus_region/best_model.pth\n"
     ]
    },
    {
     "name": "stderr",
     "output_type": "stream",
     "text": [
      "100%|██████████| 67/67 [00:13<00:00,  4.91it/s]\n",
      "100%|██████████| 67/67 [00:13<00:00,  4.99it/s]\n"
     ]
    },
    {
     "name": "stdout",
     "output_type": "stream",
     "text": [
      "[caucasus_region] ✔ New best mIoU=0.8885 at epoch 12 → saved weights/abliation_regions/caucasus_region/best_model.pth\n"
     ]
    },
    {
     "name": "stderr",
     "output_type": "stream",
     "text": [
      "100%|██████████| 67/67 [00:13<00:00,  4.99it/s]\n",
      "100%|██████████| 67/67 [00:13<00:00,  4.99it/s]\n"
     ]
    },
    {
     "name": "stdout",
     "output_type": "stream",
     "text": [
      "[caucasus_region] ✔ New best mIoU=0.9024 at epoch 14 → saved weights/abliation_regions/caucasus_region/best_model.pth\n"
     ]
    },
    {
     "name": "stderr",
     "output_type": "stream",
     "text": [
      "100%|██████████| 67/67 [00:13<00:00,  4.90it/s]\n",
      "100%|██████████| 67/67 [00:13<00:00,  4.95it/s]\n"
     ]
    },
    {
     "name": "stdout",
     "output_type": "stream",
     "text": [
      "[caucasus_region] ✔ New best mIoU=0.9145 at epoch 16 → saved weights/abliation_regions/caucasus_region/best_model.pth\n"
     ]
    },
    {
     "name": "stderr",
     "output_type": "stream",
     "text": [
      "100%|██████████| 67/67 [00:13<00:00,  4.93it/s]\n",
      "100%|██████████| 67/67 [00:13<00:00,  4.91it/s]\n"
     ]
    },
    {
     "name": "stdout",
     "output_type": "stream",
     "text": [
      "[caucasus_region] ✔ New best mIoU=0.9192 at epoch 18 → saved weights/abliation_regions/caucasus_region/best_model.pth\n"
     ]
    },
    {
     "name": "stderr",
     "output_type": "stream",
     "text": [
      "100%|██████████| 67/67 [00:13<00:00,  4.99it/s]\n"
     ]
    },
    {
     "name": "stdout",
     "output_type": "stream",
     "text": [
      "[caucasus_region] ✔ New best mIoU=0.9309 at epoch 19 → saved weights/abliation_regions/caucasus_region/best_model.pth\n"
     ]
    },
    {
     "name": "stderr",
     "output_type": "stream",
     "text": [
      "100%|██████████| 67/67 [00:13<00:00,  4.88it/s]\n",
      "100%|██████████| 67/67 [00:13<00:00,  4.90it/s]\n",
      "100%|██████████| 67/67 [00:13<00:00,  4.95it/s]\n"
     ]
    },
    {
     "name": "stdout",
     "output_type": "stream",
     "text": [
      "[caucasus_region] ✔ New best mIoU=0.9385 at epoch 22 → saved weights/abliation_regions/caucasus_region/best_model.pth\n"
     ]
    },
    {
     "name": "stderr",
     "output_type": "stream",
     "text": [
      "100%|██████████| 67/67 [00:13<00:00,  4.90it/s]\n",
      "100%|██████████| 67/67 [00:13<00:00,  4.97it/s]\n",
      "100%|██████████| 67/67 [00:13<00:00,  4.96it/s]\n"
     ]
    },
    {
     "name": "stdout",
     "output_type": "stream",
     "text": [
      "[caucasus_region] ✔ New best mIoU=0.9429 at epoch 25 → saved weights/abliation_regions/caucasus_region/best_model.pth\n"
     ]
    },
    {
     "name": "stderr",
     "output_type": "stream",
     "text": [
      "100%|██████████| 67/67 [00:13<00:00,  4.98it/s]\n",
      "100%|██████████| 67/67 [00:13<00:00,  4.97it/s]\n",
      "100%|██████████| 67/67 [00:13<00:00,  4.99it/s]\n",
      "100%|██████████| 67/67 [00:13<00:00,  4.98it/s]\n"
     ]
    },
    {
     "name": "stdout",
     "output_type": "stream",
     "text": [
      "[caucasus_region] ✔ New best mIoU=0.9499 at epoch 29 → saved weights/abliation_regions/caucasus_region/best_model.pth\n"
     ]
    },
    {
     "name": "stderr",
     "output_type": "stream",
     "text": [
      "100%|██████████| 67/67 [00:13<00:00,  4.92it/s]\n"
     ]
    },
    {
     "name": "stdout",
     "output_type": "stream",
     "text": [
      "[caucasus_region] Finished. Best mIoU=0.9499 at epoch 29. Log: weights/abliation_regions/caucasus_region/training_log.txt\n",
      "\n",
      "=== Processing dataset config: greenland_region ===\n",
      "   ↳ Training only on regions: ['GR']\n",
      "[INFO] Using device: cuda\n",
      "====================================================================================================\n",
      "Layer (type:depth-idx)                             Output Shape              Param #\n",
      "====================================================================================================\n",
      "SegFormer                                          [1, 2, 256, 256]          --\n",
      "├─MixVisionTransformer: 1-1                        [1, 16, 128, 128]         --\n",
      "│    └─ModuleList: 2-1                             --                        --\n",
      "│    │    └─MiTStage: 3-1                          [1, 16, 128, 128]         5,795\n",
      "│    │    └─MiTStage: 3-2                          [1, 32, 64, 64]           19,057\n",
      "│    │    └─MiTStage: 3-3                          [1, 64, 32, 32]           84,416\n",
      "│    │    └─MiTStage: 3-4                          [1, 128, 16, 16]          322,432\n",
      "├─SegFormerHead: 1-2                               [1, 2, 128, 128]          --\n",
      "│    └─ModuleList: 2-2                             --                        --\n",
      "│    │    └─Sequential: 3-5                        [1, 128, 128, 128]        2,304\n",
      "│    │    └─Sequential: 3-6                        [1, 128, 64, 64]          4,352\n",
      "│    │    └─Sequential: 3-7                        [1, 128, 32, 32]          8,448\n",
      "│    │    └─Sequential: 3-8                        [1, 128, 16, 16]          16,640\n",
      "│    └─Sequential: 2-3                             [1, 128, 128, 128]        --\n",
      "│    │    └─Conv2d: 3-9                            [1, 128, 128, 128]        65,536\n",
      "│    │    └─BatchNorm2d: 3-10                      [1, 128, 128, 128]        256\n",
      "│    │    └─ReLU: 3-11                             [1, 128, 128, 128]        --\n",
      "│    │    └─Conv2d: 3-12                           [1, 128, 128, 128]        147,456\n",
      "│    │    └─BatchNorm2d: 3-13                      [1, 128, 128, 128]        256\n",
      "│    │    └─ReLU: 3-14                             [1, 128, 128, 128]        --\n",
      "│    └─Conv2d: 2-4                                 [1, 2, 128, 128]          258\n",
      "====================================================================================================\n",
      "Total params: 677,206\n",
      "Trainable params: 677,206\n",
      "Non-trainable params: 0\n",
      "Total mult-adds (G): 3.60\n",
      "====================================================================================================\n",
      "Input size (MB): 2.88\n",
      "Forward/backward pass size (MB): 149.19\n",
      "Params size (MB): 2.06\n",
      "Estimated Total Size (MB): 154.14\n",
      "====================================================================================================\n",
      "[WARN] analyze_model failed: 'torch.device' object has no attribute 'startswith'\n"
     ]
    },
    {
     "name": "stderr",
     "output_type": "stream",
     "text": [
      "100%|██████████| 67/67 [00:50<00:00,  1.33it/s]\n"
     ]
    },
    {
     "name": "stdout",
     "output_type": "stream",
     "text": [
      "[greenland_region] ✔ New best mIoU=0.3662 at epoch 1 → saved weights/abliation_regions/greenland_region/best_model.pth\n"
     ]
    },
    {
     "name": "stderr",
     "output_type": "stream",
     "text": [
      "100%|██████████| 67/67 [00:49<00:00,  1.34it/s]\n"
     ]
    },
    {
     "name": "stdout",
     "output_type": "stream",
     "text": [
      "[greenland_region] ✔ New best mIoU=0.4077 at epoch 2 → saved weights/abliation_regions/greenland_region/best_model.pth\n"
     ]
    },
    {
     "name": "stderr",
     "output_type": "stream",
     "text": [
      "100%|██████████| 67/67 [01:02<00:00,  1.07it/s]\n"
     ]
    },
    {
     "name": "stdout",
     "output_type": "stream",
     "text": [
      "[greenland_region] ✔ New best mIoU=0.5056 at epoch 3 → saved weights/abliation_regions/greenland_region/best_model.pth\n"
     ]
    },
    {
     "name": "stderr",
     "output_type": "stream",
     "text": [
      "100%|██████████| 67/67 [01:02<00:00,  1.07it/s]\n"
     ]
    },
    {
     "name": "stdout",
     "output_type": "stream",
     "text": [
      "[greenland_region] ✔ New best mIoU=0.5408 at epoch 4 → saved weights/abliation_regions/greenland_region/best_model.pth\n"
     ]
    },
    {
     "name": "stderr",
     "output_type": "stream",
     "text": [
      "100%|██████████| 67/67 [01:03<00:00,  1.05it/s]\n"
     ]
    },
    {
     "name": "stdout",
     "output_type": "stream",
     "text": [
      "[greenland_region] ✔ New best mIoU=0.5948 at epoch 5 → saved weights/abliation_regions/greenland_region/best_model.pth\n"
     ]
    },
    {
     "name": "stderr",
     "output_type": "stream",
     "text": [
      "100%|██████████| 67/67 [00:51<00:00,  1.30it/s]\n"
     ]
    },
    {
     "name": "stdout",
     "output_type": "stream",
     "text": [
      "[greenland_region] ✔ New best mIoU=0.6194 at epoch 6 → saved weights/abliation_regions/greenland_region/best_model.pth\n"
     ]
    },
    {
     "name": "stderr",
     "output_type": "stream",
     "text": [
      "100%|██████████| 67/67 [00:50<00:00,  1.32it/s]\n"
     ]
    },
    {
     "name": "stdout",
     "output_type": "stream",
     "text": [
      "[greenland_region] ✔ New best mIoU=0.6255 at epoch 7 → saved weights/abliation_regions/greenland_region/best_model.pth\n"
     ]
    },
    {
     "name": "stderr",
     "output_type": "stream",
     "text": [
      "100%|██████████| 67/67 [00:50<00:00,  1.32it/s]\n"
     ]
    },
    {
     "name": "stdout",
     "output_type": "stream",
     "text": [
      "[greenland_region] ✔ New best mIoU=0.6716 at epoch 8 → saved weights/abliation_regions/greenland_region/best_model.pth\n"
     ]
    },
    {
     "name": "stderr",
     "output_type": "stream",
     "text": [
      "100%|██████████| 67/67 [01:13<00:00,  1.10s/it]\n"
     ]
    },
    {
     "name": "stdout",
     "output_type": "stream",
     "text": [
      "[greenland_region] ✔ New best mIoU=0.6824 at epoch 9 → saved weights/abliation_regions/greenland_region/best_model.pth\n"
     ]
    },
    {
     "name": "stderr",
     "output_type": "stream",
     "text": [
      "100%|██████████| 67/67 [01:02<00:00,  1.08it/s]\n",
      "100%|██████████| 67/67 [01:02<00:00,  1.07it/s]\n"
     ]
    },
    {
     "name": "stdout",
     "output_type": "stream",
     "text": [
      "[greenland_region] ✔ New best mIoU=0.7359 at epoch 11 → saved weights/abliation_regions/greenland_region/best_model.pth\n"
     ]
    },
    {
     "name": "stderr",
     "output_type": "stream",
     "text": [
      "100%|██████████| 67/67 [00:51<00:00,  1.30it/s]\n",
      "100%|██████████| 67/67 [00:51<00:00,  1.29it/s]\n"
     ]
    },
    {
     "name": "stdout",
     "output_type": "stream",
     "text": [
      "[greenland_region] ✔ New best mIoU=0.7801 at epoch 13 → saved weights/abliation_regions/greenland_region/best_model.pth\n"
     ]
    },
    {
     "name": "stderr",
     "output_type": "stream",
     "text": [
      "100%|██████████| 67/67 [01:03<00:00,  1.06it/s]\n"
     ]
    },
    {
     "name": "stdout",
     "output_type": "stream",
     "text": [
      "[greenland_region] ✔ New best mIoU=0.8006 at epoch 14 → saved weights/abliation_regions/greenland_region/best_model.pth\n"
     ]
    },
    {
     "name": "stderr",
     "output_type": "stream",
     "text": [
      "100%|██████████| 67/67 [00:51<00:00,  1.30it/s]\n",
      "100%|██████████| 67/67 [01:03<00:00,  1.05it/s]\n",
      "100%|██████████| 67/67 [00:52<00:00,  1.27it/s]\n"
     ]
    },
    {
     "name": "stdout",
     "output_type": "stream",
     "text": [
      "[greenland_region] ✔ New best mIoU=0.8179 at epoch 17 → saved weights/abliation_regions/greenland_region/best_model.pth\n"
     ]
    },
    {
     "name": "stderr",
     "output_type": "stream",
     "text": [
      "100%|██████████| 67/67 [00:51<00:00,  1.29it/s]\n"
     ]
    },
    {
     "name": "stdout",
     "output_type": "stream",
     "text": [
      "[greenland_region] ✔ New best mIoU=0.8210 at epoch 18 → saved weights/abliation_regions/greenland_region/best_model.pth\n"
     ]
    },
    {
     "name": "stderr",
     "output_type": "stream",
     "text": [
      "100%|██████████| 67/67 [00:50<00:00,  1.32it/s]\n",
      "100%|██████████| 67/67 [00:52<00:00,  1.29it/s]\n"
     ]
    },
    {
     "name": "stdout",
     "output_type": "stream",
     "text": [
      "[greenland_region] ✔ New best mIoU=0.8521 at epoch 20 → saved weights/abliation_regions/greenland_region/best_model.pth\n"
     ]
    },
    {
     "name": "stderr",
     "output_type": "stream",
     "text": [
      "100%|██████████| 67/67 [00:51<00:00,  1.31it/s]\n",
      "100%|██████████| 67/67 [01:04<00:00,  1.04it/s]\n",
      "100%|██████████| 67/67 [00:51<00:00,  1.30it/s]\n"
     ]
    },
    {
     "name": "stdout",
     "output_type": "stream",
     "text": [
      "[greenland_region] ✔ New best mIoU=0.8549 at epoch 23 → saved weights/abliation_regions/greenland_region/best_model.pth\n"
     ]
    },
    {
     "name": "stderr",
     "output_type": "stream",
     "text": [
      "100%|██████████| 67/67 [00:51<00:00,  1.31it/s]\n"
     ]
    },
    {
     "name": "stdout",
     "output_type": "stream",
     "text": [
      "[greenland_region] ✔ New best mIoU=0.8782 at epoch 24 → saved weights/abliation_regions/greenland_region/best_model.pth\n"
     ]
    },
    {
     "name": "stderr",
     "output_type": "stream",
     "text": [
      "100%|██████████| 67/67 [00:51<00:00,  1.29it/s]\n",
      "100%|██████████| 67/67 [01:04<00:00,  1.04it/s]\n",
      "100%|██████████| 67/67 [01:06<00:00,  1.01it/s]\n",
      "100%|██████████| 67/67 [01:05<00:00,  1.02it/s]\n"
     ]
    },
    {
     "name": "stdout",
     "output_type": "stream",
     "text": [
      "[greenland_region] ✔ New best mIoU=0.8989 at epoch 28 → saved weights/abliation_regions/greenland_region/best_model.pth\n"
     ]
    },
    {
     "name": "stderr",
     "output_type": "stream",
     "text": [
      "100%|██████████| 67/67 [00:52<00:00,  1.29it/s]\n",
      "100%|██████████| 67/67 [00:52<00:00,  1.28it/s]\n"
     ]
    },
    {
     "name": "stdout",
     "output_type": "stream",
     "text": [
      "[greenland_region] Finished. Best mIoU=0.8989 at epoch 28. Log: weights/abliation_regions/greenland_region/training_log.txt\n",
      "\n",
      "=== Processing dataset config: hma_region ===\n",
      "   ↳ Training only on regions: ['HMA']\n",
      "[INFO] Using device: cuda\n",
      "====================================================================================================\n",
      "Layer (type:depth-idx)                             Output Shape              Param #\n",
      "====================================================================================================\n",
      "SegFormer                                          [1, 2, 256, 256]          --\n",
      "├─MixVisionTransformer: 1-1                        [1, 16, 128, 128]         --\n",
      "│    └─ModuleList: 2-1                             --                        --\n",
      "│    │    └─MiTStage: 3-1                          [1, 16, 128, 128]         5,795\n",
      "│    │    └─MiTStage: 3-2                          [1, 32, 64, 64]           19,057\n",
      "│    │    └─MiTStage: 3-3                          [1, 64, 32, 32]           84,416\n",
      "│    │    └─MiTStage: 3-4                          [1, 128, 16, 16]          322,432\n",
      "├─SegFormerHead: 1-2                               [1, 2, 128, 128]          --\n",
      "│    └─ModuleList: 2-2                             --                        --\n",
      "│    │    └─Sequential: 3-5                        [1, 128, 128, 128]        2,304\n",
      "│    │    └─Sequential: 3-6                        [1, 128, 64, 64]          4,352\n",
      "│    │    └─Sequential: 3-7                        [1, 128, 32, 32]          8,448\n",
      "│    │    └─Sequential: 3-8                        [1, 128, 16, 16]          16,640\n",
      "│    └─Sequential: 2-3                             [1, 128, 128, 128]        --\n",
      "│    │    └─Conv2d: 3-9                            [1, 128, 128, 128]        65,536\n",
      "│    │    └─BatchNorm2d: 3-10                      [1, 128, 128, 128]        256\n",
      "│    │    └─ReLU: 3-11                             [1, 128, 128, 128]        --\n",
      "│    │    └─Conv2d: 3-12                           [1, 128, 128, 128]        147,456\n",
      "│    │    └─BatchNorm2d: 3-13                      [1, 128, 128, 128]        256\n",
      "│    │    └─ReLU: 3-14                             [1, 128, 128, 128]        --\n",
      "│    └─Conv2d: 2-4                                 [1, 2, 128, 128]          258\n",
      "====================================================================================================\n",
      "Total params: 677,206\n",
      "Trainable params: 677,206\n",
      "Non-trainable params: 0\n",
      "Total mult-adds (G): 3.60\n",
      "====================================================================================================\n",
      "Input size (MB): 2.88\n",
      "Forward/backward pass size (MB): 149.19\n",
      "Params size (MB): 2.06\n",
      "Estimated Total Size (MB): 154.14\n",
      "====================================================================================================\n",
      "[WARN] analyze_model failed: 'torch.device' object has no attribute 'startswith'\n"
     ]
    },
    {
     "name": "stderr",
     "output_type": "stream",
     "text": [
      "100%|██████████| 67/67 [00:32<00:00,  2.05it/s]\n"
     ]
    },
    {
     "name": "stdout",
     "output_type": "stream",
     "text": [
      "[hma_region] ✔ New best mIoU=0.4730 at epoch 1 → saved weights/abliation_regions/hma_region/best_model.pth\n"
     ]
    },
    {
     "name": "stderr",
     "output_type": "stream",
     "text": [
      "100%|██████████| 67/67 [00:33<00:00,  1.98it/s]\n"
     ]
    },
    {
     "name": "stdout",
     "output_type": "stream",
     "text": [
      "[hma_region] ✔ New best mIoU=0.5813 at epoch 2 → saved weights/abliation_regions/hma_region/best_model.pth\n"
     ]
    },
    {
     "name": "stderr",
     "output_type": "stream",
     "text": [
      "100%|██████████| 67/67 [00:46<00:00,  1.44it/s]\n",
      "100%|██████████| 67/67 [00:34<00:00,  1.96it/s]\n"
     ]
    },
    {
     "name": "stdout",
     "output_type": "stream",
     "text": [
      "[hma_region] ✔ New best mIoU=0.6612 at epoch 4 → saved weights/abliation_regions/hma_region/best_model.pth\n"
     ]
    },
    {
     "name": "stderr",
     "output_type": "stream",
     "text": [
      "100%|██████████| 67/67 [00:33<00:00,  1.98it/s]\n"
     ]
    },
    {
     "name": "stdout",
     "output_type": "stream",
     "text": [
      "[hma_region] ✔ New best mIoU=0.7080 at epoch 5 → saved weights/abliation_regions/hma_region/best_model.pth\n"
     ]
    },
    {
     "name": "stderr",
     "output_type": "stream",
     "text": [
      "100%|██████████| 67/67 [00:34<00:00,  1.92it/s]\n"
     ]
    },
    {
     "name": "stdout",
     "output_type": "stream",
     "text": [
      "[hma_region] ✔ New best mIoU=0.7214 at epoch 6 → saved weights/abliation_regions/hma_region/best_model.pth\n"
     ]
    },
    {
     "name": "stderr",
     "output_type": "stream",
     "text": [
      "100%|██████████| 67/67 [00:34<00:00,  1.93it/s]\n"
     ]
    },
    {
     "name": "stdout",
     "output_type": "stream",
     "text": [
      "[hma_region] ✔ New best mIoU=0.7569 at epoch 7 → saved weights/abliation_regions/hma_region/best_model.pth\n"
     ]
    },
    {
     "name": "stderr",
     "output_type": "stream",
     "text": [
      "100%|██████████| 67/67 [00:34<00:00,  1.95it/s]\n"
     ]
    },
    {
     "name": "stdout",
     "output_type": "stream",
     "text": [
      "[hma_region] ✔ New best mIoU=0.7581 at epoch 8 → saved weights/abliation_regions/hma_region/best_model.pth\n"
     ]
    },
    {
     "name": "stderr",
     "output_type": "stream",
     "text": [
      "100%|██████████| 67/67 [00:34<00:00,  1.93it/s]\n"
     ]
    },
    {
     "name": "stdout",
     "output_type": "stream",
     "text": [
      "[hma_region] ✔ New best mIoU=0.7805 at epoch 9 → saved weights/abliation_regions/hma_region/best_model.pth\n"
     ]
    },
    {
     "name": "stderr",
     "output_type": "stream",
     "text": [
      "100%|██████████| 67/67 [00:34<00:00,  1.93it/s]\n",
      "100%|██████████| 67/67 [00:34<00:00,  1.92it/s]\n"
     ]
    },
    {
     "name": "stdout",
     "output_type": "stream",
     "text": [
      "[hma_region] ✔ New best mIoU=0.7830 at epoch 11 → saved weights/abliation_regions/hma_region/best_model.pth\n"
     ]
    },
    {
     "name": "stderr",
     "output_type": "stream",
     "text": [
      "100%|██████████| 67/67 [00:47<00:00,  1.40it/s]\n"
     ]
    },
    {
     "name": "stdout",
     "output_type": "stream",
     "text": [
      "[hma_region] ✔ New best mIoU=0.8106 at epoch 12 → saved weights/abliation_regions/hma_region/best_model.pth\n"
     ]
    },
    {
     "name": "stderr",
     "output_type": "stream",
     "text": [
      "100%|██████████| 67/67 [00:47<00:00,  1.41it/s]\n",
      "100%|██████████| 67/67 [00:35<00:00,  1.87it/s]\n"
     ]
    },
    {
     "name": "stdout",
     "output_type": "stream",
     "text": [
      "[hma_region] ✔ New best mIoU=0.8233 at epoch 14 → saved weights/abliation_regions/hma_region/best_model.pth\n"
     ]
    },
    {
     "name": "stderr",
     "output_type": "stream",
     "text": [
      "100%|██████████| 67/67 [00:35<00:00,  1.90it/s]\n"
     ]
    },
    {
     "name": "stdout",
     "output_type": "stream",
     "text": [
      "[hma_region] ✔ New best mIoU=0.8234 at epoch 15 → saved weights/abliation_regions/hma_region/best_model.pth\n"
     ]
    },
    {
     "name": "stderr",
     "output_type": "stream",
     "text": [
      "100%|██████████| 67/67 [00:35<00:00,  1.89it/s]\n"
     ]
    },
    {
     "name": "stdout",
     "output_type": "stream",
     "text": [
      "[hma_region] ✔ New best mIoU=0.8244 at epoch 16 → saved weights/abliation_regions/hma_region/best_model.pth\n"
     ]
    },
    {
     "name": "stderr",
     "output_type": "stream",
     "text": [
      "100%|██████████| 67/67 [00:35<00:00,  1.89it/s]\n"
     ]
    },
    {
     "name": "stdout",
     "output_type": "stream",
     "text": [
      "[hma_region] ✔ New best mIoU=0.8334 at epoch 17 → saved weights/abliation_regions/hma_region/best_model.pth\n"
     ]
    },
    {
     "name": "stderr",
     "output_type": "stream",
     "text": [
      "100%|██████████| 67/67 [00:35<00:00,  1.89it/s]\n"
     ]
    },
    {
     "name": "stdout",
     "output_type": "stream",
     "text": [
      "[hma_region] ✔ New best mIoU=0.8436 at epoch 18 → saved weights/abliation_regions/hma_region/best_model.pth\n"
     ]
    },
    {
     "name": "stderr",
     "output_type": "stream",
     "text": [
      "100%|██████████| 67/67 [00:35<00:00,  1.89it/s]\n"
     ]
    },
    {
     "name": "stdout",
     "output_type": "stream",
     "text": [
      "[hma_region] ✔ New best mIoU=0.8519 at epoch 19 → saved weights/abliation_regions/hma_region/best_model.pth\n"
     ]
    },
    {
     "name": "stderr",
     "output_type": "stream",
     "text": [
      "100%|██████████| 67/67 [00:35<00:00,  1.88it/s]\n",
      "100%|██████████| 67/67 [00:34<00:00,  1.93it/s]\n"
     ]
    },
    {
     "name": "stdout",
     "output_type": "stream",
     "text": [
      "[hma_region] ✔ New best mIoU=0.8628 at epoch 21 → saved weights/abliation_regions/hma_region/best_model.pth\n"
     ]
    },
    {
     "name": "stderr",
     "output_type": "stream",
     "text": [
      "100%|██████████| 67/67 [00:35<00:00,  1.90it/s]\n",
      "100%|██████████| 67/67 [00:35<00:00,  1.89it/s]\n",
      "100%|██████████| 67/67 [00:47<00:00,  1.41it/s]\n"
     ]
    },
    {
     "name": "stdout",
     "output_type": "stream",
     "text": [
      "[hma_region] ✔ New best mIoU=0.8800 at epoch 24 → saved weights/abliation_regions/hma_region/best_model.pth\n"
     ]
    },
    {
     "name": "stderr",
     "output_type": "stream",
     "text": [
      "100%|██████████| 67/67 [00:35<00:00,  1.90it/s]\n",
      "100%|██████████| 67/67 [00:35<00:00,  1.91it/s]\n",
      "100%|██████████| 67/67 [00:35<00:00,  1.89it/s]\n",
      "100%|██████████| 67/67 [00:31<00:00,  2.10it/s]\n"
     ]
    },
    {
     "name": "stdout",
     "output_type": "stream",
     "text": [
      "[hma_region] ✔ New best mIoU=0.8813 at epoch 28 → saved weights/abliation_regions/hma_region/best_model.pth\n"
     ]
    },
    {
     "name": "stderr",
     "output_type": "stream",
     "text": [
      "100%|██████████| 67/67 [00:30<00:00,  2.17it/s]\n",
      "100%|██████████| 67/67 [00:31<00:00,  2.13it/s]\n"
     ]
    },
    {
     "name": "stdout",
     "output_type": "stream",
     "text": [
      "[hma_region] Finished. Best mIoU=0.8813 at epoch 28. Log: weights/abliation_regions/hma_region/training_log.txt\n",
      "\n",
      "=== Processing dataset config: lowlat_region ===\n",
      "   ↳ Training only on regions: ['LL5']\n",
      "[INFO] Using device: cuda\n",
      "====================================================================================================\n",
      "Layer (type:depth-idx)                             Output Shape              Param #\n",
      "====================================================================================================\n",
      "SegFormer                                          [1, 2, 256, 256]          --\n",
      "├─MixVisionTransformer: 1-1                        [1, 16, 128, 128]         --\n",
      "│    └─ModuleList: 2-1                             --                        --\n",
      "│    │    └─MiTStage: 3-1                          [1, 16, 128, 128]         5,795\n",
      "│    │    └─MiTStage: 3-2                          [1, 32, 64, 64]           19,057\n",
      "│    │    └─MiTStage: 3-3                          [1, 64, 32, 32]           84,416\n",
      "│    │    └─MiTStage: 3-4                          [1, 128, 16, 16]          322,432\n",
      "├─SegFormerHead: 1-2                               [1, 2, 128, 128]          --\n",
      "│    └─ModuleList: 2-2                             --                        --\n",
      "│    │    └─Sequential: 3-5                        [1, 128, 128, 128]        2,304\n",
      "│    │    └─Sequential: 3-6                        [1, 128, 64, 64]          4,352\n",
      "│    │    └─Sequential: 3-7                        [1, 128, 32, 32]          8,448\n",
      "│    │    └─Sequential: 3-8                        [1, 128, 16, 16]          16,640\n",
      "│    └─Sequential: 2-3                             [1, 128, 128, 128]        --\n",
      "│    │    └─Conv2d: 3-9                            [1, 128, 128, 128]        65,536\n",
      "│    │    └─BatchNorm2d: 3-10                      [1, 128, 128, 128]        256\n",
      "│    │    └─ReLU: 3-11                             [1, 128, 128, 128]        --\n",
      "│    │    └─Conv2d: 3-12                           [1, 128, 128, 128]        147,456\n",
      "│    │    └─BatchNorm2d: 3-13                      [1, 128, 128, 128]        256\n",
      "│    │    └─ReLU: 3-14                             [1, 128, 128, 128]        --\n",
      "│    └─Conv2d: 2-4                                 [1, 2, 128, 128]          258\n",
      "====================================================================================================\n",
      "Total params: 677,206\n",
      "Trainable params: 677,206\n",
      "Non-trainable params: 0\n",
      "Total mult-adds (G): 3.60\n",
      "====================================================================================================\n",
      "Input size (MB): 2.88\n",
      "Forward/backward pass size (MB): 149.19\n",
      "Params size (MB): 2.06\n",
      "Estimated Total Size (MB): 154.14\n",
      "====================================================================================================\n",
      "[WARN] analyze_model failed: 'torch.device' object has no attribute 'startswith'\n"
     ]
    },
    {
     "name": "stderr",
     "output_type": "stream",
     "text": [
      "100%|██████████| 67/67 [00:16<00:00,  4.17it/s]\n"
     ]
    },
    {
     "name": "stdout",
     "output_type": "stream",
     "text": [
      "[lowlat_region] ✔ New best mIoU=0.0658 at epoch 1 → saved weights/abliation_regions/lowlat_region/best_model.pth\n"
     ]
    },
    {
     "name": "stderr",
     "output_type": "stream",
     "text": [
      "100%|██████████| 67/67 [00:13<00:00,  4.82it/s]\n"
     ]
    },
    {
     "name": "stdout",
     "output_type": "stream",
     "text": [
      "[lowlat_region] ✔ New best mIoU=0.1076 at epoch 2 → saved weights/abliation_regions/lowlat_region/best_model.pth\n"
     ]
    },
    {
     "name": "stderr",
     "output_type": "stream",
     "text": [
      "100%|██████████| 67/67 [00:13<00:00,  4.90it/s]\n"
     ]
    },
    {
     "name": "stdout",
     "output_type": "stream",
     "text": [
      "[lowlat_region] ✔ New best mIoU=0.2750 at epoch 3 → saved weights/abliation_regions/lowlat_region/best_model.pth\n"
     ]
    },
    {
     "name": "stderr",
     "output_type": "stream",
     "text": [
      "100%|██████████| 67/67 [00:13<00:00,  4.97it/s]\n"
     ]
    },
    {
     "name": "stdout",
     "output_type": "stream",
     "text": [
      "[lowlat_region] ✔ New best mIoU=0.3134 at epoch 4 → saved weights/abliation_regions/lowlat_region/best_model.pth\n"
     ]
    },
    {
     "name": "stderr",
     "output_type": "stream",
     "text": [
      "100%|██████████| 67/67 [00:13<00:00,  4.86it/s]\n"
     ]
    },
    {
     "name": "stdout",
     "output_type": "stream",
     "text": [
      "[lowlat_region] ✔ New best mIoU=0.3750 at epoch 5 → saved weights/abliation_regions/lowlat_region/best_model.pth\n"
     ]
    },
    {
     "name": "stderr",
     "output_type": "stream",
     "text": [
      "100%|██████████| 67/67 [00:13<00:00,  4.95it/s]\n"
     ]
    },
    {
     "name": "stdout",
     "output_type": "stream",
     "text": [
      "[lowlat_region] ✔ New best mIoU=0.4160 at epoch 6 → saved weights/abliation_regions/lowlat_region/best_model.pth\n"
     ]
    },
    {
     "name": "stderr",
     "output_type": "stream",
     "text": [
      "100%|██████████| 67/67 [00:13<00:00,  4.95it/s]\n"
     ]
    },
    {
     "name": "stdout",
     "output_type": "stream",
     "text": [
      "[lowlat_region] ✔ New best mIoU=0.5096 at epoch 7 → saved weights/abliation_regions/lowlat_region/best_model.pth\n"
     ]
    },
    {
     "name": "stderr",
     "output_type": "stream",
     "text": [
      "100%|██████████| 67/67 [00:13<00:00,  4.80it/s]\n"
     ]
    },
    {
     "name": "stdout",
     "output_type": "stream",
     "text": [
      "[lowlat_region] ✔ New best mIoU=0.5929 at epoch 8 → saved weights/abliation_regions/lowlat_region/best_model.pth\n"
     ]
    },
    {
     "name": "stderr",
     "output_type": "stream",
     "text": [
      "100%|██████████| 67/67 [00:13<00:00,  4.91it/s]\n"
     ]
    },
    {
     "name": "stdout",
     "output_type": "stream",
     "text": [
      "[lowlat_region] ✔ New best mIoU=0.6411 at epoch 9 → saved weights/abliation_regions/lowlat_region/best_model.pth\n"
     ]
    },
    {
     "name": "stderr",
     "output_type": "stream",
     "text": [
      "100%|██████████| 67/67 [00:13<00:00,  4.91it/s]\n"
     ]
    },
    {
     "name": "stdout",
     "output_type": "stream",
     "text": [
      "[lowlat_region] ✔ New best mIoU=0.6557 at epoch 10 → saved weights/abliation_regions/lowlat_region/best_model.pth\n"
     ]
    },
    {
     "name": "stderr",
     "output_type": "stream",
     "text": [
      "100%|██████████| 67/67 [00:13<00:00,  4.97it/s]\n"
     ]
    },
    {
     "name": "stdout",
     "output_type": "stream",
     "text": [
      "[lowlat_region] ✔ New best mIoU=0.6729 at epoch 11 → saved weights/abliation_regions/lowlat_region/best_model.pth\n"
     ]
    },
    {
     "name": "stderr",
     "output_type": "stream",
     "text": [
      "100%|██████████| 67/67 [00:13<00:00,  4.96it/s]\n"
     ]
    },
    {
     "name": "stdout",
     "output_type": "stream",
     "text": [
      "[lowlat_region] ✔ New best mIoU=0.7359 at epoch 12 → saved weights/abliation_regions/lowlat_region/best_model.pth\n"
     ]
    },
    {
     "name": "stderr",
     "output_type": "stream",
     "text": [
      "100%|██████████| 67/67 [00:13<00:00,  4.98it/s]\n"
     ]
    },
    {
     "name": "stdout",
     "output_type": "stream",
     "text": [
      "[lowlat_region] ✔ New best mIoU=0.7656 at epoch 13 → saved weights/abliation_regions/lowlat_region/best_model.pth\n"
     ]
    },
    {
     "name": "stderr",
     "output_type": "stream",
     "text": [
      "100%|██████████| 67/67 [00:13<00:00,  4.90it/s]\n"
     ]
    },
    {
     "name": "stdout",
     "output_type": "stream",
     "text": [
      "[lowlat_region] ✔ New best mIoU=0.7953 at epoch 14 → saved weights/abliation_regions/lowlat_region/best_model.pth\n"
     ]
    },
    {
     "name": "stderr",
     "output_type": "stream",
     "text": [
      "100%|██████████| 67/67 [00:13<00:00,  4.92it/s]\n"
     ]
    },
    {
     "name": "stdout",
     "output_type": "stream",
     "text": [
      "[lowlat_region] ✔ New best mIoU=0.8201 at epoch 15 → saved weights/abliation_regions/lowlat_region/best_model.pth\n"
     ]
    },
    {
     "name": "stderr",
     "output_type": "stream",
     "text": [
      "100%|██████████| 67/67 [00:13<00:00,  4.87it/s]\n"
     ]
    },
    {
     "name": "stdout",
     "output_type": "stream",
     "text": [
      "[lowlat_region] ✔ New best mIoU=0.8230 at epoch 16 → saved weights/abliation_regions/lowlat_region/best_model.pth\n"
     ]
    },
    {
     "name": "stderr",
     "output_type": "stream",
     "text": [
      "100%|██████████| 67/67 [00:13<00:00,  4.89it/s]\n"
     ]
    },
    {
     "name": "stdout",
     "output_type": "stream",
     "text": [
      "[lowlat_region] ✔ New best mIoU=0.8502 at epoch 17 → saved weights/abliation_regions/lowlat_region/best_model.pth\n"
     ]
    },
    {
     "name": "stderr",
     "output_type": "stream",
     "text": [
      "100%|██████████| 67/67 [00:13<00:00,  4.95it/s]\n",
      "100%|██████████| 67/67 [00:13<00:00,  4.90it/s]\n"
     ]
    },
    {
     "name": "stdout",
     "output_type": "stream",
     "text": [
      "[lowlat_region] ✔ New best mIoU=0.8868 at epoch 19 → saved weights/abliation_regions/lowlat_region/best_model.pth\n"
     ]
    },
    {
     "name": "stderr",
     "output_type": "stream",
     "text": [
      "100%|██████████| 67/67 [00:13<00:00,  4.87it/s]\n"
     ]
    },
    {
     "name": "stdout",
     "output_type": "stream",
     "text": [
      "[lowlat_region] ✔ New best mIoU=0.8919 at epoch 20 → saved weights/abliation_regions/lowlat_region/best_model.pth\n"
     ]
    },
    {
     "name": "stderr",
     "output_type": "stream",
     "text": [
      "100%|██████████| 67/67 [00:13<00:00,  4.87it/s]\n",
      "100%|██████████| 67/67 [00:13<00:00,  4.90it/s]\n",
      "100%|██████████| 67/67 [00:13<00:00,  4.92it/s]\n",
      "100%|██████████| 67/67 [00:13<00:00,  4.86it/s]\n"
     ]
    },
    {
     "name": "stdout",
     "output_type": "stream",
     "text": [
      "[lowlat_region] ✔ New best mIoU=0.9091 at epoch 24 → saved weights/abliation_regions/lowlat_region/best_model.pth\n"
     ]
    },
    {
     "name": "stderr",
     "output_type": "stream",
     "text": [
      "100%|██████████| 67/67 [00:13<00:00,  4.89it/s]\n",
      "100%|██████████| 67/67 [00:13<00:00,  4.90it/s]\n"
     ]
    },
    {
     "name": "stdout",
     "output_type": "stream",
     "text": [
      "[lowlat_region] ✔ New best mIoU=0.9337 at epoch 26 → saved weights/abliation_regions/lowlat_region/best_model.pth\n"
     ]
    },
    {
     "name": "stderr",
     "output_type": "stream",
     "text": [
      "100%|██████████| 67/67 [00:13<00:00,  4.85it/s]\n",
      "100%|██████████| 67/67 [00:14<00:00,  4.76it/s]\n",
      "100%|██████████| 67/67 [00:13<00:00,  4.89it/s]\n"
     ]
    },
    {
     "name": "stdout",
     "output_type": "stream",
     "text": [
      "[lowlat_region] ✔ New best mIoU=0.9359 at epoch 29 → saved weights/abliation_regions/lowlat_region/best_model.pth\n"
     ]
    },
    {
     "name": "stderr",
     "output_type": "stream",
     "text": [
      "100%|██████████| 67/67 [00:13<00:00,  4.85it/s]\n"
     ]
    },
    {
     "name": "stdout",
     "output_type": "stream",
     "text": [
      "[lowlat_region] Finished. Best mIoU=0.9359 at epoch 29. Log: weights/abliation_regions/lowlat_region/training_log.txt\n",
      "\n",
      "=== Processing dataset config: nz_region ===\n",
      "   ↳ Training only on regions: ['NZ1']\n",
      "[INFO] Using device: cuda\n",
      "====================================================================================================\n",
      "Layer (type:depth-idx)                             Output Shape              Param #\n",
      "====================================================================================================\n",
      "SegFormer                                          [1, 2, 256, 256]          --\n",
      "├─MixVisionTransformer: 1-1                        [1, 16, 128, 128]         --\n",
      "│    └─ModuleList: 2-1                             --                        --\n",
      "│    │    └─MiTStage: 3-1                          [1, 16, 128, 128]         5,795\n",
      "│    │    └─MiTStage: 3-2                          [1, 32, 64, 64]           19,057\n",
      "│    │    └─MiTStage: 3-3                          [1, 64, 32, 32]           84,416\n",
      "│    │    └─MiTStage: 3-4                          [1, 128, 16, 16]          322,432\n",
      "├─SegFormerHead: 1-2                               [1, 2, 128, 128]          --\n",
      "│    └─ModuleList: 2-2                             --                        --\n",
      "│    │    └─Sequential: 3-5                        [1, 128, 128, 128]        2,304\n",
      "│    │    └─Sequential: 3-6                        [1, 128, 64, 64]          4,352\n",
      "│    │    └─Sequential: 3-7                        [1, 128, 32, 32]          8,448\n",
      "│    │    └─Sequential: 3-8                        [1, 128, 16, 16]          16,640\n",
      "│    └─Sequential: 2-3                             [1, 128, 128, 128]        --\n",
      "│    │    └─Conv2d: 3-9                            [1, 128, 128, 128]        65,536\n",
      "│    │    └─BatchNorm2d: 3-10                      [1, 128, 128, 128]        256\n",
      "│    │    └─ReLU: 3-11                             [1, 128, 128, 128]        --\n",
      "│    │    └─Conv2d: 3-12                           [1, 128, 128, 128]        147,456\n",
      "│    │    └─BatchNorm2d: 3-13                      [1, 128, 128, 128]        256\n",
      "│    │    └─ReLU: 3-14                             [1, 128, 128, 128]        --\n",
      "│    └─Conv2d: 2-4                                 [1, 2, 128, 128]          258\n",
      "====================================================================================================\n",
      "Total params: 677,206\n",
      "Trainable params: 677,206\n",
      "Non-trainable params: 0\n",
      "Total mult-adds (G): 3.60\n",
      "====================================================================================================\n",
      "Input size (MB): 2.88\n",
      "Forward/backward pass size (MB): 149.19\n",
      "Params size (MB): 2.06\n",
      "Estimated Total Size (MB): 154.14\n",
      "====================================================================================================\n",
      "[WARN] analyze_model failed: 'torch.device' object has no attribute 'startswith'\n"
     ]
    },
    {
     "name": "stderr",
     "output_type": "stream",
     "text": [
      "100%|██████████| 67/67 [00:34<00:00,  1.95it/s]\n"
     ]
    },
    {
     "name": "stdout",
     "output_type": "stream",
     "text": [
      "[nz_region] ✔ New best mIoU=0.5225 at epoch 1 → saved weights/abliation_regions/nz_region/best_model.pth\n"
     ]
    },
    {
     "name": "stderr",
     "output_type": "stream",
     "text": [
      "100%|██████████| 67/67 [00:45<00:00,  1.47it/s]\n"
     ]
    },
    {
     "name": "stdout",
     "output_type": "stream",
     "text": [
      "[nz_region] ✔ New best mIoU=0.5397 at epoch 2 → saved weights/abliation_regions/nz_region/best_model.pth\n"
     ]
    },
    {
     "name": "stderr",
     "output_type": "stream",
     "text": [
      "100%|██████████| 67/67 [00:31<00:00,  2.11it/s]\n"
     ]
    },
    {
     "name": "stdout",
     "output_type": "stream",
     "text": [
      "[nz_region] ✔ New best mIoU=0.5621 at epoch 3 → saved weights/abliation_regions/nz_region/best_model.pth\n"
     ]
    },
    {
     "name": "stderr",
     "output_type": "stream",
     "text": [
      "100%|██████████| 67/67 [00:24<00:00,  2.73it/s]\n"
     ]
    },
    {
     "name": "stdout",
     "output_type": "stream",
     "text": [
      "[nz_region] ✔ New best mIoU=0.6044 at epoch 4 → saved weights/abliation_regions/nz_region/best_model.pth\n"
     ]
    },
    {
     "name": "stderr",
     "output_type": "stream",
     "text": [
      "100%|██████████| 67/67 [00:24<00:00,  2.68it/s]\n",
      "100%|██████████| 67/67 [00:38<00:00,  1.75it/s]\n"
     ]
    },
    {
     "name": "stdout",
     "output_type": "stream",
     "text": [
      "[nz_region] ✔ New best mIoU=0.6473 at epoch 6 → saved weights/abliation_regions/nz_region/best_model.pth\n"
     ]
    },
    {
     "name": "stderr",
     "output_type": "stream",
     "text": [
      "100%|██████████| 67/67 [00:27<00:00,  2.46it/s]\n"
     ]
    },
    {
     "name": "stdout",
     "output_type": "stream",
     "text": [
      "[nz_region] ✔ New best mIoU=0.6755 at epoch 7 → saved weights/abliation_regions/nz_region/best_model.pth\n"
     ]
    },
    {
     "name": "stderr",
     "output_type": "stream",
     "text": [
      "100%|██████████| 67/67 [00:28<00:00,  2.38it/s]\n",
      "100%|██████████| 67/67 [00:28<00:00,  2.33it/s]\n"
     ]
    },
    {
     "name": "stdout",
     "output_type": "stream",
     "text": [
      "[nz_region] ✔ New best mIoU=0.7530 at epoch 9 → saved weights/abliation_regions/nz_region/best_model.pth\n"
     ]
    },
    {
     "name": "stderr",
     "output_type": "stream",
     "text": [
      "100%|██████████| 67/67 [01:14<00:00,  1.11s/it]\n",
      "100%|██████████| 67/67 [00:29<00:00,  2.31it/s]\n",
      "100%|██████████| 67/67 [00:29<00:00,  2.29it/s]\n",
      "100%|██████████| 67/67 [00:29<00:00,  2.27it/s]\n",
      "100%|██████████| 67/67 [00:29<00:00,  2.28it/s]\n",
      "100%|██████████| 67/67 [00:29<00:00,  2.28it/s]\n",
      "100%|██████████| 67/67 [00:21<00:00,  3.09it/s]\n",
      "100%|██████████| 67/67 [00:16<00:00,  3.95it/s]\n"
     ]
    },
    {
     "name": "stdout",
     "output_type": "stream",
     "text": [
      "[nz_region] ✔ New best mIoU=0.7670 at epoch 17 → saved weights/abliation_regions/nz_region/best_model.pth\n"
     ]
    },
    {
     "name": "stderr",
     "output_type": "stream",
     "text": [
      "100%|██████████| 67/67 [00:16<00:00,  4.05it/s]\n",
      "100%|██████████| 67/67 [00:16<00:00,  4.00it/s]\n"
     ]
    },
    {
     "name": "stdout",
     "output_type": "stream",
     "text": [
      "[nz_region] ✔ New best mIoU=0.7766 at epoch 19 → saved weights/abliation_regions/nz_region/best_model.pth\n"
     ]
    },
    {
     "name": "stderr",
     "output_type": "stream",
     "text": [
      "100%|██████████| 67/67 [00:16<00:00,  4.00it/s]\n",
      "100%|██████████| 67/67 [00:16<00:00,  4.13it/s]\n",
      "100%|██████████| 67/67 [00:16<00:00,  4.04it/s]\n",
      "100%|██████████| 67/67 [00:16<00:00,  4.05it/s]\n",
      "100%|██████████| 67/67 [00:16<00:00,  4.15it/s]\n"
     ]
    },
    {
     "name": "stdout",
     "output_type": "stream",
     "text": [
      "[nz_region] ✔ New best mIoU=0.7952 at epoch 24 → saved weights/abliation_regions/nz_region/best_model.pth\n"
     ]
    },
    {
     "name": "stderr",
     "output_type": "stream",
     "text": [
      "100%|██████████| 67/67 [00:16<00:00,  4.12it/s]\n",
      "100%|██████████| 67/67 [00:16<00:00,  4.10it/s]\n",
      "100%|██████████| 67/67 [00:15<00:00,  4.21it/s]\n",
      "100%|██████████| 67/67 [00:16<00:00,  4.11it/s]\n",
      "100%|██████████| 67/67 [00:15<00:00,  4.19it/s]\n",
      "100%|██████████| 67/67 [00:15<00:00,  4.28it/s]\n"
     ]
    },
    {
     "name": "stdout",
     "output_type": "stream",
     "text": [
      "[nz_region] Finished. Best mIoU=0.7952 at epoch 24. Log: weights/abliation_regions/nz_region/training_log.txt\n",
      "\n",
      "=== Processing dataset config: andes_region ===\n",
      "   ↳ Training only on regions: ['SA']\n",
      "[INFO] Using device: cuda\n",
      "====================================================================================================\n",
      "Layer (type:depth-idx)                             Output Shape              Param #\n",
      "====================================================================================================\n",
      "SegFormer                                          [1, 2, 256, 256]          --\n",
      "├─MixVisionTransformer: 1-1                        [1, 16, 128, 128]         --\n",
      "│    └─ModuleList: 2-1                             --                        --\n",
      "│    │    └─MiTStage: 3-1                          [1, 16, 128, 128]         5,795\n",
      "│    │    └─MiTStage: 3-2                          [1, 32, 64, 64]           19,057\n",
      "│    │    └─MiTStage: 3-3                          [1, 64, 32, 32]           84,416\n",
      "│    │    └─MiTStage: 3-4                          [1, 128, 16, 16]          322,432\n",
      "├─SegFormerHead: 1-2                               [1, 2, 128, 128]          --\n",
      "│    └─ModuleList: 2-2                             --                        --\n",
      "│    │    └─Sequential: 3-5                        [1, 128, 128, 128]        2,304\n",
      "│    │    └─Sequential: 3-6                        [1, 128, 64, 64]          4,352\n",
      "│    │    └─Sequential: 3-7                        [1, 128, 32, 32]          8,448\n",
      "│    │    └─Sequential: 3-8                        [1, 128, 16, 16]          16,640\n",
      "│    └─Sequential: 2-3                             [1, 128, 128, 128]        --\n",
      "│    │    └─Conv2d: 3-9                            [1, 128, 128, 128]        65,536\n",
      "│    │    └─BatchNorm2d: 3-10                      [1, 128, 128, 128]        256\n",
      "│    │    └─ReLU: 3-11                             [1, 128, 128, 128]        --\n",
      "│    │    └─Conv2d: 3-12                           [1, 128, 128, 128]        147,456\n",
      "│    │    └─BatchNorm2d: 3-13                      [1, 128, 128, 128]        256\n",
      "│    │    └─ReLU: 3-14                             [1, 128, 128, 128]        --\n",
      "│    └─Conv2d: 2-4                                 [1, 2, 128, 128]          258\n",
      "====================================================================================================\n",
      "Total params: 677,206\n",
      "Trainable params: 677,206\n",
      "Non-trainable params: 0\n",
      "Total mult-adds (G): 3.60\n",
      "====================================================================================================\n",
      "Input size (MB): 2.88\n",
      "Forward/backward pass size (MB): 149.19\n",
      "Params size (MB): 2.06\n",
      "Estimated Total Size (MB): 154.14\n",
      "====================================================================================================\n",
      "[WARN] analyze_model failed: 'torch.device' object has no attribute 'startswith'\n"
     ]
    },
    {
     "name": "stderr",
     "output_type": "stream",
     "text": [
      "100%|██████████| 67/67 [00:36<00:00,  1.86it/s]\n"
     ]
    },
    {
     "name": "stdout",
     "output_type": "stream",
     "text": [
      "[andes_region] ✔ New best mIoU=0.3259 at epoch 1 → saved weights/abliation_regions/andes_region/best_model.pth\n"
     ]
    },
    {
     "name": "stderr",
     "output_type": "stream",
     "text": [
      "100%|██████████| 67/67 [00:49<00:00,  1.36it/s]\n"
     ]
    },
    {
     "name": "stdout",
     "output_type": "stream",
     "text": [
      "[andes_region] ✔ New best mIoU=0.6466 at epoch 2 → saved weights/abliation_regions/andes_region/best_model.pth\n"
     ]
    },
    {
     "name": "stderr",
     "output_type": "stream",
     "text": [
      "100%|██████████| 67/67 [00:36<00:00,  1.86it/s]\n"
     ]
    },
    {
     "name": "stdout",
     "output_type": "stream",
     "text": [
      "[andes_region] ✔ New best mIoU=0.6600 at epoch 3 → saved weights/abliation_regions/andes_region/best_model.pth\n"
     ]
    },
    {
     "name": "stderr",
     "output_type": "stream",
     "text": [
      "100%|██████████| 67/67 [00:36<00:00,  1.86it/s]\n"
     ]
    },
    {
     "name": "stdout",
     "output_type": "stream",
     "text": [
      "[andes_region] ✔ New best mIoU=0.6981 at epoch 4 → saved weights/abliation_regions/andes_region/best_model.pth\n"
     ]
    },
    {
     "name": "stderr",
     "output_type": "stream",
     "text": [
      "100%|██████████| 67/67 [00:36<00:00,  1.86it/s]\n",
      "100%|██████████| 67/67 [00:36<00:00,  1.86it/s]\n"
     ]
    },
    {
     "name": "stdout",
     "output_type": "stream",
     "text": [
      "[andes_region] ✔ New best mIoU=0.7118 at epoch 6 → saved weights/abliation_regions/andes_region/best_model.pth\n"
     ]
    },
    {
     "name": "stderr",
     "output_type": "stream",
     "text": [
      "100%|██████████| 67/67 [00:36<00:00,  1.86it/s]\n"
     ]
    },
    {
     "name": "stdout",
     "output_type": "stream",
     "text": [
      "[andes_region] ✔ New best mIoU=0.7127 at epoch 7 → saved weights/abliation_regions/andes_region/best_model.pth\n"
     ]
    },
    {
     "name": "stderr",
     "output_type": "stream",
     "text": [
      "100%|██████████| 67/67 [00:36<00:00,  1.85it/s]\n"
     ]
    },
    {
     "name": "stdout",
     "output_type": "stream",
     "text": [
      "[andes_region] ✔ New best mIoU=0.7669 at epoch 8 → saved weights/abliation_regions/andes_region/best_model.pth\n"
     ]
    },
    {
     "name": "stderr",
     "output_type": "stream",
     "text": [
      "100%|██████████| 67/67 [00:36<00:00,  1.85it/s]\n",
      "100%|██████████| 67/67 [00:35<00:00,  1.86it/s]\n",
      "100%|██████████| 67/67 [00:35<00:00,  1.87it/s]\n",
      "100%|██████████| 67/67 [00:35<00:00,  1.86it/s]\n",
      "100%|██████████| 67/67 [00:53<00:00,  1.26it/s]\n",
      "100%|██████████| 67/67 [00:59<00:00,  1.12it/s]\n",
      "100%|██████████| 67/67 [00:48<00:00,  1.38it/s]\n",
      "100%|██████████| 67/67 [00:36<00:00,  1.84it/s]\n"
     ]
    },
    {
     "name": "stdout",
     "output_type": "stream",
     "text": [
      "[andes_region] ✔ New best mIoU=0.7814 at epoch 16 → saved weights/abliation_regions/andes_region/best_model.pth\n"
     ]
    },
    {
     "name": "stderr",
     "output_type": "stream",
     "text": [
      "100%|██████████| 67/67 [00:36<00:00,  1.85it/s]\n",
      "100%|██████████| 67/67 [00:36<00:00,  1.86it/s]\n",
      "100%|██████████| 67/67 [00:36<00:00,  1.85it/s]\n"
     ]
    },
    {
     "name": "stdout",
     "output_type": "stream",
     "text": [
      "[andes_region] ✔ New best mIoU=0.7878 at epoch 19 → saved weights/abliation_regions/andes_region/best_model.pth\n"
     ]
    },
    {
     "name": "stderr",
     "output_type": "stream",
     "text": [
      "100%|██████████| 67/67 [01:00<00:00,  1.11it/s]\n"
     ]
    },
    {
     "name": "stdout",
     "output_type": "stream",
     "text": [
      "[andes_region] ✔ New best mIoU=0.8087 at epoch 20 → saved weights/abliation_regions/andes_region/best_model.pth\n"
     ]
    },
    {
     "name": "stderr",
     "output_type": "stream",
     "text": [
      "100%|██████████| 67/67 [00:35<00:00,  1.90it/s]\n",
      "100%|██████████| 67/67 [00:35<00:00,  1.89it/s]\n",
      "100%|██████████| 67/67 [00:57<00:00,  1.16it/s]\n",
      "100%|██████████| 67/67 [00:29<00:00,  2.27it/s]\n",
      "100%|██████████| 67/67 [00:30<00:00,  2.22it/s]\n",
      "100%|██████████| 67/67 [00:30<00:00,  2.18it/s]\n",
      "100%|██████████| 67/67 [00:30<00:00,  2.19it/s]\n",
      "100%|██████████| 67/67 [00:47<00:00,  1.40it/s]\n",
      "100%|██████████| 67/67 [00:30<00:00,  2.18it/s]\n",
      "100%|██████████| 67/67 [00:42<00:00,  1.58it/s]\n"
     ]
    },
    {
     "name": "stdout",
     "output_type": "stream",
     "text": [
      "[andes_region] ⏹ Early stopping at epoch 30.\n",
      "[andes_region] Finished. Best mIoU=0.8087 at epoch 20. Log: weights/abliation_regions/andes_region/training_log.txt\n",
      "\n",
      "=== Processing dataset config: subantarctic_region ===\n",
      "   ↳ Training only on regions: ['SC']\n",
      "[INFO] Using device: cuda\n",
      "====================================================================================================\n",
      "Layer (type:depth-idx)                             Output Shape              Param #\n",
      "====================================================================================================\n",
      "SegFormer                                          [1, 2, 256, 256]          --\n",
      "├─MixVisionTransformer: 1-1                        [1, 16, 128, 128]         --\n",
      "│    └─ModuleList: 2-1                             --                        --\n",
      "│    │    └─MiTStage: 3-1                          [1, 16, 128, 128]         5,795\n",
      "│    │    └─MiTStage: 3-2                          [1, 32, 64, 64]           19,057\n",
      "│    │    └─MiTStage: 3-3                          [1, 64, 32, 32]           84,416\n",
      "│    │    └─MiTStage: 3-4                          [1, 128, 16, 16]          322,432\n",
      "├─SegFormerHead: 1-2                               [1, 2, 128, 128]          --\n",
      "│    └─ModuleList: 2-2                             --                        --\n",
      "│    │    └─Sequential: 3-5                        [1, 128, 128, 128]        2,304\n",
      "│    │    └─Sequential: 3-6                        [1, 128, 64, 64]          4,352\n",
      "│    │    └─Sequential: 3-7                        [1, 128, 32, 32]          8,448\n",
      "│    │    └─Sequential: 3-8                        [1, 128, 16, 16]          16,640\n",
      "│    └─Sequential: 2-3                             [1, 128, 128, 128]        --\n",
      "│    │    └─Conv2d: 3-9                            [1, 128, 128, 128]        65,536\n",
      "│    │    └─BatchNorm2d: 3-10                      [1, 128, 128, 128]        256\n",
      "│    │    └─ReLU: 3-11                             [1, 128, 128, 128]        --\n",
      "│    │    └─Conv2d: 3-12                           [1, 128, 128, 128]        147,456\n",
      "│    │    └─BatchNorm2d: 3-13                      [1, 128, 128, 128]        256\n",
      "│    │    └─ReLU: 3-14                             [1, 128, 128, 128]        --\n",
      "│    └─Conv2d: 2-4                                 [1, 2, 128, 128]          258\n",
      "====================================================================================================\n",
      "Total params: 677,206\n",
      "Trainable params: 677,206\n",
      "Non-trainable params: 0\n",
      "Total mult-adds (G): 3.60\n",
      "====================================================================================================\n",
      "Input size (MB): 2.88\n",
      "Forward/backward pass size (MB): 149.19\n",
      "Params size (MB): 2.06\n",
      "Estimated Total Size (MB): 154.14\n",
      "====================================================================================================\n",
      "[WARN] analyze_model failed: 'torch.device' object has no attribute 'startswith'\n"
     ]
    },
    {
     "name": "stderr",
     "output_type": "stream",
     "text": [
      "100%|██████████| 67/67 [00:22<00:00,  2.99it/s]\n"
     ]
    },
    {
     "name": "stdout",
     "output_type": "stream",
     "text": [
      "[subantarctic_region] ✔ New best mIoU=0.2551 at epoch 1 → saved weights/abliation_regions/subantarctic_region/best_model.pth\n"
     ]
    },
    {
     "name": "stderr",
     "output_type": "stream",
     "text": [
      "100%|██████████| 67/67 [00:15<00:00,  4.36it/s]\n",
      "100%|██████████| 67/67 [00:15<00:00,  4.46it/s]\n"
     ]
    },
    {
     "name": "stdout",
     "output_type": "stream",
     "text": [
      "[subantarctic_region] ✔ New best mIoU=0.2703 at epoch 3 → saved weights/abliation_regions/subantarctic_region/best_model.pth\n"
     ]
    },
    {
     "name": "stderr",
     "output_type": "stream",
     "text": [
      "100%|██████████| 67/67 [00:14<00:00,  4.69it/s]\n"
     ]
    },
    {
     "name": "stdout",
     "output_type": "stream",
     "text": [
      "[subantarctic_region] ✔ New best mIoU=0.3418 at epoch 4 → saved weights/abliation_regions/subantarctic_region/best_model.pth\n"
     ]
    },
    {
     "name": "stderr",
     "output_type": "stream",
     "text": [
      "100%|██████████| 67/67 [00:14<00:00,  4.53it/s]\n"
     ]
    },
    {
     "name": "stdout",
     "output_type": "stream",
     "text": [
      "[subantarctic_region] ✔ New best mIoU=0.3580 at epoch 5 → saved weights/abliation_regions/subantarctic_region/best_model.pth\n"
     ]
    },
    {
     "name": "stderr",
     "output_type": "stream",
     "text": [
      "100%|██████████| 67/67 [00:14<00:00,  4.65it/s]\n"
     ]
    },
    {
     "name": "stdout",
     "output_type": "stream",
     "text": [
      "[subantarctic_region] ✔ New best mIoU=0.3667 at epoch 6 → saved weights/abliation_regions/subantarctic_region/best_model.pth\n"
     ]
    },
    {
     "name": "stderr",
     "output_type": "stream",
     "text": [
      "100%|██████████| 67/67 [00:14<00:00,  4.67it/s]\n"
     ]
    },
    {
     "name": "stdout",
     "output_type": "stream",
     "text": [
      "[subantarctic_region] ✔ New best mIoU=0.3677 at epoch 7 → saved weights/abliation_regions/subantarctic_region/best_model.pth\n"
     ]
    },
    {
     "name": "stderr",
     "output_type": "stream",
     "text": [
      "100%|██████████| 67/67 [00:14<00:00,  4.59it/s]\n"
     ]
    },
    {
     "name": "stdout",
     "output_type": "stream",
     "text": [
      "[subantarctic_region] ✔ New best mIoU=0.4558 at epoch 8 → saved weights/abliation_regions/subantarctic_region/best_model.pth\n"
     ]
    },
    {
     "name": "stderr",
     "output_type": "stream",
     "text": [
      "100%|██████████| 67/67 [00:14<00:00,  4.51it/s]\n"
     ]
    },
    {
     "name": "stdout",
     "output_type": "stream",
     "text": [
      "[subantarctic_region] ✔ New best mIoU=0.4842 at epoch 9 → saved weights/abliation_regions/subantarctic_region/best_model.pth\n"
     ]
    },
    {
     "name": "stderr",
     "output_type": "stream",
     "text": [
      "100%|██████████| 67/67 [00:14<00:00,  4.48it/s]\n"
     ]
    },
    {
     "name": "stdout",
     "output_type": "stream",
     "text": [
      "[subantarctic_region] ✔ New best mIoU=0.5116 at epoch 10 → saved weights/abliation_regions/subantarctic_region/best_model.pth\n"
     ]
    },
    {
     "name": "stderr",
     "output_type": "stream",
     "text": [
      "100%|██████████| 67/67 [00:14<00:00,  4.66it/s]\n",
      "100%|██████████| 67/67 [00:14<00:00,  4.61it/s]\n",
      "100%|██████████| 67/67 [00:14<00:00,  4.63it/s]\n"
     ]
    },
    {
     "name": "stdout",
     "output_type": "stream",
     "text": [
      "[subantarctic_region] ✔ New best mIoU=0.5266 at epoch 13 → saved weights/abliation_regions/subantarctic_region/best_model.pth\n"
     ]
    },
    {
     "name": "stderr",
     "output_type": "stream",
     "text": [
      "100%|██████████| 67/67 [00:14<00:00,  4.68it/s]\n"
     ]
    },
    {
     "name": "stdout",
     "output_type": "stream",
     "text": [
      "[subantarctic_region] ✔ New best mIoU=0.6034 at epoch 14 → saved weights/abliation_regions/subantarctic_region/best_model.pth\n"
     ]
    },
    {
     "name": "stderr",
     "output_type": "stream",
     "text": [
      "100%|██████████| 67/67 [00:14<00:00,  4.62it/s]\n"
     ]
    },
    {
     "name": "stdout",
     "output_type": "stream",
     "text": [
      "[subantarctic_region] ✔ New best mIoU=0.6173 at epoch 15 → saved weights/abliation_regions/subantarctic_region/best_model.pth\n"
     ]
    },
    {
     "name": "stderr",
     "output_type": "stream",
     "text": [
      "100%|██████████| 67/67 [00:14<00:00,  4.67it/s]\n",
      "100%|██████████| 67/67 [00:14<00:00,  4.57it/s]\n"
     ]
    },
    {
     "name": "stdout",
     "output_type": "stream",
     "text": [
      "[subantarctic_region] ✔ New best mIoU=0.7081 at epoch 17 → saved weights/abliation_regions/subantarctic_region/best_model.pth\n"
     ]
    },
    {
     "name": "stderr",
     "output_type": "stream",
     "text": [
      "100%|██████████| 67/67 [00:13<00:00,  4.84it/s]\n",
      "100%|██████████| 67/67 [00:13<00:00,  4.94it/s]\n",
      "100%|██████████| 67/67 [00:13<00:00,  4.90it/s]\n",
      "100%|██████████| 67/67 [00:13<00:00,  4.96it/s]\n",
      "100%|██████████| 67/67 [00:13<00:00,  4.95it/s]\n",
      "100%|██████████| 67/67 [00:13<00:00,  5.02it/s]\n"
     ]
    },
    {
     "name": "stdout",
     "output_type": "stream",
     "text": [
      "[subantarctic_region] ✔ New best mIoU=0.7311 at epoch 23 → saved weights/abliation_regions/subantarctic_region/best_model.pth\n"
     ]
    },
    {
     "name": "stderr",
     "output_type": "stream",
     "text": [
      "100%|██████████| 67/67 [00:13<00:00,  4.97it/s]\n",
      "100%|██████████| 67/67 [00:13<00:00,  5.09it/s]\n",
      "100%|██████████| 67/67 [00:13<00:00,  4.88it/s]\n"
     ]
    },
    {
     "name": "stdout",
     "output_type": "stream",
     "text": [
      "[subantarctic_region] ✔ New best mIoU=0.7324 at epoch 26 → saved weights/abliation_regions/subantarctic_region/best_model.pth\n"
     ]
    },
    {
     "name": "stderr",
     "output_type": "stream",
     "text": [
      "100%|██████████| 67/67 [00:13<00:00,  4.92it/s]\n",
      "100%|██████████| 67/67 [00:13<00:00,  4.95it/s]\n"
     ]
    },
    {
     "name": "stdout",
     "output_type": "stream",
     "text": [
      "[subantarctic_region] ✔ New best mIoU=0.7578 at epoch 28 → saved weights/abliation_regions/subantarctic_region/best_model.pth\n"
     ]
    },
    {
     "name": "stderr",
     "output_type": "stream",
     "text": [
      "100%|██████████| 67/67 [00:13<00:00,  4.93it/s]\n",
      "100%|██████████| 67/67 [00:13<00:00,  4.86it/s]\n"
     ]
    },
    {
     "name": "stdout",
     "output_type": "stream",
     "text": [
      "[subantarctic_region] ✔ New best mIoU=0.7720 at epoch 30 → saved weights/abliation_regions/subantarctic_region/best_model.pth\n",
      "[subantarctic_region] Finished. Best mIoU=0.7720 at epoch 30. Log: weights/abliation_regions/subantarctic_region/training_log.txt\n",
      "\n",
      "=== Processing dataset config: svalbard_region ===\n",
      "   ↳ Training only on regions: ['SVAL']\n",
      "[INFO] Using device: cuda\n",
      "====================================================================================================\n",
      "Layer (type:depth-idx)                             Output Shape              Param #\n",
      "====================================================================================================\n",
      "SegFormer                                          [1, 2, 256, 256]          --\n",
      "├─MixVisionTransformer: 1-1                        [1, 16, 128, 128]         --\n",
      "│    └─ModuleList: 2-1                             --                        --\n",
      "│    │    └─MiTStage: 3-1                          [1, 16, 128, 128]         5,795\n",
      "│    │    └─MiTStage: 3-2                          [1, 32, 64, 64]           19,057\n",
      "│    │    └─MiTStage: 3-3                          [1, 64, 32, 32]           84,416\n",
      "│    │    └─MiTStage: 3-4                          [1, 128, 16, 16]          322,432\n",
      "├─SegFormerHead: 1-2                               [1, 2, 128, 128]          --\n",
      "│    └─ModuleList: 2-2                             --                        --\n",
      "│    │    └─Sequential: 3-5                        [1, 128, 128, 128]        2,304\n",
      "│    │    └─Sequential: 3-6                        [1, 128, 64, 64]          4,352\n",
      "│    │    └─Sequential: 3-7                        [1, 128, 32, 32]          8,448\n",
      "│    │    └─Sequential: 3-8                        [1, 128, 16, 16]          16,640\n",
      "│    └─Sequential: 2-3                             [1, 128, 128, 128]        --\n",
      "│    │    └─Conv2d: 3-9                            [1, 128, 128, 128]        65,536\n",
      "│    │    └─BatchNorm2d: 3-10                      [1, 128, 128, 128]        256\n",
      "│    │    └─ReLU: 3-11                             [1, 128, 128, 128]        --\n",
      "│    │    └─Conv2d: 3-12                           [1, 128, 128, 128]        147,456\n",
      "│    │    └─BatchNorm2d: 3-13                      [1, 128, 128, 128]        256\n",
      "│    │    └─ReLU: 3-14                             [1, 128, 128, 128]        --\n",
      "│    └─Conv2d: 2-4                                 [1, 2, 128, 128]          258\n",
      "====================================================================================================\n",
      "Total params: 677,206\n",
      "Trainable params: 677,206\n",
      "Non-trainable params: 0\n",
      "Total mult-adds (G): 3.60\n",
      "====================================================================================================\n",
      "Input size (MB): 2.88\n",
      "Forward/backward pass size (MB): 149.19\n",
      "Params size (MB): 2.06\n",
      "Estimated Total Size (MB): 154.14\n",
      "====================================================================================================\n",
      "[WARN] analyze_model failed: 'torch.device' object has no attribute 'startswith'\n"
     ]
    },
    {
     "name": "stderr",
     "output_type": "stream",
     "text": [
      "100%|██████████| 67/67 [00:54<00:00,  1.23it/s]\n"
     ]
    },
    {
     "name": "stdout",
     "output_type": "stream",
     "text": [
      "[svalbard_region] ✔ New best mIoU=0.3986 at epoch 1 → saved weights/abliation_regions/svalbard_region/best_model.pth\n"
     ]
    },
    {
     "name": "stderr",
     "output_type": "stream",
     "text": [
      "100%|██████████| 67/67 [00:55<00:00,  1.22it/s]\n"
     ]
    },
    {
     "name": "stdout",
     "output_type": "stream",
     "text": [
      "[svalbard_region] ✔ New best mIoU=0.4783 at epoch 2 → saved weights/abliation_regions/svalbard_region/best_model.pth\n"
     ]
    },
    {
     "name": "stderr",
     "output_type": "stream",
     "text": [
      "100%|██████████| 67/67 [00:55<00:00,  1.20it/s]\n"
     ]
    },
    {
     "name": "stdout",
     "output_type": "stream",
     "text": [
      "[svalbard_region] ✔ New best mIoU=0.4890 at epoch 3 → saved weights/abliation_regions/svalbard_region/best_model.pth\n"
     ]
    },
    {
     "name": "stderr",
     "output_type": "stream",
     "text": [
      "100%|██████████| 67/67 [01:06<00:00,  1.01it/s]\n"
     ]
    },
    {
     "name": "stdout",
     "output_type": "stream",
     "text": [
      "[svalbard_region] ✔ New best mIoU=0.5022 at epoch 4 → saved weights/abliation_regions/svalbard_region/best_model.pth\n"
     ]
    },
    {
     "name": "stderr",
     "output_type": "stream",
     "text": [
      "100%|██████████| 67/67 [01:06<00:00,  1.01it/s]\n"
     ]
    },
    {
     "name": "stdout",
     "output_type": "stream",
     "text": [
      "[svalbard_region] ✔ New best mIoU=0.5445 at epoch 5 → saved weights/abliation_regions/svalbard_region/best_model.pth\n"
     ]
    },
    {
     "name": "stderr",
     "output_type": "stream",
     "text": [
      "100%|██████████| 67/67 [00:54<00:00,  1.23it/s]\n"
     ]
    },
    {
     "name": "stdout",
     "output_type": "stream",
     "text": [
      "[svalbard_region] ✔ New best mIoU=0.5992 at epoch 6 → saved weights/abliation_regions/svalbard_region/best_model.pth\n"
     ]
    },
    {
     "name": "stderr",
     "output_type": "stream",
     "text": [
      "100%|██████████| 67/67 [00:54<00:00,  1.22it/s]\n"
     ]
    },
    {
     "name": "stdout",
     "output_type": "stream",
     "text": [
      "[svalbard_region] ✔ New best mIoU=0.6329 at epoch 7 → saved weights/abliation_regions/svalbard_region/best_model.pth\n"
     ]
    },
    {
     "name": "stderr",
     "output_type": "stream",
     "text": [
      "100%|██████████| 67/67 [00:55<00:00,  1.21it/s]\n",
      "100%|██████████| 67/67 [00:55<00:00,  1.22it/s]\n"
     ]
    },
    {
     "name": "stdout",
     "output_type": "stream",
     "text": [
      "[svalbard_region] ✔ New best mIoU=0.6598 at epoch 9 → saved weights/abliation_regions/svalbard_region/best_model.pth\n"
     ]
    },
    {
     "name": "stderr",
     "output_type": "stream",
     "text": [
      "100%|██████████| 67/67 [00:53<00:00,  1.26it/s]\n"
     ]
    },
    {
     "name": "stdout",
     "output_type": "stream",
     "text": [
      "[svalbard_region] ✔ New best mIoU=0.7492 at epoch 10 → saved weights/abliation_regions/svalbard_region/best_model.pth\n"
     ]
    },
    {
     "name": "stderr",
     "output_type": "stream",
     "text": [
      "100%|██████████| 67/67 [00:52<00:00,  1.26it/s]\n"
     ]
    },
    {
     "name": "stdout",
     "output_type": "stream",
     "text": [
      "[svalbard_region] ✔ New best mIoU=0.7609 at epoch 11 → saved weights/abliation_regions/svalbard_region/best_model.pth\n"
     ]
    },
    {
     "name": "stderr",
     "output_type": "stream",
     "text": [
      "100%|██████████| 67/67 [00:52<00:00,  1.27it/s]\n",
      "100%|██████████| 67/67 [00:51<00:00,  1.30it/s]\n"
     ]
    },
    {
     "name": "stdout",
     "output_type": "stream",
     "text": [
      "[svalbard_region] ✔ New best mIoU=0.8226 at epoch 13 → saved weights/abliation_regions/svalbard_region/best_model.pth\n"
     ]
    },
    {
     "name": "stderr",
     "output_type": "stream",
     "text": [
      "100%|██████████| 67/67 [00:53<00:00,  1.26it/s]\n"
     ]
    },
    {
     "name": "stdout",
     "output_type": "stream",
     "text": [
      "[svalbard_region] ✔ New best mIoU=0.8864 at epoch 14 → saved weights/abliation_regions/svalbard_region/best_model.pth\n"
     ]
    },
    {
     "name": "stderr",
     "output_type": "stream",
     "text": [
      "100%|██████████| 67/67 [00:52<00:00,  1.27it/s]\n",
      "100%|██████████| 67/67 [00:52<00:00,  1.28it/s]\n"
     ]
    },
    {
     "name": "stdout",
     "output_type": "stream",
     "text": [
      "[svalbard_region] ✔ New best mIoU=0.8961 at epoch 16 → saved weights/abliation_regions/svalbard_region/best_model.pth\n"
     ]
    },
    {
     "name": "stderr",
     "output_type": "stream",
     "text": [
      "100%|██████████| 67/67 [00:53<00:00,  1.26it/s]\n",
      "100%|██████████| 67/67 [00:50<00:00,  1.34it/s]\n"
     ]
    },
    {
     "name": "stdout",
     "output_type": "stream",
     "text": [
      "[svalbard_region] ✔ New best mIoU=0.9047 at epoch 18 → saved weights/abliation_regions/svalbard_region/best_model.pth\n"
     ]
    },
    {
     "name": "stderr",
     "output_type": "stream",
     "text": [
      "100%|██████████| 67/67 [00:51<00:00,  1.30it/s]\n"
     ]
    },
    {
     "name": "stdout",
     "output_type": "stream",
     "text": [
      "[svalbard_region] ✔ New best mIoU=0.9226 at epoch 19 → saved weights/abliation_regions/svalbard_region/best_model.pth\n"
     ]
    },
    {
     "name": "stderr",
     "output_type": "stream",
     "text": [
      "100%|██████████| 67/67 [00:49<00:00,  1.34it/s]\n",
      "100%|██████████| 67/67 [00:51<00:00,  1.30it/s]\n",
      "100%|██████████| 67/67 [00:50<00:00,  1.32it/s]\n",
      "100%|██████████| 67/67 [00:51<00:00,  1.31it/s]\n"
     ]
    },
    {
     "name": "stdout",
     "output_type": "stream",
     "text": [
      "[svalbard_region] ✔ New best mIoU=0.9286 at epoch 23 → saved weights/abliation_regions/svalbard_region/best_model.pth\n"
     ]
    },
    {
     "name": "stderr",
     "output_type": "stream",
     "text": [
      "100%|██████████| 67/67 [01:02<00:00,  1.07it/s]\n"
     ]
    },
    {
     "name": "stdout",
     "output_type": "stream",
     "text": [
      "[svalbard_region] ✔ New best mIoU=0.9371 at epoch 24 → saved weights/abliation_regions/svalbard_region/best_model.pth\n"
     ]
    },
    {
     "name": "stderr",
     "output_type": "stream",
     "text": [
      "100%|██████████| 67/67 [00:50<00:00,  1.33it/s]\n",
      "100%|██████████| 67/67 [00:50<00:00,  1.33it/s]\n",
      "100%|██████████| 67/67 [00:50<00:00,  1.34it/s]\n"
     ]
    },
    {
     "name": "stdout",
     "output_type": "stream",
     "text": [
      "[svalbard_region] ✔ New best mIoU=0.9409 at epoch 27 → saved weights/abliation_regions/svalbard_region/best_model.pth\n"
     ]
    },
    {
     "name": "stderr",
     "output_type": "stream",
     "text": [
      "100%|██████████| 67/67 [00:50<00:00,  1.33it/s]\n"
     ]
    },
    {
     "name": "stdout",
     "output_type": "stream",
     "text": [
      "[svalbard_region] ✔ New best mIoU=0.9433 at epoch 28 → saved weights/abliation_regions/svalbard_region/best_model.pth\n"
     ]
    },
    {
     "name": "stderr",
     "output_type": "stream",
     "text": [
      "100%|██████████| 67/67 [00:49<00:00,  1.34it/s]\n"
     ]
    },
    {
     "name": "stdout",
     "output_type": "stream",
     "text": [
      "[svalbard_region] ✔ New best mIoU=0.9490 at epoch 29 → saved weights/abliation_regions/svalbard_region/best_model.pth\n"
     ]
    },
    {
     "name": "stderr",
     "output_type": "stream",
     "text": [
      "100%|██████████| 67/67 [00:51<00:00,  1.31it/s]\n"
     ]
    },
    {
     "name": "stdout",
     "output_type": "stream",
     "text": [
      "[svalbard_region] Finished. Best mIoU=0.9490 at epoch 29. Log: weights/abliation_regions/svalbard_region/training_log.txt\n"
     ]
    }
   ],
   "source": [
    "run_all_dataset_configs(\n",
    "    variants=region_variants,\n",
    "    train_path=TRAIN_PATH,\n",
    "    val_path=VAL_PATH,\n",
    "    device=DEVICE,\n",
    "    epochs=30,\n",
    "    batch_size=12,\n",
    "    num_classes=2,\n",
    "    base_run_dir=\"runs/abliaton_regions\",\n",
    "    base_weight_dir=\"weights/abliation_regions\"\n",
    ")\n"
   ]
  },
  {
   "cell_type": "code",
   "execution_count": 16,
   "id": "e1fddc6e",
   "metadata": {},
   "outputs": [
    {
     "name": "stderr",
     "output_type": "stream",
     "text": [
      "/tmp/ipykernel_47684/3742742413.py:27: FutureWarning: errors='ignore' is deprecated and will raise in a future version. Use to_numeric without passing `errors` and catch exceptions explicitly instead\n",
      "  df = df.apply(pd.to_numeric, errors=\"ignore\")\n"
     ]
    },
    {
     "name": "stdout",
     "output_type": "stream",
     "text": [
      "[INFO] Saved summary → results/plots/ablation_regions/summary.csv, results/plots/ablation_regions/summary.md\n",
      "[INFO] Plots saved to results/plots/ablation_regions\n"
     ]
    }
   ],
   "source": [
    "# %%\n",
    "import os\n",
    "import pandas as pd\n",
    "import matplotlib.pyplot as plt\n",
    "\n",
    "# === Parse a single log file ===\n",
    "def parse_training_log(log_path):\n",
    "    df = []\n",
    "    best = {}\n",
    "    with open(log_path, \"r\") as f:\n",
    "        lines = f.readlines()\n",
    "\n",
    "    header = None\n",
    "    for line in lines:\n",
    "        line = line.strip()\n",
    "        if line.startswith(\"epoch,\"):\n",
    "            header = line.split(\",\")\n",
    "        elif line.startswith(\"BEST_EPOCH\") or line.startswith(\"BEST_mIoU\") or line.startswith(\"TOTAL_TIME_SEC\"):\n",
    "            key, val = line.split(\"=\")\n",
    "            best[key.strip()] = val.strip()\n",
    "        elif header and line[0].isdigit():\n",
    "            parts = line.split(\",\")\n",
    "            row = dict(zip(header, parts))\n",
    "            df.append(row)\n",
    "\n",
    "    df = pd.DataFrame(df)\n",
    "    df = df.apply(pd.to_numeric, errors=\"ignore\")\n",
    "    return df, best\n",
    "\n",
    "\n",
    "# === Collect logs for all regions ===\n",
    "def collect_all_region_logs(base_dir=\"weights/abliation_regions\"):\n",
    "    all_dfs, all_bests = {}, []\n",
    "    for region in os.listdir(base_dir):\n",
    "        log_path = os.path.join(base_dir, region, \"training_log.txt\")\n",
    "        if not os.path.exists(log_path):\n",
    "            continue\n",
    "        df, best = parse_training_log(log_path)\n",
    "        all_dfs[region] = df\n",
    "        best[\"Region\"] = region\n",
    "        all_bests.append(best)\n",
    "    return all_dfs, pd.DataFrame(all_bests)\n",
    "\n",
    "\n",
    "# === Plot metric curves ===\n",
    "def plot_metric(all_dfs, metric, out_dir):\n",
    "    plt.figure(figsize=(8, 5))\n",
    "    for region, df in all_dfs.items():\n",
    "        if metric in df.columns:\n",
    "            plt.plot(df[\"epoch\"], df[metric], label=region)\n",
    "    plt.xlabel(\"Epoch\")\n",
    "    plt.ylabel(metric)\n",
    "    plt.title(f\"{metric} over epochs\")\n",
    "    plt.legend()\n",
    "    plt.grid(True, alpha=0.3)\n",
    "    plt.tight_layout()\n",
    "    plt.savefig(os.path.join(out_dir, f\"{metric}_lineplot.png\"))\n",
    "    plt.close()\n",
    "\n",
    "\n",
    "# === Plot bar chart for best values ===\n",
    "def plot_bar(df_summary, metric, out_dir):\n",
    "    if metric not in df_summary.columns:\n",
    "        return\n",
    "    plt.figure(figsize=(8, 5))\n",
    "    plt.bar(df_summary[\"Region\"], df_summary[metric].astype(float))\n",
    "    plt.ylabel(metric)\n",
    "    plt.title(f\"Best {metric} per region\")\n",
    "    plt.xticks(rotation=45, ha=\"right\")\n",
    "    plt.tight_layout()\n",
    "    plt.savefig(os.path.join(out_dir, f\"{metric}_barplot.png\"))\n",
    "    plt.close()\n",
    "\n",
    "\n",
    "# === Main workflow ===\n",
    "base_dir = \"weights/abliation_regions\"\n",
    "out_dir = \"results/plots/ablation_regions\"\n",
    "os.makedirs(out_dir, exist_ok=True)\n",
    "\n",
    "# Collect all logs\n",
    "all_dfs, df_summary = collect_all_region_logs(base_dir)\n",
    "\n",
    "# Save summary as CSV + Markdown\n",
    "csv_path = os.path.join(out_dir, \"summary.csv\")\n",
    "md_path  = os.path.join(out_dir, \"summary.md\")\n",
    "df_summary.to_csv(csv_path, index=False)\n",
    "\n",
    "with open(md_path, \"w\") as f:\n",
    "    f.write(df_summary.to_markdown(index=False))\n",
    "\n",
    "print(f\"[INFO] Saved summary → {csv_path}, {md_path}\")\n",
    "\n",
    "# Plot epoch-wise metrics\n",
    "metrics_to_plot = [\"train_loss\", \"val_loss\", \"val_pixel_acc\", \"val_mIoU\", \"val_dice\", \"val_precision\", \"val_recall\"]\n",
    "for m in metrics_to_plot:\n",
    "    plot_metric(all_dfs, m, out_dir)\n",
    "\n",
    "# Plot bar charts for best values\n",
    "for m in [\"BEST_mIoU\", \"BEST_EPOCH\", \"TOTAL_TIME_SEC\"]:\n",
    "    plot_bar(df_summary, m, out_dir)\n",
    "\n",
    "print(f\"[INFO] Plots saved to {out_dir}\")\n"
   ]
  },
  {
   "cell_type": "code",
   "execution_count": null,
   "id": "00a22aa8",
   "metadata": {},
   "outputs": [],
   "source": []
  }
 ],
 "metadata": {
  "kernelspec": {
   "display_name": "Thesis",
   "language": "python",
   "name": "python3"
  },
  "language_info": {
   "codemirror_mode": {
    "name": "ipython",
    "version": 3
   },
   "file_extension": ".py",
   "mimetype": "text/x-python",
   "name": "python",
   "nbconvert_exporter": "python",
   "pygments_lexer": "ipython3",
   "version": "3.10.18"
  }
 },
 "nbformat": 4,
 "nbformat_minor": 5
}
