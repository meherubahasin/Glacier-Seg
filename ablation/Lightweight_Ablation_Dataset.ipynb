{
 "cells": [
  {
   "cell_type": "code",
   "execution_count": 1,
   "id": "0c23baca",
   "metadata": {},
   "outputs": [
    {
     "name": "stdout",
     "output_type": "stream",
     "text": [
      "Python: 3.10.18 (main, Jun  5 2025, 13:14:17) [GCC 11.2.0]\n",
      "PyTorch: 2.8.0+cu129\n",
      "CUDA available: True\n",
      "CUDA device: NVIDIA GeForce RTX 4060 Ti\n",
      "mamba_ssm found: True\n",
      "mamba_model found: True\n"
     ]
    }
   ],
   "source": [
    "\n",
    "import os, sys, torch\n",
    "print('Python:', sys.version)\n",
    "print('PyTorch:', torch.__version__)\n",
    "print('CUDA available:', torch.cuda.is_available())\n",
    "if torch.cuda.is_available():\n",
    "    print('CUDA device:', torch.cuda.get_device_name(0))\n",
    "\n",
    "# Check presence of mamba_ssm (optional) and mamba_model (required)\n",
    "try:\n",
    "    import importlib.util\n",
    "    spec = importlib.util.find_spec('mamba_ssm')\n",
    "    print('mamba_ssm found:', spec is not None)\n",
    "except Exception as e:\n",
    "    print('mamba_ssm check error:', e)\n",
    "\n",
    "try:\n",
    "    spec2 = importlib.util.find_spec('mamba_model')\n",
    "    print('mamba_model found:', spec2 is not None)\n",
    "except Exception as e:\n",
    "    print('mamba_model check error:', e)\n"
   ]
  },
  {
   "cell_type": "code",
   "execution_count": 3,
   "id": "0bd3d885",
   "metadata": {},
   "outputs": [],
   "source": [
    "#imports\n",
    "import os\n",
    "import h5py\n",
    "import numpy as np\n",
    "import cv2\n",
    "import torch\n",
    "import random\n",
    "from torch.utils.data import Dataset, DataLoader\n",
    "from tqdm import tqdm\n",
    "import torch.nn.functional as F\n",
    "from torch.optim import AdamW\n"
   ]
  },
  {
   "cell_type": "code",
   "execution_count": 4,
   "id": "1369e8a1",
   "metadata": {},
   "outputs": [],
   "source": [
    "# Constants\n",
    "PATCH_SIZE = 256\n",
    "TARGET_SIZE = (256, 256)\n",
    "LABEL_KEY = 'outlines'\n",
    "MODALITIES_3 = ['dem', 'optical', 'bright_dark_outlines']\n",
    "CHANNEL_INFO_3 = {'dem': 2, 'optical': 6, 'bright_dark_outlines': 3}\n",
    "\n",
    "def normalize(arr):\n",
    "    arr = arr.astype(np.float32)\n",
    "    return (arr - arr.mean()) / (arr.std() + 1e-5)"
   ]
  },
  {
   "cell_type": "code",
   "execution_count": 5,
   "id": "0a2e84fe",
   "metadata": {},
   "outputs": [],
   "source": [
    "# %%\n",
    "import os, random, h5py\n",
    "import numpy as np\n",
    "import torch\n",
    "from torch.utils.data import Dataset\n",
    "\n",
    "# --- Normalization ---\n",
    "def normalize(arr):\n",
    "    arr = arr.astype(np.float32)\n",
    "    return (arr - arr.mean()) / (arr.std() + 1e-5)\n",
    "\n",
    "# --- Augmentations ---\n",
    "def augment_patch(img, label):\n",
    "    if random.random() < 0.5:\n",
    "        img = np.flip(img, axis=0)\n",
    "        label = np.flip(label, axis=0)\n",
    "    if random.random() < 0.5:\n",
    "        img = np.flip(img, axis=1)\n",
    "        label = np.flip(label, axis=1)\n",
    "    if random.random() < 0.5:\n",
    "        noise = np.random.normal(0, 0.01, img.shape)\n",
    "        img = img + noise\n",
    "    return img, label\n",
    "\n",
    "# --- Dataset Class ---\n",
    "class GlacierHDF5PatchDataset3(Dataset):\n",
    "    def __init__(self, hdf5_file_path, patch_size=256, target_size=(256,256),\n",
    "                 length=600, modalities=None):\n",
    "        self.hdf5 = h5py.File(hdf5_file_path, 'r')\n",
    "        self.modalities = modalities if modalities is not None else ['dem', 'optical', 'bright_dark_outlines']\n",
    "        self.channel_info = {'dem': 2, 'optical': 6, 'bright_dark_outlines': 3}\n",
    "        self.in_chans = sum(self.channel_info[m] for m in self.modalities)\n",
    "        self.tiles = [name for name in self.hdf5.keys() if all(m in self.hdf5[name] for m in self.modalities)]\n",
    "        self.patch_size = patch_size\n",
    "        self.target_size = target_size\n",
    "        self.length = length\n",
    "\n",
    "    def __len__(self):\n",
    "        return self.length\n",
    "\n",
    "    def __getitem__(self, idx):\n",
    "        tile_name = random.choice(self.tiles)\n",
    "        tile = self.hdf5[tile_name]\n",
    "        h, w = tile[self.modalities[0]].shape[:2]\n",
    "        y = random.randint(0, h - self.patch_size)\n",
    "        x = random.randint(0, w - self.patch_size)\n",
    "\n",
    "        input_channels = []\n",
    "        for key in self.modalities:\n",
    "            arr = tile[key][y:y+self.patch_size, x:x+self.patch_size, :]\n",
    "            arr = normalize(arr)\n",
    "            input_channels.append(arr)\n",
    "        input_patch = np.concatenate(input_channels, axis=2)\n",
    "\n",
    "        label = tile['outlines'][y:y+self.patch_size, x:x+self.patch_size]\n",
    "        if label.ndim == 3:\n",
    "            label = label[:,:,0] if label.shape[2] == 1 else np.argmax(label, axis=2)\n",
    "\n",
    "        input_patch, label = augment_patch(input_patch, label)\n",
    "\n",
    "        input_tensor = torch.tensor(np.ascontiguousarray(input_patch)).permute(2,0,1).float()\n",
    "        label_tensor = torch.tensor(np.ascontiguousarray(label), dtype=torch.long)\n",
    "        return input_tensor, label_tensor\n",
    "\n",
    "    def close(self):\n",
    "        self.hdf5.close()\n",
    "\n",
    "# --- Dataset Ablation Variants ---\n",
    "variants = [\n",
    "    {\"name\": \"full_2000\",        \"modalities\": ['dem', 'optical', 'bright_dark_outlines'], \"length_train\": 2000, \"length_val\": 500},\n",
    "    {\"name\": \"no_dem_1000\",      \"modalities\": ['optical', 'bright_dark_outlines'],        \"length_train\": 1000, \"length_val\": 250},\n",
    "    {\"name\": \"no_optical_1000\",  \"modalities\": ['dem', 'bright_dark_outlines'],            \"length_train\": 1000, \"length_val\": 250},\n",
    "    {\"name\": \"no_outlines_2000\", \"modalities\": ['dem', 'optical'],                         \"length_train\": 2000, \"length_val\": 500},\n",
    "    {\"name\": \"optical_only_500\", \"modalities\": ['optical'],                                \"length_train\": 500,  \"length_val\": 125},\n",
    "    {\"name\": \"full_500\",         \"modalities\": ['dem', 'optical', 'bright_dark_outlines'], \"length_train\": 500,  \"length_val\": 125},\n",
    "]\n"
   ]
  },
  {
   "cell_type": "code",
   "execution_count": 6,
   "id": "ad3f1ef3",
   "metadata": {},
   "outputs": [],
   "source": [
    "import numpy as np\n",
    "from sklearn.metrics import (\n",
    "    accuracy_score, \n",
    "    f1_score, \n",
    "    jaccard_score, \n",
    "    precision_score, \n",
    "    recall_score, \n",
    "    confusion_matrix\n",
    ")\n",
    "\n",
    "def segmentation_metrics(y_true, y_pred, num_classes=3):\n",
    "    # Flatten arrays\n",
    "    y_true = y_true.ravel()\n",
    "    y_pred = y_pred.ravel()\n",
    "\n",
    "    # Confusion matrix\n",
    "    cm = confusion_matrix(y_true, y_pred, labels=list(range(num_classes)))\n",
    "\n",
    "    # Pixel accuracy\n",
    "    pixel_acc = accuracy_score(y_true, y_pred)\n",
    "\n",
    "    # IoU (Jaccard Index)\n",
    "    per_class_iou = jaccard_score(y_true, y_pred, average=None, labels=list(range(num_classes)))\n",
    "    mean_iou = jaccard_score(y_true, y_pred, average=\"macro\", labels=list(range(num_classes)))\n",
    "\n",
    "    # Dice (F1-score)\n",
    "    per_class_dice = f1_score(y_true, y_pred, average=None, labels=list(range(num_classes)))\n",
    "    mean_dice = f1_score(y_true, y_pred, average=\"macro\", labels=list(range(num_classes)))\n",
    "\n",
    "    # Precision & Recall\n",
    "    precision = precision_score(y_true, y_pred, average=\"macro\", labels=list(range(num_classes)))\n",
    "    recall = recall_score(y_true, y_pred, average=\"macro\", labels=list(range(num_classes)))\n",
    "\n",
    "    return {\n",
    "        \"pixel_acc\": pixel_acc,\n",
    "        \"mean_iou\": mean_iou,\n",
    "        \"mean_dice\": mean_dice,\n",
    "        \"per_class_iou\": per_class_iou,\n",
    "        \"per_class_dice\": per_class_dice,\n",
    "        \"precision\": precision,\n",
    "        \"recall\": recall,\n",
    "        \"confusion_matrix\": cm\n",
    "    }\n"
   ]
  },
  {
   "cell_type": "code",
   "execution_count": 7,
   "id": "e913cdfa",
   "metadata": {},
   "outputs": [],
   "source": [
    "class EarlyStopping:\n",
    "    \"\"\"\n",
    "    Early-stop when monitored metric doesn't improve after `patience` epochs.\n",
    "    mode='max' for metrics like mIoU; set delta to require minimal improvement.\n",
    "    \"\"\"\n",
    "    def __init__(self, patience=10, mode='max', min_delta=0.0):\n",
    "        self.patience = patience\n",
    "        self.mode = mode\n",
    "        self.min_delta = min_delta\n",
    "        self.best = None\n",
    "        self.counter = 0\n",
    "        self.should_stop = False\n",
    "\n",
    "    def step(self, current):\n",
    "        if self.best is None:\n",
    "            self.best = current\n",
    "            return False\n",
    "\n",
    "        improved = (current > self.best + self.min_delta) if self.mode == 'max' else (current < self.best - self.min_delta)\n",
    "        if improved:\n",
    "            self.best = current\n",
    "            self.counter = 0\n",
    "        else:\n",
    "            self.counter += 1\n",
    "            if self.counter >= self.patience:\n",
    "                self.should_stop = True\n",
    "        return self.should_stop\n"
   ]
  },
  {
   "cell_type": "code",
   "execution_count": 8,
   "id": "0c6ab809",
   "metadata": {},
   "outputs": [],
   "source": [
    "import torch.optim as optim\n",
    "\n",
    "def build_optimizer(model, opt_cfg=None):\n",
    "    opt_cfg = opt_cfg or {\"name\": \"AdamW\", \"lr\": 3e-6, \"weight_decay\": 1e-4}\n",
    "    name = opt_cfg.get(\"name\", \"AdamW\").lower()\n",
    "    lr = opt_cfg.get(\"lr\", 3e-6)\n",
    "    wd = opt_cfg.get(\"weight_decay\", 1e-4)\n",
    "    momentum = opt_cfg.get(\"momentum\", 0.9)\n",
    "\n",
    "    if name == \"sgd\":\n",
    "        return optim.SGD(model.parameters(), lr=lr, weight_decay=wd, momentum=momentum, nesterov=True)\n",
    "    elif name == \"adam\":\n",
    "        return optim.Adam(model.parameters(), lr=lr, weight_decay=wd)\n",
    "    else:\n",
    "        return optim.AdamW(model.parameters(), lr=lr, weight_decay=wd)\n",
    "\n",
    "def build_scheduler(optimizer, sch_cfg=None):\n",
    "    \"\"\"\n",
    "    Default: ReduceLROnPlateau on val mIoU (mode='max').\n",
    "    If you want cosine/step later, we can expand this switch.\n",
    "    \"\"\"\n",
    "    sch_cfg = sch_cfg or {\"name\": \"ReduceLROnPlateau\", \"factor\": 0.5, \"patience\": 5, \"threshold\": 1e-4, \"min_lr\": 1e-7}\n",
    "    name = sch_cfg.get(\"name\", \"ReduceLROnPlateau\").lower()\n",
    "\n",
    "    if name == \"reducelronplateau\":\n",
    "        return optim.lr_scheduler.ReduceLROnPlateau(\n",
    "            optimizer,\n",
    "            mode=\"max\",\n",
    "            factor=sch_cfg.get(\"factor\", 0.5),\n",
    "            patience=sch_cfg.get(\"patience\", 5),\n",
    "            threshold=sch_cfg.get(\"threshold\", 1e-4),\n",
    "            cooldown=sch_cfg.get(\"cooldown\", 0),\n",
    "            min_lr=sch_cfg.get(\"min_lr\", 1e-7)\n",
    "        )\n",
    "    elif name == \"cosineannealing\":\n",
    "        return optim.lr_scheduler.CosineAnnealingLR(\n",
    "            optimizer, T_max=sch_cfg.get(\"T_max\", 50), eta_min=sch_cfg.get(\"min_lr\", 1e-7)\n",
    "        )\n",
    "    elif name == \"steplr\":\n",
    "        return optim.lr_scheduler.StepLR(\n",
    "            optimizer, step_size=sch_cfg.get(\"step_size\", 30), gamma=sch_cfg.get(\"gamma\", 0.1)\n",
    "        )\n",
    "    else:\n",
    "        return None\n"
   ]
  },
  {
   "cell_type": "code",
   "execution_count": 9,
   "id": "ed9eb2ff",
   "metadata": {},
   "outputs": [],
   "source": [
    "from tqdm import tqdm\n",
    "def train_epoch(loader, model, criterion, optimizer, device):\n",
    "    model.train()\n",
    "    total_loss = 0\n",
    "    for x, y in tqdm(loader):\n",
    "        x, y = x.to(device), y.to(device)\n",
    "        optimizer.zero_grad()\n",
    "        outputs = model(x)\n",
    "        loss = criterion(outputs, y)\n",
    "        loss.backward()\n",
    "        optimizer.step()\n",
    "        total_loss += loss.item()\n",
    "    return total_loss/len(loader)\n",
    "\n",
    "def eval_epoch(loader, model, criterion, device):\n",
    "    model.eval()\n",
    "    total_loss = 0\n",
    "    correct, total = 0, 0\n",
    "    with torch.no_grad():\n",
    "        for x, y in loader:\n",
    "            x, y = x.to(device), y.to(device)\n",
    "            outputs = model(x)\n",
    "            loss = criterion(outputs, y)\n",
    "            total_loss += loss.item()\n",
    "            preds = torch.argmax(outputs, dim=1)\n",
    "            correct += (preds == y).sum().item()\n",
    "            total += y.numel()\n",
    "    return total_loss/len(loader), correct/total\n"
   ]
  },
  {
   "cell_type": "code",
   "execution_count": 10,
   "id": "00769abd",
   "metadata": {},
   "outputs": [],
   "source": [
    "TRAIN_PATH = \"/home/goblin/dataset/20230905_train_global_ps384.hdf5\"\n",
    "VAL_PATH = \"/home/goblin/dataset/20230905_val_global_ps384.hdf5\"\n",
    "TEST_PATH = \"/home/goblin/dataset/20230905_test_global_ps384.hdf5\"\n",
    "WEIGHT_DIR = \"weights/NIRD_Config\"\n",
    "os.makedirs(WEIGHT_DIR, exist_ok=True)\n",
    "\n",
    "# dataset_train = GlacierHDF5PatchDataset3(TRAIN_PATH, length=2000)\n",
    "# dataset_val = GlacierHDF5PatchDataset3(VAL_PATH, length = 500)\n",
    "# dataset_test = GlacierHDF5PatchDataset3(TEST_PATH, length = 800)\n",
    "# train_loader= DataLoader(dataset_train, batch_size=30, shuffle=True)\n",
    "# dev_loader = DataLoader(dataset_val, batch_size=30, shuffle=False)\n",
    "# dev_loader = DataLoader(dataset_test, batch_size=30, shuffle=False)\n",
    "\n",
    "DEVICE = torch.device('cuda' if torch.cuda.is_available() else 'cpu')\n",
    "\n"
   ]
  },
  {
   "cell_type": "code",
   "execution_count": 11,
   "id": "5b576c83",
   "metadata": {},
   "outputs": [
    {
     "name": "stdout",
     "output_type": "stream",
     "text": [
      "[INFO] Using device: cpu\n",
      "[ERROR] thop profiling failed: Pointer argument (at 0) cannot be accessed from Triton (cpu tensor?)\n",
      "[ERROR] torchinfo summary failed: Failed to run torchinfo. See above stack traces for more details. Executed layers up to: [OverlapPatchEmbedInvo: 4, Involution2D: 5, AvgPool2d: 6, Conv2d: 6, ReLU: 6, Conv2d: 6, Conv2d: 5, BatchNorm2d: 5]\n",
      "[ERROR] Analysis failed: Pointer argument (at 0) cannot be accessed from Triton (cpu tensor?)\n"
     ]
    }
   ],
   "source": [
    "import torch\n",
    "import time\n",
    "from thop import profile\n",
    "from torchinfo import summary\n",
    "\n",
    "def analyze_model(model, input_size=(1, 11, 256, 256), device=None):\n",
    "    # --- Device selection ---\n",
    "    device = device or (\"cuda\" if torch.cuda.is_available() else \"cpu\")\n",
    "    print(f\"[INFO] Using device: {device}\")\n",
    "\n",
    "    # --- Move model and input to device ---\n",
    "    model = model.to(device)\n",
    "    dummy_input = torch.randn(*input_size).to(device)\n",
    "\n",
    "    # --- Verify device consistency ---\n",
    "    if next(model.parameters()).device != dummy_input.device:\n",
    "        raise RuntimeError(f\"Model and input device mismatch: model on {next(model.parameters()).device}, input on {dummy_input.device}\")\n",
    "\n",
    "    # --- FLOPs & MACs ---\n",
    "    try:\n",
    "        macs, params = profile(model, inputs=(dummy_input,), verbose=False)\n",
    "        flops = 2 * macs  # 1 MAC = 2 FLOPs\n",
    "    except Exception as e:\n",
    "        print(f\"[ERROR] thop profiling failed: {e}\")\n",
    "        macs, params, flops = 0, 0, 0  # Fallback values\n",
    "\n",
    "    # --- Torchinfo summary ---\n",
    "    try:\n",
    "        print(summary(model, input_size=input_size, device=device))\n",
    "    except Exception as e:\n",
    "        print(f\"[ERROR] torchinfo summary failed: {e}\")\n",
    "\n",
    "    # --- Inference time ---\n",
    "    model.eval()\n",
    "    with torch.no_grad():\n",
    "        # Warm-up\n",
    "        for _ in range(5):\n",
    "            _ = model(dummy_input)\n",
    "        torch.cuda.synchronize() if device.startswith(\"cuda\") else None  # Sync for GPU\n",
    "        start = time.time()\n",
    "        for _ in range(20):\n",
    "            _ = model(dummy_input)\n",
    "        torch.cuda.synchronize() if device.startswith(\"cuda\") else None  # Sync for GPU\n",
    "        end = time.time()\n",
    "    avg_time = (end - start) / 20 * 1000  # Convert to ms/sample\n",
    "\n",
    "    return {\n",
    "        \"device\": device,\n",
    "        \"params\": params,\n",
    "        \"macs\": macs / 1e6,  # Convert to millions\n",
    "        \"flops\": flops / 1e6,  # Convert to millions\n",
    "        \"avg_inference_time_ms\": avg_time\n",
    "    }\n",
    "\n",
    "# Example usage\n",
    "try:\n",
    "    model = SegFormer(num_classes=2, in_chans=11)  # Ensure SegFormer is defined\n",
    "    stats = analyze_model(model, input_size=(1, 11, 256, 256), device=\"cpu\")\n",
    "    print(stats)\n",
    "except Exception as e:\n",
    "    print(f\"[ERROR] Analysis failed: {e}\")"
   ]
  },
  {
   "cell_type": "code",
   "execution_count": 12,
   "id": "696bed1b",
   "metadata": {},
   "outputs": [],
   "source": [
    "# %%\n",
    "import os, time, numpy as np, torch\n",
    "from torch.utils.data import DataLoader\n",
    "from torch.utils.tensorboard import SummaryWriter\n",
    "import torch.nn as nn\n",
    "\n",
    "def _format_list(vals):\n",
    "    return \"[\" + \"|\".join(f\"{float(v):.4f}\" for v in vals) + \"]\"\n",
    "\n",
    "def _flatten_cm(cm):\n",
    "    return \"[\" + \"|\".join(str(int(x)) for x in cm.flatten().tolist()) + \"]\"\n",
    "\n",
    "def train_dataset_config(\n",
    "    config,\n",
    "    train_path,\n",
    "    val_path,\n",
    "    device=\"cuda\",\n",
    "    epochs_default=30,\n",
    "    batch_size_default=30,\n",
    "    num_classes=2,\n",
    "    base_run_dir=\"runs\",\n",
    "    base_weight_dir=\"weights\",\n",
    "    save_every=5,\n",
    "    es_patience_default=10\n",
    "):\n",
    "    name = config['name']\n",
    "    run_dir = os.path.join(base_run_dir, name)\n",
    "    weight_dir = os.path.join(base_weight_dir, name)\n",
    "    os.makedirs(run_dir, exist_ok=True)\n",
    "    os.makedirs(weight_dir, exist_ok=True)\n",
    "\n",
    "    # Build datasets\n",
    "    dataset_train = GlacierHDF5PatchDataset3(train_path, length=config[\"length_train\"], modalities=config[\"modalities\"])\n",
    "    dataset_val   = GlacierHDF5PatchDataset3(val_path,   length=config[\"length_val\"],   modalities=config[\"modalities\"])\n",
    "\n",
    "    epochs = config.get(\"epochs\", epochs_default)\n",
    "    batch_size = config.get(\"batch_size\", batch_size_default)\n",
    "\n",
    "    train_loader = DataLoader(dataset_train, batch_size=batch_size, shuffle=True)\n",
    "    val_loader   = DataLoader(dataset_val,   batch_size=batch_size, shuffle=False)\n",
    "\n",
    "    # Build model\n",
    "    in_chans = dataset_train.in_chans\n",
    "    model = SegFormer(\n",
    "        num_classes=num_classes,\n",
    "        variant=\"mit_b0\",\n",
    "        drop_path_rate=0.1,\n",
    "        in_chans=in_chans,\n",
    "        embed_dims=[16, 32, 64, 128],  # keep fixed backbone for ablation\n",
    "        depths=[1, 1, 1, 1],\n",
    "        use_invo_stages=(True, True, False, False)\n",
    "    ).to(device)\n",
    "\n",
    "    # Optimizer & scheduler\n",
    "    optimizer = build_optimizer(model, config.get(\"optimizer\"))\n",
    "    scheduler = build_scheduler(optimizer, config.get(\"scheduler\"))\n",
    "\n",
    "    # Criterion\n",
    "    criterion = nn.CrossEntropyLoss()\n",
    "\n",
    "    # TensorBoard writer\n",
    "    writer = SummaryWriter(run_dir)\n",
    "\n",
    "    # Optional: computational analysis\n",
    "    try:\n",
    "        computational_metrics = analyze_model(model, input_size=(1, in_chans, 256, 256), device=device)\n",
    "    except Exception as e:\n",
    "        print(f\"[WARN] analyze_model failed: {e}\")\n",
    "        computational_metrics = {}\n",
    "    if computational_metrics:\n",
    "        if 'params' in computational_metrics:       writer.add_scalar(\"Computational/Params\", computational_metrics['params'], 0)\n",
    "        if 'macs' in computational_metrics:         writer.add_scalar(\"Computational/MACs_M\", computational_metrics['macs'], 0)\n",
    "        if 'flops' in computational_metrics:        writer.add_scalar(\"Computational/FLOPs_M\", computational_metrics['flops'], 0)\n",
    "        if 'avg_inference_time_ms' in computational_metrics:\n",
    "            writer.add_scalar(\"Computational/AvgInference_ms\", computational_metrics['avg_inference_time_ms'], 0)\n",
    "\n",
    "    # Text log\n",
    "    log_path = os.path.join(weight_dir, \"training_log.txt\")\n",
    "    if not os.path.exists(log_path):\n",
    "        with open(log_path, \"w\") as f:\n",
    "            f.write(\"epoch,train_loss,val_loss,val_pixel_acc,val_mIoU,val_dice,val_precision,val_recall,lr,per_class_iou[],per_class_dice[],confusion_matrix_flat\\n\")\n",
    "\n",
    "    # Early stopping\n",
    "    es_cfg = config.get(\"early_stopping\", {\"monitor\": \"val_mIoU\", \"patience\": es_patience_default})\n",
    "    es_patience = es_cfg.get(\"patience\", es_patience_default)\n",
    "    early_stopper = EarlyStopping(patience=es_patience, mode=\"max\", min_delta=0.0)\n",
    "\n",
    "    best_iou, best_epoch = -1.0, -1\n",
    "    start_time = time.time()\n",
    "\n",
    "    for epoch in range(1, epochs + 1):\n",
    "        # --- Train ---\n",
    "        train_loss = train_epoch(train_loader, model, criterion, optimizer, device)\n",
    "\n",
    "        # --- Validate ---\n",
    "        val_loss, _ = eval_epoch(val_loader, model, criterion, device)\n",
    "\n",
    "        model.eval()\n",
    "        all_preds, all_labels = [], []\n",
    "        with torch.no_grad():\n",
    "            for x, y in val_loader:\n",
    "                x, y = x.to(device), y.to(device)\n",
    "                logits = model(x)\n",
    "                preds  = torch.argmax(logits, dim=1)\n",
    "                all_preds.append(preds.cpu().numpy())\n",
    "                all_labels.append(y.cpu().numpy())\n",
    "\n",
    "        y_true = np.concatenate(all_labels, axis=None)\n",
    "        y_pred = np.concatenate(all_preds, axis=None)\n",
    "        metrics = segmentation_metrics(y_true, y_pred, num_classes=num_classes)\n",
    "\n",
    "        val_acc   = float(metrics[\"pixel_acc\"])\n",
    "        val_miou  = float(metrics[\"mean_iou\"])\n",
    "        val_dice  = float(metrics[\"mean_dice\"])\n",
    "        val_prec  = float(metrics[\"precision\"])\n",
    "        val_rec   = float(metrics[\"recall\"])\n",
    "        cls_iou   = metrics[\"per_class_iou\"]\n",
    "        cls_dice  = metrics[\"per_class_dice\"]\n",
    "        cm        = metrics[\"confusion_matrix\"]\n",
    "\n",
    "        # --- LR & Scheduler ---\n",
    "        current_lr = optimizer.param_groups[0][\"lr\"]\n",
    "        if scheduler is not None:\n",
    "            scheduler.step(val_miou)\n",
    "            current_lr = optimizer.param_groups[0][\"lr\"]\n",
    "\n",
    "        # --- TensorBoard ---\n",
    "        writer.add_scalar(\"Loss/train\",    train_loss, epoch)\n",
    "        writer.add_scalar(\"Loss/val\",      val_loss,   epoch)\n",
    "        writer.add_scalar(\"Val/PixelAcc\",  val_acc,    epoch)\n",
    "        writer.add_scalar(\"Val/mIoU\",      val_miou,   epoch)\n",
    "        writer.add_scalar(\"Val/Dice\",      val_dice,   epoch)\n",
    "        writer.add_scalar(\"Val/Precision\", val_prec,   epoch)\n",
    "        writer.add_scalar(\"Val/Recall\",    val_rec,    epoch)\n",
    "        writer.add_scalar(\"LR/lr\",         current_lr, epoch)\n",
    "\n",
    "        # --- Text log (CSV line) ---\n",
    "        with open(log_path, \"a\") as f:\n",
    "            f.write(f\"{epoch},{train_loss:.6f},{val_loss:.6f},{val_acc:.6f},{val_miou:.6f},{val_dice:.6f},{val_prec:.6f},{val_rec:.6f},{current_lr:.8e},{_format_list(cls_iou)},{_format_list(cls_dice)},{_flatten_cm(cm)}\\n\")\n",
    "\n",
    "        # --- Checkpointing ---\n",
    "        if val_miou > best_iou:\n",
    "            best_iou, best_epoch = val_miou, epoch\n",
    "            best_ckpt_path = os.path.join(weight_dir, \"best_model.pth\")\n",
    "            torch.save(model.state_dict(), best_ckpt_path)\n",
    "            print(f\"[{name}] ✔ New best mIoU={best_iou:.4f} at epoch {epoch} → saved {best_ckpt_path}\")\n",
    "\n",
    "        if save_every is not None and epoch % save_every == 0:\n",
    "            ep_path = os.path.join(weight_dir, f\"epoch_{epoch:03d}.pth\")\n",
    "            torch.save(model.state_dict(), ep_path)\n",
    "\n",
    "        # --- Early stopping ---\n",
    "        if early_stopper.step(val_miou):\n",
    "            print(f\"[{name}] ⏹ Early stopping at epoch {epoch} (no improvement for {es_patience} epochs).\")\n",
    "            break\n",
    "\n",
    "    total_time = time.time() - start_time\n",
    "    with open(log_path, \"a\") as f:\n",
    "        f.write(f\"BEST_EPOCH={best_epoch}\\nBEST_mIoU={best_iou:.6f}\\nTOTAL_TIME_SEC={total_time:.2f}\\n\")\n",
    "\n",
    "    writer.flush()\n",
    "    writer.close()\n",
    "\n",
    "    dataset_train.close()\n",
    "    dataset_val.close()\n",
    "\n",
    "    print(f\"[{name}] Finished. Best mIoU={best_iou:.4f} at epoch {best_epoch}. Log: {log_path}\")\n"
   ]
  },
  {
   "cell_type": "code",
   "execution_count": 13,
   "id": "38fb2468",
   "metadata": {},
   "outputs": [],
   "source": [
    "# %%\n",
    "def run_all_dataset_configs(\n",
    "    variants,\n",
    "    train_path,\n",
    "    val_path,\n",
    "    device=\"cuda\",\n",
    "    epochs=30,\n",
    "    batch_size=30,\n",
    "    num_classes=2,\n",
    "    base_run_dir=\"runs\",\n",
    "    base_weight_dir=\"weights\"\n",
    "):\n",
    "    \"\"\"\n",
    "    Loop through all dataset configs (variants) and train each one.\n",
    "    \"\"\"\n",
    "    for config in variants:\n",
    "        print(f\"\\n=== Processing dataset config: {config['name']} ===\")\n",
    "        \n",
    "        train_dataset_config(\n",
    "            config=config,\n",
    "            train_path=train_path,\n",
    "            val_path=val_path,\n",
    "            device=device,\n",
    "            epochs_default=epochs,\n",
    "            batch_size_default=batch_size,\n",
    "            num_classes=num_classes,\n",
    "            base_run_dir=base_run_dir,\n",
    "            base_weight_dir=base_weight_dir,\n",
    "            save_every=config.get(\"save_every\", None),\n",
    "            es_patience_default=config.get(\"early_stopping\", {\"patience\": 10})[\"patience\"]\n",
    "        )\n"
   ]
  },
  {
   "cell_type": "code",
   "execution_count": 14,
   "id": "f5be163e",
   "metadata": {},
   "outputs": [],
   "source": [
    "import pandas as pd\n",
    "\n",
    "def collect_dataset_results(variants, base_weight_dir=\"weights/ablation\", out_dir=\"results\"):\n",
    "    \"\"\"\n",
    "    Collect BEST_EPOCH, BEST_mIoU, TOTAL_TIME_SEC from all dataset training logs.\n",
    "    Save as CSV + Markdown.\n",
    "    \"\"\"\n",
    "    os.makedirs(out_dir, exist_ok=True)\n",
    "    results = []\n",
    "\n",
    "    for cfg in variants:\n",
    "        name = \"dataset_\" + cfg[\"name\"]\n",
    "        log_path = os.path.join(base_weight_dir, name, \"training_log.txt\")\n",
    "        if not os.path.exists(log_path):\n",
    "            print(f\"[WARN] No log file found for {name}, skipping.\")\n",
    "            continue\n",
    "\n",
    "        best_epoch, best_miou, total_time = None, None, None\n",
    "        with open(log_path, \"r\") as f:\n",
    "            for line in f:\n",
    "                if line.startswith(\"BEST_EPOCH=\"):\n",
    "                    best_epoch = int(line.strip().split(\"=\")[1])\n",
    "                elif line.startswith(\"BEST_mIoU=\"):\n",
    "                    best_miou = float(line.strip().split(\"=\")[1])\n",
    "                elif line.startswith(\"TOTAL_TIME_SEC=\"):\n",
    "                    total_time = float(line.strip().split(\"=\")[1])\n",
    "\n",
    "        results.append({\n",
    "            \"Config\": name,\n",
    "            \"BEST_EPOCH\": best_epoch,\n",
    "            \"BEST_mIoU\": best_miou,\n",
    "            \"TOTAL_TIME_SEC\": total_time\n",
    "        })\n",
    "\n",
    "    # Save results\n",
    "    df = pd.DataFrame(results)\n",
    "    csv_path = os.path.join(out_dir, \"dataset_ablation_results.csv\")\n",
    "    md_path = os.path.join(out_dir, \"dataset_ablation_results.md\")\n",
    "\n",
    "    df.to_csv(csv_path, index=False)\n",
    "    df.to_markdown(md_path, index=False)\n",
    "\n",
    "    print(f\"[INFO] Saved dataset ablation results → {csv_path}, {md_path}\")\n",
    "    return df\n"
   ]
  },
  {
   "cell_type": "code",
   "execution_count": 15,
   "id": "4cf1d3da",
   "metadata": {},
   "outputs": [
    {
     "name": "stdout",
     "output_type": "stream",
     "text": [
      "\n",
      "=== Processing dataset config: full_2000 ===\n",
      "[INFO] Using device: cuda\n",
      "====================================================================================================\n",
      "Layer (type:depth-idx)                             Output Shape              Param #\n",
      "====================================================================================================\n",
      "SegFormer                                          [1, 2, 256, 256]          --\n",
      "├─MixVisionTransformer: 1-1                        [1, 16, 128, 128]         --\n",
      "│    └─ModuleList: 2-1                             --                        --\n",
      "│    │    └─MiTStage: 3-1                          [1, 16, 128, 128]         5,795\n",
      "│    │    └─MiTStage: 3-2                          [1, 32, 64, 64]           19,057\n",
      "│    │    └─MiTStage: 3-3                          [1, 64, 32, 32]           84,416\n",
      "│    │    └─MiTStage: 3-4                          [1, 128, 16, 16]          322,432\n",
      "├─SegFormerHead: 1-2                               [1, 2, 128, 128]          --\n",
      "│    └─ModuleList: 2-2                             --                        --\n",
      "│    │    └─Sequential: 3-5                        [1, 128, 128, 128]        2,304\n",
      "│    │    └─Sequential: 3-6                        [1, 128, 64, 64]          4,352\n",
      "│    │    └─Sequential: 3-7                        [1, 128, 32, 32]          8,448\n",
      "│    │    └─Sequential: 3-8                        [1, 128, 16, 16]          16,640\n",
      "│    └─Sequential: 2-3                             [1, 128, 128, 128]        --\n",
      "│    │    └─Conv2d: 3-9                            [1, 128, 128, 128]        65,536\n",
      "│    │    └─BatchNorm2d: 3-10                      [1, 128, 128, 128]        256\n",
      "│    │    └─ReLU: 3-11                             [1, 128, 128, 128]        --\n",
      "│    │    └─Conv2d: 3-12                           [1, 128, 128, 128]        147,456\n",
      "│    │    └─BatchNorm2d: 3-13                      [1, 128, 128, 128]        256\n",
      "│    │    └─ReLU: 3-14                             [1, 128, 128, 128]        --\n",
      "│    └─Conv2d: 2-4                                 [1, 2, 128, 128]          258\n",
      "====================================================================================================\n",
      "Total params: 677,206\n",
      "Trainable params: 677,206\n",
      "Non-trainable params: 0\n",
      "Total mult-adds (G): 3.60\n",
      "====================================================================================================\n",
      "Input size (MB): 2.88\n",
      "Forward/backward pass size (MB): 149.19\n",
      "Params size (MB): 2.06\n",
      "Estimated Total Size (MB): 154.14\n",
      "====================================================================================================\n",
      "[WARN] analyze_model failed: 'torch.device' object has no attribute 'startswith'\n"
     ]
    },
    {
     "name": "stderr",
     "output_type": "stream",
     "text": [
      "100%|██████████| 67/67 [01:49<00:00,  1.64s/it]\n"
     ]
    },
    {
     "name": "stdout",
     "output_type": "stream",
     "text": [
      "[full_2000] ✔ New best mIoU=0.6791 at epoch 1 → saved weights/ablation/full_2000/best_model.pth\n"
     ]
    },
    {
     "name": "stderr",
     "output_type": "stream",
     "text": [
      "100%|██████████| 67/67 [01:55<00:00,  1.72s/it]\n"
     ]
    },
    {
     "name": "stdout",
     "output_type": "stream",
     "text": [
      "[full_2000] ✔ New best mIoU=0.7607 at epoch 2 → saved weights/ablation/full_2000/best_model.pth\n"
     ]
    },
    {
     "name": "stderr",
     "output_type": "stream",
     "text": [
      "100%|██████████| 67/67 [01:42<00:00,  1.53s/it]\n"
     ]
    },
    {
     "name": "stdout",
     "output_type": "stream",
     "text": [
      "[full_2000] ✔ New best mIoU=0.8011 at epoch 3 → saved weights/ablation/full_2000/best_model.pth\n"
     ]
    },
    {
     "name": "stderr",
     "output_type": "stream",
     "text": [
      "100%|██████████| 67/67 [01:46<00:00,  1.59s/it]\n"
     ]
    },
    {
     "name": "stdout",
     "output_type": "stream",
     "text": [
      "[full_2000] ✔ New best mIoU=0.8253 at epoch 4 → saved weights/ablation/full_2000/best_model.pth\n"
     ]
    },
    {
     "name": "stderr",
     "output_type": "stream",
     "text": [
      "100%|██████████| 67/67 [01:41<00:00,  1.51s/it]\n"
     ]
    },
    {
     "name": "stdout",
     "output_type": "stream",
     "text": [
      "[full_2000] ✔ New best mIoU=0.8494 at epoch 5 → saved weights/ablation/full_2000/best_model.pth\n"
     ]
    },
    {
     "name": "stderr",
     "output_type": "stream",
     "text": [
      "100%|██████████| 67/67 [01:43<00:00,  1.54s/it]\n"
     ]
    },
    {
     "name": "stdout",
     "output_type": "stream",
     "text": [
      "[full_2000] ✔ New best mIoU=0.8538 at epoch 6 → saved weights/ablation/full_2000/best_model.pth\n"
     ]
    },
    {
     "name": "stderr",
     "output_type": "stream",
     "text": [
      "100%|██████████| 67/67 [01:41<00:00,  1.52s/it]\n"
     ]
    },
    {
     "name": "stdout",
     "output_type": "stream",
     "text": [
      "[full_2000] ✔ New best mIoU=0.8655 at epoch 7 → saved weights/ablation/full_2000/best_model.pth\n"
     ]
    },
    {
     "name": "stderr",
     "output_type": "stream",
     "text": [
      "100%|██████████| 67/67 [01:42<00:00,  1.53s/it]\n"
     ]
    },
    {
     "name": "stdout",
     "output_type": "stream",
     "text": [
      "[full_2000] ✔ New best mIoU=0.8819 at epoch 8 → saved weights/ablation/full_2000/best_model.pth\n"
     ]
    },
    {
     "name": "stderr",
     "output_type": "stream",
     "text": [
      "100%|██████████| 67/67 [01:54<00:00,  1.71s/it]\n"
     ]
    },
    {
     "name": "stdout",
     "output_type": "stream",
     "text": [
      "[full_2000] ✔ New best mIoU=0.8886 at epoch 9 → saved weights/ablation/full_2000/best_model.pth\n"
     ]
    },
    {
     "name": "stderr",
     "output_type": "stream",
     "text": [
      "100%|██████████| 67/67 [01:41<00:00,  1.52s/it]\n",
      "100%|██████████| 67/67 [01:41<00:00,  1.52s/it]\n"
     ]
    },
    {
     "name": "stdout",
     "output_type": "stream",
     "text": [
      "[full_2000] ✔ New best mIoU=0.9086 at epoch 11 → saved weights/ablation/full_2000/best_model.pth\n"
     ]
    },
    {
     "name": "stderr",
     "output_type": "stream",
     "text": [
      "100%|██████████| 67/67 [01:42<00:00,  1.52s/it]\n"
     ]
    },
    {
     "name": "stdout",
     "output_type": "stream",
     "text": [
      "[full_2000] ✔ New best mIoU=0.9139 at epoch 12 → saved weights/ablation/full_2000/best_model.pth\n"
     ]
    },
    {
     "name": "stderr",
     "output_type": "stream",
     "text": [
      "100%|██████████| 67/67 [01:43<00:00,  1.54s/it]\n"
     ]
    },
    {
     "name": "stdout",
     "output_type": "stream",
     "text": [
      "[full_2000] ✔ New best mIoU=0.9200 at epoch 13 → saved weights/ablation/full_2000/best_model.pth\n"
     ]
    },
    {
     "name": "stderr",
     "output_type": "stream",
     "text": [
      "100%|██████████| 67/67 [01:42<00:00,  1.53s/it]\n"
     ]
    },
    {
     "name": "stdout",
     "output_type": "stream",
     "text": [
      "[full_2000] ✔ New best mIoU=0.9201 at epoch 14 → saved weights/ablation/full_2000/best_model.pth\n"
     ]
    },
    {
     "name": "stderr",
     "output_type": "stream",
     "text": [
      "100%|██████████| 67/67 [01:56<00:00,  1.73s/it]\n",
      "100%|██████████| 67/67 [01:55<00:00,  1.72s/it]\n",
      "100%|██████████| 67/67 [01:42<00:00,  1.53s/it]\n"
     ]
    },
    {
     "name": "stdout",
     "output_type": "stream",
     "text": [
      "[full_2000] ✔ New best mIoU=0.9244 at epoch 17 → saved weights/ablation/full_2000/best_model.pth\n"
     ]
    },
    {
     "name": "stderr",
     "output_type": "stream",
     "text": [
      "100%|██████████| 67/67 [01:42<00:00,  1.53s/it]\n"
     ]
    },
    {
     "name": "stdout",
     "output_type": "stream",
     "text": [
      "[full_2000] ✔ New best mIoU=0.9300 at epoch 18 → saved weights/ablation/full_2000/best_model.pth\n"
     ]
    },
    {
     "name": "stderr",
     "output_type": "stream",
     "text": [
      "100%|██████████| 67/67 [01:58<00:00,  1.76s/it]\n",
      "100%|██████████| 67/67 [01:42<00:00,  1.52s/it]\n"
     ]
    },
    {
     "name": "stdout",
     "output_type": "stream",
     "text": [
      "[full_2000] ✔ New best mIoU=0.9314 at epoch 20 → saved weights/ablation/full_2000/best_model.pth\n"
     ]
    },
    {
     "name": "stderr",
     "output_type": "stream",
     "text": [
      "100%|██████████| 67/67 [01:41<00:00,  1.52s/it]\n",
      "100%|██████████| 67/67 [01:42<00:00,  1.53s/it]\n"
     ]
    },
    {
     "name": "stdout",
     "output_type": "stream",
     "text": [
      "[full_2000] ✔ New best mIoU=0.9357 at epoch 22 → saved weights/ablation/full_2000/best_model.pth\n"
     ]
    },
    {
     "name": "stderr",
     "output_type": "stream",
     "text": [
      "100%|██████████| 67/67 [01:55<00:00,  1.72s/it]\n",
      "100%|██████████| 67/67 [01:41<00:00,  1.51s/it]\n",
      "100%|██████████| 67/67 [01:42<00:00,  1.53s/it]\n"
     ]
    },
    {
     "name": "stdout",
     "output_type": "stream",
     "text": [
      "[full_2000] ✔ New best mIoU=0.9441 at epoch 25 → saved weights/ablation/full_2000/best_model.pth\n"
     ]
    },
    {
     "name": "stderr",
     "output_type": "stream",
     "text": [
      "100%|██████████| 67/67 [01:42<00:00,  1.54s/it]\n",
      "100%|██████████| 67/67 [01:57<00:00,  1.75s/it]\n"
     ]
    },
    {
     "name": "stdout",
     "output_type": "stream",
     "text": [
      "[full_2000] ✔ New best mIoU=0.9464 at epoch 27 → saved weights/ablation/full_2000/best_model.pth\n"
     ]
    },
    {
     "name": "stderr",
     "output_type": "stream",
     "text": [
      "100%|██████████| 67/67 [01:56<00:00,  1.74s/it]\n",
      "100%|██████████| 67/67 [01:42<00:00,  1.53s/it]\n"
     ]
    },
    {
     "name": "stdout",
     "output_type": "stream",
     "text": [
      "[full_2000] ✔ New best mIoU=0.9487 at epoch 29 → saved weights/ablation/full_2000/best_model.pth\n"
     ]
    },
    {
     "name": "stderr",
     "output_type": "stream",
     "text": [
      "100%|██████████| 67/67 [01:57<00:00,  1.76s/it]\n"
     ]
    },
    {
     "name": "stdout",
     "output_type": "stream",
     "text": [
      "[full_2000] ✔ New best mIoU=0.9507 at epoch 30 → saved weights/ablation/full_2000/best_model.pth\n",
      "[full_2000] Finished. Best mIoU=0.9507 at epoch 30. Log: weights/ablation/full_2000/training_log.txt\n",
      "\n",
      "=== Processing dataset config: no_dem_1000 ===\n",
      "[INFO] Using device: cuda\n",
      "====================================================================================================\n",
      "Layer (type:depth-idx)                             Output Shape              Param #\n",
      "====================================================================================================\n",
      "SegFormer                                          [1, 2, 256, 256]          --\n",
      "├─MixVisionTransformer: 1-1                        [1, 16, 128, 128]         --\n",
      "│    └─ModuleList: 2-1                             --                        --\n",
      "│    │    └─MiTStage: 3-1                          [1, 16, 128, 128]         5,759\n",
      "│    │    └─MiTStage: 3-2                          [1, 32, 64, 64]           19,057\n",
      "│    │    └─MiTStage: 3-3                          [1, 64, 32, 32]           84,416\n",
      "│    │    └─MiTStage: 3-4                          [1, 128, 16, 16]          322,432\n",
      "├─SegFormerHead: 1-2                               [1, 2, 128, 128]          --\n",
      "│    └─ModuleList: 2-2                             --                        --\n",
      "│    │    └─Sequential: 3-5                        [1, 128, 128, 128]        2,304\n",
      "│    │    └─Sequential: 3-6                        [1, 128, 64, 64]          4,352\n",
      "│    │    └─Sequential: 3-7                        [1, 128, 32, 32]          8,448\n",
      "│    │    └─Sequential: 3-8                        [1, 128, 16, 16]          16,640\n",
      "│    └─Sequential: 2-3                             [1, 128, 128, 128]        --\n",
      "│    │    └─Conv2d: 3-9                            [1, 128, 128, 128]        65,536\n",
      "│    │    └─BatchNorm2d: 3-10                      [1, 128, 128, 128]        256\n",
      "│    │    └─ReLU: 3-11                             [1, 128, 128, 128]        --\n",
      "│    │    └─Conv2d: 3-12                           [1, 128, 128, 128]        147,456\n",
      "│    │    └─BatchNorm2d: 3-13                      [1, 128, 128, 128]        256\n",
      "│    │    └─ReLU: 3-14                             [1, 128, 128, 128]        --\n",
      "│    └─Conv2d: 2-4                                 [1, 2, 128, 128]          258\n",
      "====================================================================================================\n",
      "Total params: 677,170\n",
      "Trainable params: 677,170\n",
      "Non-trainable params: 0\n",
      "Total mult-adds (G): 3.60\n",
      "====================================================================================================\n",
      "Input size (MB): 2.36\n",
      "Forward/backward pass size (MB): 149.19\n",
      "Params size (MB): 2.06\n",
      "Estimated Total Size (MB): 153.61\n",
      "====================================================================================================\n",
      "[WARN] analyze_model failed: 'torch.device' object has no attribute 'startswith'\n"
     ]
    },
    {
     "name": "stderr",
     "output_type": "stream",
     "text": [
      "100%|██████████| 34/34 [00:40<00:00,  1.20s/it]\n"
     ]
    },
    {
     "name": "stdout",
     "output_type": "stream",
     "text": [
      "[no_dem_1000] ✔ New best mIoU=0.0967 at epoch 1 → saved weights/ablation/no_dem_1000/best_model.pth\n"
     ]
    },
    {
     "name": "stderr",
     "output_type": "stream",
     "text": [
      "100%|██████████| 34/34 [00:40<00:00,  1.19s/it]\n"
     ]
    },
    {
     "name": "stdout",
     "output_type": "stream",
     "text": [
      "[no_dem_1000] ✔ New best mIoU=0.1393 at epoch 2 → saved weights/ablation/no_dem_1000/best_model.pth\n"
     ]
    },
    {
     "name": "stderr",
     "output_type": "stream",
     "text": [
      "100%|██████████| 34/34 [00:40<00:00,  1.21s/it]\n"
     ]
    },
    {
     "name": "stdout",
     "output_type": "stream",
     "text": [
      "[no_dem_1000] ✔ New best mIoU=0.2991 at epoch 3 → saved weights/ablation/no_dem_1000/best_model.pth\n"
     ]
    },
    {
     "name": "stderr",
     "output_type": "stream",
     "text": [
      "100%|██████████| 34/34 [00:40<00:00,  1.19s/it]\n",
      "100%|██████████| 34/34 [00:39<00:00,  1.17s/it]\n"
     ]
    },
    {
     "name": "stdout",
     "output_type": "stream",
     "text": [
      "[no_dem_1000] ✔ New best mIoU=0.6800 at epoch 5 → saved weights/ablation/no_dem_1000/best_model.pth\n"
     ]
    },
    {
     "name": "stderr",
     "output_type": "stream",
     "text": [
      "100%|██████████| 34/34 [00:41<00:00,  1.21s/it]\n",
      "100%|██████████| 34/34 [00:40<00:00,  1.18s/it]\n"
     ]
    },
    {
     "name": "stdout",
     "output_type": "stream",
     "text": [
      "[no_dem_1000] ✔ New best mIoU=0.8073 at epoch 7 → saved weights/ablation/no_dem_1000/best_model.pth\n"
     ]
    },
    {
     "name": "stderr",
     "output_type": "stream",
     "text": [
      "100%|██████████| 34/34 [00:40<00:00,  1.19s/it]\n"
     ]
    },
    {
     "name": "stdout",
     "output_type": "stream",
     "text": [
      "[no_dem_1000] ✔ New best mIoU=0.8231 at epoch 8 → saved weights/ablation/no_dem_1000/best_model.pth\n"
     ]
    },
    {
     "name": "stderr",
     "output_type": "stream",
     "text": [
      "100%|██████████| 34/34 [00:40<00:00,  1.20s/it]\n",
      "100%|██████████| 34/34 [01:04<00:00,  1.91s/it]\n"
     ]
    },
    {
     "name": "stdout",
     "output_type": "stream",
     "text": [
      "[no_dem_1000] ✔ New best mIoU=0.8434 at epoch 10 → saved weights/ablation/no_dem_1000/best_model.pth\n"
     ]
    },
    {
     "name": "stderr",
     "output_type": "stream",
     "text": [
      "100%|██████████| 34/34 [00:40<00:00,  1.20s/it]\n"
     ]
    },
    {
     "name": "stdout",
     "output_type": "stream",
     "text": [
      "[no_dem_1000] ✔ New best mIoU=0.8751 at epoch 11 → saved weights/ablation/no_dem_1000/best_model.pth\n"
     ]
    },
    {
     "name": "stderr",
     "output_type": "stream",
     "text": [
      "100%|██████████| 34/34 [00:40<00:00,  1.19s/it]\n"
     ]
    },
    {
     "name": "stdout",
     "output_type": "stream",
     "text": [
      "[no_dem_1000] ✔ New best mIoU=0.8882 at epoch 12 → saved weights/ablation/no_dem_1000/best_model.pth\n"
     ]
    },
    {
     "name": "stderr",
     "output_type": "stream",
     "text": [
      "100%|██████████| 34/34 [00:40<00:00,  1.19s/it]\n",
      "100%|██████████| 34/34 [00:40<00:00,  1.19s/it]\n",
      "100%|██████████| 34/34 [00:40<00:00,  1.20s/it]\n"
     ]
    },
    {
     "name": "stdout",
     "output_type": "stream",
     "text": [
      "[no_dem_1000] ✔ New best mIoU=0.9035 at epoch 15 → saved weights/ablation/no_dem_1000/best_model.pth\n"
     ]
    },
    {
     "name": "stderr",
     "output_type": "stream",
     "text": [
      "100%|██████████| 34/34 [00:40<00:00,  1.19s/it]\n",
      "100%|██████████| 34/34 [00:41<00:00,  1.21s/it]\n",
      "100%|██████████| 34/34 [00:40<00:00,  1.20s/it]\n",
      "100%|██████████| 34/34 [00:41<00:00,  1.21s/it]\n",
      "100%|██████████| 34/34 [01:01<00:00,  1.82s/it]\n",
      "100%|██████████| 34/34 [00:40<00:00,  1.20s/it]\n",
      "100%|██████████| 34/34 [00:40<00:00,  1.20s/it]\n"
     ]
    },
    {
     "name": "stdout",
     "output_type": "stream",
     "text": [
      "[no_dem_1000] ✔ New best mIoU=0.9234 at epoch 22 → saved weights/ablation/no_dem_1000/best_model.pth\n"
     ]
    },
    {
     "name": "stderr",
     "output_type": "stream",
     "text": [
      "100%|██████████| 34/34 [00:40<00:00,  1.19s/it]\n",
      "100%|██████████| 34/34 [00:41<00:00,  1.22s/it]\n"
     ]
    },
    {
     "name": "stdout",
     "output_type": "stream",
     "text": [
      "[no_dem_1000] ✔ New best mIoU=0.9293 at epoch 24 → saved weights/ablation/no_dem_1000/best_model.pth\n"
     ]
    },
    {
     "name": "stderr",
     "output_type": "stream",
     "text": [
      "100%|██████████| 34/34 [00:40<00:00,  1.20s/it]\n"
     ]
    },
    {
     "name": "stdout",
     "output_type": "stream",
     "text": [
      "[no_dem_1000] ✔ New best mIoU=0.9409 at epoch 25 → saved weights/ablation/no_dem_1000/best_model.pth\n"
     ]
    },
    {
     "name": "stderr",
     "output_type": "stream",
     "text": [
      "100%|██████████| 34/34 [00:41<00:00,  1.22s/it]\n",
      "100%|██████████| 34/34 [01:03<00:00,  1.88s/it]\n",
      "100%|██████████| 34/34 [00:41<00:00,  1.21s/it]\n",
      "100%|██████████| 34/34 [00:40<00:00,  1.20s/it]\n",
      "100%|██████████| 34/34 [00:41<00:00,  1.22s/it]\n"
     ]
    },
    {
     "name": "stdout",
     "output_type": "stream",
     "text": [
      "[no_dem_1000] ✔ New best mIoU=0.9429 at epoch 30 → saved weights/ablation/no_dem_1000/best_model.pth\n",
      "[no_dem_1000] Finished. Best mIoU=0.9429 at epoch 30. Log: weights/ablation/no_dem_1000/training_log.txt\n",
      "\n",
      "=== Processing dataset config: no_optical_1000 ===\n",
      "[INFO] Using device: cuda\n",
      "====================================================================================================\n",
      "Layer (type:depth-idx)                             Output Shape              Param #\n",
      "====================================================================================================\n",
      "SegFormer                                          [1, 2, 256, 256]          --\n",
      "├─MixVisionTransformer: 1-1                        [1, 16, 128, 128]         --\n",
      "│    └─ModuleList: 2-1                             --                        --\n",
      "│    │    └─MiTStage: 3-1                          [1, 16, 128, 128]         5,672\n",
      "│    │    └─MiTStage: 3-2                          [1, 32, 64, 64]           19,057\n",
      "│    │    └─MiTStage: 3-3                          [1, 64, 32, 32]           84,416\n",
      "│    │    └─MiTStage: 3-4                          [1, 128, 16, 16]          322,432\n",
      "├─SegFormerHead: 1-2                               [1, 2, 128, 128]          --\n",
      "│    └─ModuleList: 2-2                             --                        --\n",
      "│    │    └─Sequential: 3-5                        [1, 128, 128, 128]        2,304\n",
      "│    │    └─Sequential: 3-6                        [1, 128, 64, 64]          4,352\n",
      "│    │    └─Sequential: 3-7                        [1, 128, 32, 32]          8,448\n",
      "│    │    └─Sequential: 3-8                        [1, 128, 16, 16]          16,640\n",
      "│    └─Sequential: 2-3                             [1, 128, 128, 128]        --\n",
      "│    │    └─Conv2d: 3-9                            [1, 128, 128, 128]        65,536\n",
      "│    │    └─BatchNorm2d: 3-10                      [1, 128, 128, 128]        256\n",
      "│    │    └─ReLU: 3-11                             [1, 128, 128, 128]        --\n",
      "│    │    └─Conv2d: 3-12                           [1, 128, 128, 128]        147,456\n",
      "│    │    └─BatchNorm2d: 3-13                      [1, 128, 128, 128]        256\n",
      "│    │    └─ReLU: 3-14                             [1, 128, 128, 128]        --\n",
      "│    └─Conv2d: 2-4                                 [1, 2, 128, 128]          258\n",
      "====================================================================================================\n",
      "Total params: 677,083\n",
      "Trainable params: 677,083\n",
      "Non-trainable params: 0\n",
      "Total mult-adds (G): 3.60\n",
      "====================================================================================================\n",
      "Input size (MB): 1.31\n",
      "Forward/backward pass size (MB): 149.06\n",
      "Params size (MB): 2.06\n",
      "Estimated Total Size (MB): 152.43\n",
      "====================================================================================================\n",
      "[WARN] analyze_model failed: 'torch.device' object has no attribute 'startswith'\n"
     ]
    },
    {
     "name": "stderr",
     "output_type": "stream",
     "text": [
      "100%|██████████| 34/34 [00:29<00:00,  1.15it/s]\n"
     ]
    },
    {
     "name": "stdout",
     "output_type": "stream",
     "text": [
      "[no_optical_1000] ✔ New best mIoU=0.4116 at epoch 1 → saved weights/ablation/no_optical_1000/best_model.pth\n"
     ]
    },
    {
     "name": "stderr",
     "output_type": "stream",
     "text": [
      "100%|██████████| 34/34 [00:29<00:00,  1.14it/s]\n"
     ]
    },
    {
     "name": "stdout",
     "output_type": "stream",
     "text": [
      "[no_optical_1000] ✔ New best mIoU=0.4528 at epoch 2 → saved weights/ablation/no_optical_1000/best_model.pth\n"
     ]
    },
    {
     "name": "stderr",
     "output_type": "stream",
     "text": [
      "100%|██████████| 34/34 [00:29<00:00,  1.13it/s]\n"
     ]
    },
    {
     "name": "stdout",
     "output_type": "stream",
     "text": [
      "[no_optical_1000] ✔ New best mIoU=0.5857 at epoch 3 → saved weights/ablation/no_optical_1000/best_model.pth\n"
     ]
    },
    {
     "name": "stderr",
     "output_type": "stream",
     "text": [
      "100%|██████████| 34/34 [00:29<00:00,  1.14it/s]\n"
     ]
    },
    {
     "name": "stdout",
     "output_type": "stream",
     "text": [
      "[no_optical_1000] ✔ New best mIoU=0.6370 at epoch 4 → saved weights/ablation/no_optical_1000/best_model.pth\n"
     ]
    },
    {
     "name": "stderr",
     "output_type": "stream",
     "text": [
      "100%|██████████| 34/34 [00:29<00:00,  1.15it/s]\n"
     ]
    },
    {
     "name": "stdout",
     "output_type": "stream",
     "text": [
      "[no_optical_1000] ✔ New best mIoU=0.6901 at epoch 5 → saved weights/ablation/no_optical_1000/best_model.pth\n"
     ]
    },
    {
     "name": "stderr",
     "output_type": "stream",
     "text": [
      "100%|██████████| 34/34 [00:29<00:00,  1.14it/s]\n"
     ]
    },
    {
     "name": "stdout",
     "output_type": "stream",
     "text": [
      "[no_optical_1000] ✔ New best mIoU=0.7734 at epoch 6 → saved weights/ablation/no_optical_1000/best_model.pth\n"
     ]
    },
    {
     "name": "stderr",
     "output_type": "stream",
     "text": [
      "100%|██████████| 34/34 [00:29<00:00,  1.14it/s]\n"
     ]
    },
    {
     "name": "stdout",
     "output_type": "stream",
     "text": [
      "[no_optical_1000] ✔ New best mIoU=0.8365 at epoch 7 → saved weights/ablation/no_optical_1000/best_model.pth\n"
     ]
    },
    {
     "name": "stderr",
     "output_type": "stream",
     "text": [
      "100%|██████████| 34/34 [00:29<00:00,  1.13it/s]\n"
     ]
    },
    {
     "name": "stdout",
     "output_type": "stream",
     "text": [
      "[no_optical_1000] ✔ New best mIoU=0.8569 at epoch 8 → saved weights/ablation/no_optical_1000/best_model.pth\n"
     ]
    },
    {
     "name": "stderr",
     "output_type": "stream",
     "text": [
      "100%|██████████| 34/34 [00:29<00:00,  1.14it/s]\n"
     ]
    },
    {
     "name": "stdout",
     "output_type": "stream",
     "text": [
      "[no_optical_1000] ✔ New best mIoU=0.8803 at epoch 9 → saved weights/ablation/no_optical_1000/best_model.pth\n"
     ]
    },
    {
     "name": "stderr",
     "output_type": "stream",
     "text": [
      "100%|██████████| 34/34 [00:30<00:00,  1.11it/s]\n"
     ]
    },
    {
     "name": "stdout",
     "output_type": "stream",
     "text": [
      "[no_optical_1000] ✔ New best mIoU=0.9167 at epoch 10 → saved weights/ablation/no_optical_1000/best_model.pth\n"
     ]
    },
    {
     "name": "stderr",
     "output_type": "stream",
     "text": [
      "100%|██████████| 34/34 [00:54<00:00,  1.60s/it]\n",
      "100%|██████████| 34/34 [00:31<00:00,  1.09it/s]\n"
     ]
    },
    {
     "name": "stdout",
     "output_type": "stream",
     "text": [
      "[no_optical_1000] ✔ New best mIoU=0.9264 at epoch 12 → saved weights/ablation/no_optical_1000/best_model.pth\n"
     ]
    },
    {
     "name": "stderr",
     "output_type": "stream",
     "text": [
      "100%|██████████| 34/34 [00:30<00:00,  1.10it/s]\n"
     ]
    },
    {
     "name": "stdout",
     "output_type": "stream",
     "text": [
      "[no_optical_1000] ✔ New best mIoU=0.9280 at epoch 13 → saved weights/ablation/no_optical_1000/best_model.pth\n"
     ]
    },
    {
     "name": "stderr",
     "output_type": "stream",
     "text": [
      "100%|██████████| 34/34 [00:31<00:00,  1.09it/s]\n"
     ]
    },
    {
     "name": "stdout",
     "output_type": "stream",
     "text": [
      "[no_optical_1000] ✔ New best mIoU=0.9393 at epoch 14 → saved weights/ablation/no_optical_1000/best_model.pth\n"
     ]
    },
    {
     "name": "stderr",
     "output_type": "stream",
     "text": [
      "100%|██████████| 34/34 [00:31<00:00,  1.09it/s]\n",
      "100%|██████████| 34/34 [00:30<00:00,  1.10it/s]\n"
     ]
    },
    {
     "name": "stdout",
     "output_type": "stream",
     "text": [
      "[no_optical_1000] ✔ New best mIoU=0.9474 at epoch 16 → saved weights/ablation/no_optical_1000/best_model.pth\n"
     ]
    },
    {
     "name": "stderr",
     "output_type": "stream",
     "text": [
      "100%|██████████| 34/34 [00:30<00:00,  1.11it/s]\n",
      "100%|██████████| 34/34 [00:31<00:00,  1.09it/s]\n"
     ]
    },
    {
     "name": "stdout",
     "output_type": "stream",
     "text": [
      "[no_optical_1000] ✔ New best mIoU=0.9560 at epoch 18 → saved weights/ablation/no_optical_1000/best_model.pth\n"
     ]
    },
    {
     "name": "stderr",
     "output_type": "stream",
     "text": [
      "100%|██████████| 34/34 [00:30<00:00,  1.10it/s]\n",
      "100%|██████████| 34/34 [00:31<00:00,  1.09it/s]\n",
      "100%|██████████| 34/34 [00:31<00:00,  1.09it/s]\n"
     ]
    },
    {
     "name": "stdout",
     "output_type": "stream",
     "text": [
      "[no_optical_1000] ✔ New best mIoU=0.9667 at epoch 21 → saved weights/ablation/no_optical_1000/best_model.pth\n"
     ]
    },
    {
     "name": "stderr",
     "output_type": "stream",
     "text": [
      "100%|██████████| 34/34 [00:31<00:00,  1.09it/s]\n"
     ]
    },
    {
     "name": "stdout",
     "output_type": "stream",
     "text": [
      "[no_optical_1000] ✔ New best mIoU=0.9668 at epoch 22 → saved weights/ablation/no_optical_1000/best_model.pth\n"
     ]
    },
    {
     "name": "stderr",
     "output_type": "stream",
     "text": [
      "100%|██████████| 34/34 [00:30<00:00,  1.10it/s]\n"
     ]
    },
    {
     "name": "stdout",
     "output_type": "stream",
     "text": [
      "[no_optical_1000] ✔ New best mIoU=0.9699 at epoch 23 → saved weights/ablation/no_optical_1000/best_model.pth\n"
     ]
    },
    {
     "name": "stderr",
     "output_type": "stream",
     "text": [
      "100%|██████████| 34/34 [00:30<00:00,  1.13it/s]\n",
      "100%|██████████| 34/34 [00:31<00:00,  1.09it/s]\n",
      "100%|██████████| 34/34 [00:31<00:00,  1.09it/s]\n",
      "100%|██████████| 34/34 [00:44<00:00,  1.30s/it]\n"
     ]
    },
    {
     "name": "stdout",
     "output_type": "stream",
     "text": [
      "[no_optical_1000] ✔ New best mIoU=0.9715 at epoch 27 → saved weights/ablation/no_optical_1000/best_model.pth\n"
     ]
    },
    {
     "name": "stderr",
     "output_type": "stream",
     "text": [
      "100%|██████████| 34/34 [00:30<00:00,  1.12it/s]\n"
     ]
    },
    {
     "name": "stdout",
     "output_type": "stream",
     "text": [
      "[no_optical_1000] ✔ New best mIoU=0.9775 at epoch 28 → saved weights/ablation/no_optical_1000/best_model.pth\n"
     ]
    },
    {
     "name": "stderr",
     "output_type": "stream",
     "text": [
      "100%|██████████| 34/34 [00:43<00:00,  1.29s/it]\n",
      "100%|██████████| 34/34 [00:43<00:00,  1.28s/it]\n"
     ]
    },
    {
     "name": "stdout",
     "output_type": "stream",
     "text": [
      "[no_optical_1000] Finished. Best mIoU=0.9775 at epoch 28. Log: weights/ablation/no_optical_1000/training_log.txt\n",
      "\n",
      "=== Processing dataset config: no_outlines_2000 ===\n",
      "[INFO] Using device: cuda\n",
      "====================================================================================================\n",
      "Layer (type:depth-idx)                             Output Shape              Param #\n",
      "====================================================================================================\n",
      "SegFormer                                          [1, 2, 256, 256]          --\n",
      "├─MixVisionTransformer: 1-1                        [1, 16, 128, 128]         --\n",
      "│    └─ModuleList: 2-1                             --                        --\n",
      "│    │    └─MiTStage: 3-1                          [1, 16, 128, 128]         5,741\n",
      "│    │    └─MiTStage: 3-2                          [1, 32, 64, 64]           19,057\n",
      "│    │    └─MiTStage: 3-3                          [1, 64, 32, 32]           84,416\n",
      "│    │    └─MiTStage: 3-4                          [1, 128, 16, 16]          322,432\n",
      "├─SegFormerHead: 1-2                               [1, 2, 128, 128]          --\n",
      "│    └─ModuleList: 2-2                             --                        --\n",
      "│    │    └─Sequential: 3-5                        [1, 128, 128, 128]        2,304\n",
      "│    │    └─Sequential: 3-6                        [1, 128, 64, 64]          4,352\n",
      "│    │    └─Sequential: 3-7                        [1, 128, 32, 32]          8,448\n",
      "│    │    └─Sequential: 3-8                        [1, 128, 16, 16]          16,640\n",
      "│    └─Sequential: 2-3                             [1, 128, 128, 128]        --\n",
      "│    │    └─Conv2d: 3-9                            [1, 128, 128, 128]        65,536\n",
      "│    │    └─BatchNorm2d: 3-10                      [1, 128, 128, 128]        256\n",
      "│    │    └─ReLU: 3-11                             [1, 128, 128, 128]        --\n",
      "│    │    └─Conv2d: 3-12                           [1, 128, 128, 128]        147,456\n",
      "│    │    └─BatchNorm2d: 3-13                      [1, 128, 128, 128]        256\n",
      "│    │    └─ReLU: 3-14                             [1, 128, 128, 128]        --\n",
      "│    └─Conv2d: 2-4                                 [1, 2, 128, 128]          258\n",
      "====================================================================================================\n",
      "Total params: 677,152\n",
      "Trainable params: 677,152\n",
      "Non-trainable params: 0\n",
      "Total mult-adds (G): 3.60\n",
      "====================================================================================================\n",
      "Input size (MB): 2.10\n",
      "Forward/backward pass size (MB): 149.19\n",
      "Params size (MB): 2.06\n",
      "Estimated Total Size (MB): 153.35\n",
      "====================================================================================================\n",
      "[WARN] analyze_model failed: 'torch.device' object has no attribute 'startswith'\n"
     ]
    },
    {
     "name": "stderr",
     "output_type": "stream",
     "text": [
      "100%|██████████| 67/67 [01:49<00:00,  1.63s/it]\n"
     ]
    },
    {
     "name": "stdout",
     "output_type": "stream",
     "text": [
      "[no_outlines_2000] ✔ New best mIoU=0.1859 at epoch 1 → saved weights/ablation/no_outlines_2000/best_model.pth\n"
     ]
    },
    {
     "name": "stderr",
     "output_type": "stream",
     "text": [
      "100%|██████████| 67/67 [01:37<00:00,  1.45s/it]\n"
     ]
    },
    {
     "name": "stdout",
     "output_type": "stream",
     "text": [
      "[no_outlines_2000] ✔ New best mIoU=0.1989 at epoch 2 → saved weights/ablation/no_outlines_2000/best_model.pth\n"
     ]
    },
    {
     "name": "stderr",
     "output_type": "stream",
     "text": [
      "100%|██████████| 67/67 [02:03<00:00,  1.84s/it]\n"
     ]
    },
    {
     "name": "stdout",
     "output_type": "stream",
     "text": [
      "[no_outlines_2000] ✔ New best mIoU=0.2289 at epoch 3 → saved weights/ablation/no_outlines_2000/best_model.pth\n"
     ]
    },
    {
     "name": "stderr",
     "output_type": "stream",
     "text": [
      "100%|██████████| 67/67 [01:50<00:00,  1.64s/it]\n"
     ]
    },
    {
     "name": "stdout",
     "output_type": "stream",
     "text": [
      "[no_outlines_2000] ✔ New best mIoU=0.4606 at epoch 4 → saved weights/ablation/no_outlines_2000/best_model.pth\n"
     ]
    },
    {
     "name": "stderr",
     "output_type": "stream",
     "text": [
      "100%|██████████| 67/67 [01:36<00:00,  1.43s/it]\n",
      "100%|██████████| 67/67 [01:37<00:00,  1.46s/it]\n",
      "100%|██████████| 67/67 [01:38<00:00,  1.46s/it]\n",
      "100%|██████████| 67/67 [01:38<00:00,  1.47s/it]\n"
     ]
    },
    {
     "name": "stdout",
     "output_type": "stream",
     "text": [
      "[no_outlines_2000] ✔ New best mIoU=0.5159 at epoch 8 → saved weights/ablation/no_outlines_2000/best_model.pth\n"
     ]
    },
    {
     "name": "stderr",
     "output_type": "stream",
     "text": [
      "100%|██████████| 67/67 [01:38<00:00,  1.47s/it]\n"
     ]
    },
    {
     "name": "stdout",
     "output_type": "stream",
     "text": [
      "[no_outlines_2000] ✔ New best mIoU=0.5807 at epoch 9 → saved weights/ablation/no_outlines_2000/best_model.pth\n"
     ]
    },
    {
     "name": "stderr",
     "output_type": "stream",
     "text": [
      "100%|██████████| 67/67 [01:36<00:00,  1.44s/it]\n",
      "100%|██████████| 67/67 [01:49<00:00,  1.64s/it]\n"
     ]
    },
    {
     "name": "stdout",
     "output_type": "stream",
     "text": [
      "[no_outlines_2000] ✔ New best mIoU=0.6048 at epoch 11 → saved weights/ablation/no_outlines_2000/best_model.pth\n"
     ]
    },
    {
     "name": "stderr",
     "output_type": "stream",
     "text": [
      "100%|██████████| 67/67 [01:48<00:00,  1.63s/it]\n",
      "100%|██████████| 67/67 [01:48<00:00,  1.62s/it]\n",
      "100%|██████████| 67/67 [01:36<00:00,  1.44s/it]\n",
      "100%|██████████| 67/67 [01:59<00:00,  1.79s/it]\n"
     ]
    },
    {
     "name": "stdout",
     "output_type": "stream",
     "text": [
      "[no_outlines_2000] ✔ New best mIoU=0.6274 at epoch 15 → saved weights/ablation/no_outlines_2000/best_model.pth\n"
     ]
    },
    {
     "name": "stderr",
     "output_type": "stream",
     "text": [
      "100%|██████████| 67/67 [01:49<00:00,  1.63s/it]\n"
     ]
    },
    {
     "name": "stdout",
     "output_type": "stream",
     "text": [
      "[no_outlines_2000] ✔ New best mIoU=0.6485 at epoch 16 → saved weights/ablation/no_outlines_2000/best_model.pth\n"
     ]
    },
    {
     "name": "stderr",
     "output_type": "stream",
     "text": [
      "100%|██████████| 67/67 [01:37<00:00,  1.45s/it]\n",
      "100%|██████████| 67/67 [01:37<00:00,  1.46s/it]\n",
      "100%|██████████| 67/67 [01:36<00:00,  1.44s/it]\n",
      "100%|██████████| 67/67 [02:01<00:00,  1.82s/it]\n"
     ]
    },
    {
     "name": "stdout",
     "output_type": "stream",
     "text": [
      "[no_outlines_2000] ✔ New best mIoU=0.6908 at epoch 20 → saved weights/ablation/no_outlines_2000/best_model.pth\n"
     ]
    },
    {
     "name": "stderr",
     "output_type": "stream",
     "text": [
      "100%|██████████| 67/67 [01:37<00:00,  1.45s/it]\n",
      "100%|██████████| 67/67 [01:37<00:00,  1.45s/it]\n"
     ]
    },
    {
     "name": "stdout",
     "output_type": "stream",
     "text": [
      "[no_outlines_2000] ✔ New best mIoU=0.7211 at epoch 22 → saved weights/ablation/no_outlines_2000/best_model.pth\n"
     ]
    },
    {
     "name": "stderr",
     "output_type": "stream",
     "text": [
      "100%|██████████| 67/67 [01:49<00:00,  1.63s/it]\n",
      "100%|██████████| 67/67 [01:38<00:00,  1.47s/it]\n",
      "100%|██████████| 67/67 [02:02<00:00,  1.83s/it]\n",
      "100%|██████████| 67/67 [02:02<00:00,  1.82s/it]\n",
      "100%|██████████| 67/67 [01:48<00:00,  1.62s/it]\n",
      "100%|██████████| 67/67 [01:37<00:00,  1.45s/it]\n",
      "100%|██████████| 67/67 [01:36<00:00,  1.44s/it]\n",
      "100%|██████████| 67/67 [01:38<00:00,  1.47s/it]\n"
     ]
    },
    {
     "name": "stdout",
     "output_type": "stream",
     "text": [
      "[no_outlines_2000] Finished. Best mIoU=0.7211 at epoch 22. Log: weights/ablation/no_outlines_2000/training_log.txt\n",
      "\n",
      "=== Processing dataset config: optical_only_500 ===\n",
      "[INFO] Using device: cuda\n",
      "====================================================================================================\n",
      "Layer (type:depth-idx)                             Output Shape              Param #\n",
      "====================================================================================================\n",
      "SegFormer                                          [1, 2, 256, 256]          --\n",
      "├─MixVisionTransformer: 1-1                        [1, 16, 128, 128]         --\n",
      "│    └─ModuleList: 2-1                             --                        --\n",
      "│    │    └─MiTStage: 3-1                          [1, 16, 128, 128]         5,689\n",
      "│    │    └─MiTStage: 3-2                          [1, 32, 64, 64]           19,057\n",
      "│    │    └─MiTStage: 3-3                          [1, 64, 32, 32]           84,416\n",
      "│    │    └─MiTStage: 3-4                          [1, 128, 16, 16]          322,432\n",
      "├─SegFormerHead: 1-2                               [1, 2, 128, 128]          --\n",
      "│    └─ModuleList: 2-2                             --                        --\n",
      "│    │    └─Sequential: 3-5                        [1, 128, 128, 128]        2,304\n",
      "│    │    └─Sequential: 3-6                        [1, 128, 64, 64]          4,352\n",
      "│    │    └─Sequential: 3-7                        [1, 128, 32, 32]          8,448\n",
      "│    │    └─Sequential: 3-8                        [1, 128, 16, 16]          16,640\n",
      "│    └─Sequential: 2-3                             [1, 128, 128, 128]        --\n",
      "│    │    └─Conv2d: 3-9                            [1, 128, 128, 128]        65,536\n",
      "│    │    └─BatchNorm2d: 3-10                      [1, 128, 128, 128]        256\n",
      "│    │    └─ReLU: 3-11                             [1, 128, 128, 128]        --\n",
      "│    │    └─Conv2d: 3-12                           [1, 128, 128, 128]        147,456\n",
      "│    │    └─BatchNorm2d: 3-13                      [1, 128, 128, 128]        256\n",
      "│    │    └─ReLU: 3-14                             [1, 128, 128, 128]        --\n",
      "│    └─Conv2d: 2-4                                 [1, 2, 128, 128]          258\n",
      "====================================================================================================\n",
      "Total params: 677,100\n",
      "Trainable params: 677,100\n",
      "Non-trainable params: 0\n",
      "Total mult-adds (G): 3.60\n",
      "====================================================================================================\n",
      "Input size (MB): 1.57\n",
      "Forward/backward pass size (MB): 149.06\n",
      "Params size (MB): 2.06\n",
      "Estimated Total Size (MB): 152.69\n",
      "====================================================================================================\n",
      "[WARN] analyze_model failed: 'torch.device' object has no attribute 'startswith'\n"
     ]
    },
    {
     "name": "stderr",
     "output_type": "stream",
     "text": [
      "100%|██████████| 17/17 [00:18<00:00,  1.11s/it]\n"
     ]
    },
    {
     "name": "stdout",
     "output_type": "stream",
     "text": [
      "[optical_only_500] ✔ New best mIoU=0.2418 at epoch 1 → saved weights/ablation/optical_only_500/best_model.pth\n"
     ]
    },
    {
     "name": "stderr",
     "output_type": "stream",
     "text": [
      "100%|██████████| 17/17 [00:19<00:00,  1.14s/it]\n"
     ]
    },
    {
     "name": "stdout",
     "output_type": "stream",
     "text": [
      "[optical_only_500] ✔ New best mIoU=0.2882 at epoch 2 → saved weights/ablation/optical_only_500/best_model.pth\n"
     ]
    },
    {
     "name": "stderr",
     "output_type": "stream",
     "text": [
      "100%|██████████| 17/17 [00:18<00:00,  1.10s/it]\n",
      "100%|██████████| 17/17 [00:18<00:00,  1.09s/it]\n"
     ]
    },
    {
     "name": "stdout",
     "output_type": "stream",
     "text": [
      "[optical_only_500] ✔ New best mIoU=0.3025 at epoch 4 → saved weights/ablation/optical_only_500/best_model.pth\n"
     ]
    },
    {
     "name": "stderr",
     "output_type": "stream",
     "text": [
      "100%|██████████| 17/17 [00:30<00:00,  1.78s/it]\n"
     ]
    },
    {
     "name": "stdout",
     "output_type": "stream",
     "text": [
      "[optical_only_500] ✔ New best mIoU=0.3198 at epoch 5 → saved weights/ablation/optical_only_500/best_model.pth\n"
     ]
    },
    {
     "name": "stderr",
     "output_type": "stream",
     "text": [
      "100%|██████████| 17/17 [00:19<00:00,  1.16s/it]\n"
     ]
    },
    {
     "name": "stdout",
     "output_type": "stream",
     "text": [
      "[optical_only_500] ✔ New best mIoU=0.3439 at epoch 6 → saved weights/ablation/optical_only_500/best_model.pth\n"
     ]
    },
    {
     "name": "stderr",
     "output_type": "stream",
     "text": [
      "100%|██████████| 17/17 [00:18<00:00,  1.11s/it]\n",
      "100%|██████████| 17/17 [00:19<00:00,  1.12s/it]\n"
     ]
    },
    {
     "name": "stdout",
     "output_type": "stream",
     "text": [
      "[optical_only_500] ✔ New best mIoU=0.3771 at epoch 8 → saved weights/ablation/optical_only_500/best_model.pth\n"
     ]
    },
    {
     "name": "stderr",
     "output_type": "stream",
     "text": [
      "100%|██████████| 17/17 [00:18<00:00,  1.11s/it]\n",
      "100%|██████████| 17/17 [00:18<00:00,  1.10s/it]\n",
      "100%|██████████| 17/17 [00:18<00:00,  1.09s/it]\n"
     ]
    },
    {
     "name": "stdout",
     "output_type": "stream",
     "text": [
      "[optical_only_500] ✔ New best mIoU=0.3943 at epoch 11 → saved weights/ablation/optical_only_500/best_model.pth\n"
     ]
    },
    {
     "name": "stderr",
     "output_type": "stream",
     "text": [
      "100%|██████████| 17/17 [00:18<00:00,  1.12s/it]\n",
      "100%|██████████| 17/17 [00:18<00:00,  1.11s/it]\n"
     ]
    },
    {
     "name": "stdout",
     "output_type": "stream",
     "text": [
      "[optical_only_500] ✔ New best mIoU=0.4055 at epoch 13 → saved weights/ablation/optical_only_500/best_model.pth\n"
     ]
    },
    {
     "name": "stderr",
     "output_type": "stream",
     "text": [
      "100%|██████████| 17/17 [00:18<00:00,  1.11s/it]\n",
      "100%|██████████| 17/17 [00:19<00:00,  1.12s/it]\n",
      "100%|██████████| 17/17 [00:19<00:00,  1.14s/it]\n",
      "100%|██████████| 17/17 [00:18<00:00,  1.10s/it]\n",
      "100%|██████████| 17/17 [00:30<00:00,  1.82s/it]\n"
     ]
    },
    {
     "name": "stdout",
     "output_type": "stream",
     "text": [
      "[optical_only_500] ✔ New best mIoU=0.4329 at epoch 18 → saved weights/ablation/optical_only_500/best_model.pth\n"
     ]
    },
    {
     "name": "stderr",
     "output_type": "stream",
     "text": [
      "100%|██████████| 17/17 [00:31<00:00,  1.85s/it]\n",
      "100%|██████████| 17/17 [00:30<00:00,  1.77s/it]\n"
     ]
    },
    {
     "name": "stdout",
     "output_type": "stream",
     "text": [
      "[optical_only_500] ✔ New best mIoU=0.4387 at epoch 20 → saved weights/ablation/optical_only_500/best_model.pth\n"
     ]
    },
    {
     "name": "stderr",
     "output_type": "stream",
     "text": [
      "100%|██████████| 17/17 [00:19<00:00,  1.12s/it]\n",
      "100%|██████████| 17/17 [00:18<00:00,  1.08s/it]\n",
      "100%|██████████| 17/17 [00:19<00:00,  1.12s/it]\n",
      "100%|██████████| 17/17 [00:18<00:00,  1.11s/it]\n",
      "100%|██████████| 17/17 [00:19<00:00,  1.13s/it]\n"
     ]
    },
    {
     "name": "stdout",
     "output_type": "stream",
     "text": [
      "[optical_only_500] ✔ New best mIoU=0.4668 at epoch 25 → saved weights/ablation/optical_only_500/best_model.pth\n"
     ]
    },
    {
     "name": "stderr",
     "output_type": "stream",
     "text": [
      "100%|██████████| 17/17 [00:18<00:00,  1.11s/it]\n"
     ]
    },
    {
     "name": "stdout",
     "output_type": "stream",
     "text": [
      "[optical_only_500] ✔ New best mIoU=0.4950 at epoch 26 → saved weights/ablation/optical_only_500/best_model.pth\n"
     ]
    },
    {
     "name": "stderr",
     "output_type": "stream",
     "text": [
      "100%|██████████| 17/17 [00:31<00:00,  1.83s/it]\n",
      "100%|██████████| 17/17 [00:18<00:00,  1.09s/it]\n",
      "100%|██████████| 17/17 [00:18<00:00,  1.11s/it]\n"
     ]
    },
    {
     "name": "stdout",
     "output_type": "stream",
     "text": [
      "[optical_only_500] ✔ New best mIoU=0.5708 at epoch 29 → saved weights/ablation/optical_only_500/best_model.pth\n"
     ]
    },
    {
     "name": "stderr",
     "output_type": "stream",
     "text": [
      "100%|██████████| 17/17 [00:18<00:00,  1.10s/it]\n"
     ]
    },
    {
     "name": "stdout",
     "output_type": "stream",
     "text": [
      "[optical_only_500] Finished. Best mIoU=0.5708 at epoch 29. Log: weights/ablation/optical_only_500/training_log.txt\n",
      "\n",
      "=== Processing dataset config: full_500 ===\n",
      "[INFO] Using device: cuda\n",
      "====================================================================================================\n",
      "Layer (type:depth-idx)                             Output Shape              Param #\n",
      "====================================================================================================\n",
      "SegFormer                                          [1, 2, 256, 256]          --\n",
      "├─MixVisionTransformer: 1-1                        [1, 16, 128, 128]         --\n",
      "│    └─ModuleList: 2-1                             --                        --\n",
      "│    │    └─MiTStage: 3-1                          [1, 16, 128, 128]         5,795\n",
      "│    │    └─MiTStage: 3-2                          [1, 32, 64, 64]           19,057\n",
      "│    │    └─MiTStage: 3-3                          [1, 64, 32, 32]           84,416\n",
      "│    │    └─MiTStage: 3-4                          [1, 128, 16, 16]          322,432\n",
      "├─SegFormerHead: 1-2                               [1, 2, 128, 128]          --\n",
      "│    └─ModuleList: 2-2                             --                        --\n",
      "│    │    └─Sequential: 3-5                        [1, 128, 128, 128]        2,304\n",
      "│    │    └─Sequential: 3-6                        [1, 128, 64, 64]          4,352\n",
      "│    │    └─Sequential: 3-7                        [1, 128, 32, 32]          8,448\n",
      "│    │    └─Sequential: 3-8                        [1, 128, 16, 16]          16,640\n",
      "│    └─Sequential: 2-3                             [1, 128, 128, 128]        --\n",
      "│    │    └─Conv2d: 3-9                            [1, 128, 128, 128]        65,536\n",
      "│    │    └─BatchNorm2d: 3-10                      [1, 128, 128, 128]        256\n",
      "│    │    └─ReLU: 3-11                             [1, 128, 128, 128]        --\n",
      "│    │    └─Conv2d: 3-12                           [1, 128, 128, 128]        147,456\n",
      "│    │    └─BatchNorm2d: 3-13                      [1, 128, 128, 128]        256\n",
      "│    │    └─ReLU: 3-14                             [1, 128, 128, 128]        --\n",
      "│    └─Conv2d: 2-4                                 [1, 2, 128, 128]          258\n",
      "====================================================================================================\n",
      "Total params: 677,206\n",
      "Trainable params: 677,206\n",
      "Non-trainable params: 0\n",
      "Total mult-adds (G): 3.60\n",
      "====================================================================================================\n",
      "Input size (MB): 2.88\n",
      "Forward/backward pass size (MB): 149.19\n",
      "Params size (MB): 2.06\n",
      "Estimated Total Size (MB): 154.14\n",
      "====================================================================================================\n",
      "[WARN] analyze_model failed: 'torch.device' object has no attribute 'startswith'\n"
     ]
    },
    {
     "name": "stderr",
     "output_type": "stream",
     "text": [
      "100%|██████████| 17/17 [00:26<00:00,  1.56s/it]\n"
     ]
    },
    {
     "name": "stdout",
     "output_type": "stream",
     "text": [
      "[full_500] ✔ New best mIoU=0.2845 at epoch 1 → saved weights/ablation/full_500/best_model.pth\n"
     ]
    },
    {
     "name": "stderr",
     "output_type": "stream",
     "text": [
      "100%|██████████| 17/17 [00:25<00:00,  1.52s/it]\n"
     ]
    },
    {
     "name": "stdout",
     "output_type": "stream",
     "text": [
      "[full_500] ✔ New best mIoU=0.2903 at epoch 2 → saved weights/ablation/full_500/best_model.pth\n"
     ]
    },
    {
     "name": "stderr",
     "output_type": "stream",
     "text": [
      "100%|██████████| 17/17 [00:26<00:00,  1.58s/it]\n",
      "100%|██████████| 17/17 [00:26<00:00,  1.54s/it]\n"
     ]
    },
    {
     "name": "stdout",
     "output_type": "stream",
     "text": [
      "[full_500] ✔ New best mIoU=0.4731 at epoch 4 → saved weights/ablation/full_500/best_model.pth\n"
     ]
    },
    {
     "name": "stderr",
     "output_type": "stream",
     "text": [
      "100%|██████████| 17/17 [00:25<00:00,  1.51s/it]\n"
     ]
    },
    {
     "name": "stdout",
     "output_type": "stream",
     "text": [
      "[full_500] ✔ New best mIoU=0.5149 at epoch 5 → saved weights/ablation/full_500/best_model.pth\n"
     ]
    },
    {
     "name": "stderr",
     "output_type": "stream",
     "text": [
      "100%|██████████| 17/17 [00:27<00:00,  1.59s/it]\n"
     ]
    },
    {
     "name": "stdout",
     "output_type": "stream",
     "text": [
      "[full_500] ✔ New best mIoU=0.5178 at epoch 6 → saved weights/ablation/full_500/best_model.pth\n"
     ]
    },
    {
     "name": "stderr",
     "output_type": "stream",
     "text": [
      "100%|██████████| 17/17 [00:26<00:00,  1.56s/it]\n",
      "100%|██████████| 17/17 [00:26<00:00,  1.53s/it]\n"
     ]
    },
    {
     "name": "stdout",
     "output_type": "stream",
     "text": [
      "[full_500] ✔ New best mIoU=0.5487 at epoch 8 → saved weights/ablation/full_500/best_model.pth\n"
     ]
    },
    {
     "name": "stderr",
     "output_type": "stream",
     "text": [
      "100%|██████████| 17/17 [00:25<00:00,  1.53s/it]\n"
     ]
    },
    {
     "name": "stdout",
     "output_type": "stream",
     "text": [
      "[full_500] ✔ New best mIoU=0.6017 at epoch 9 → saved weights/ablation/full_500/best_model.pth\n"
     ]
    },
    {
     "name": "stderr",
     "output_type": "stream",
     "text": [
      "100%|██████████| 17/17 [00:26<00:00,  1.57s/it]\n",
      "100%|██████████| 17/17 [00:40<00:00,  2.39s/it]\n"
     ]
    },
    {
     "name": "stdout",
     "output_type": "stream",
     "text": [
      "[full_500] ✔ New best mIoU=0.6206 at epoch 11 → saved weights/ablation/full_500/best_model.pth\n"
     ]
    },
    {
     "name": "stderr",
     "output_type": "stream",
     "text": [
      "100%|██████████| 17/17 [00:26<00:00,  1.56s/it]\n"
     ]
    },
    {
     "name": "stdout",
     "output_type": "stream",
     "text": [
      "[full_500] ✔ New best mIoU=0.6263 at epoch 12 → saved weights/ablation/full_500/best_model.pth\n"
     ]
    },
    {
     "name": "stderr",
     "output_type": "stream",
     "text": [
      "100%|██████████| 17/17 [00:26<00:00,  1.54s/it]\n",
      "100%|██████████| 17/17 [00:38<00:00,  2.25s/it]\n"
     ]
    },
    {
     "name": "stdout",
     "output_type": "stream",
     "text": [
      "[full_500] ✔ New best mIoU=0.6416 at epoch 14 → saved weights/ablation/full_500/best_model.pth\n"
     ]
    },
    {
     "name": "stderr",
     "output_type": "stream",
     "text": [
      "100%|██████████| 17/17 [00:26<00:00,  1.54s/it]\n",
      "100%|██████████| 17/17 [00:38<00:00,  2.25s/it]\n"
     ]
    },
    {
     "name": "stdout",
     "output_type": "stream",
     "text": [
      "[full_500] ✔ New best mIoU=0.6547 at epoch 16 → saved weights/ablation/full_500/best_model.pth\n"
     ]
    },
    {
     "name": "stderr",
     "output_type": "stream",
     "text": [
      "100%|██████████| 17/17 [00:26<00:00,  1.55s/it]\n"
     ]
    },
    {
     "name": "stdout",
     "output_type": "stream",
     "text": [
      "[full_500] ✔ New best mIoU=0.7034 at epoch 17 → saved weights/ablation/full_500/best_model.pth\n"
     ]
    },
    {
     "name": "stderr",
     "output_type": "stream",
     "text": [
      "100%|██████████| 17/17 [00:26<00:00,  1.57s/it]\n",
      "100%|██████████| 17/17 [00:26<00:00,  1.57s/it]\n",
      "100%|██████████| 17/17 [00:26<00:00,  1.55s/it]\n"
     ]
    },
    {
     "name": "stdout",
     "output_type": "stream",
     "text": [
      "[full_500] ✔ New best mIoU=0.7149 at epoch 20 → saved weights/ablation/full_500/best_model.pth\n"
     ]
    },
    {
     "name": "stderr",
     "output_type": "stream",
     "text": [
      "100%|██████████| 17/17 [00:38<00:00,  2.28s/it]\n",
      "100%|██████████| 17/17 [00:26<00:00,  1.54s/it]\n",
      "100%|██████████| 17/17 [00:26<00:00,  1.56s/it]\n",
      "100%|██████████| 17/17 [00:25<00:00,  1.52s/it]\n"
     ]
    },
    {
     "name": "stdout",
     "output_type": "stream",
     "text": [
      "[full_500] ✔ New best mIoU=0.7445 at epoch 24 → saved weights/ablation/full_500/best_model.pth\n"
     ]
    },
    {
     "name": "stderr",
     "output_type": "stream",
     "text": [
      "100%|██████████| 17/17 [00:25<00:00,  1.53s/it]\n",
      "100%|██████████| 17/17 [00:25<00:00,  1.53s/it]\n",
      "100%|██████████| 17/17 [00:25<00:00,  1.53s/it]\n",
      "100%|██████████| 17/17 [00:37<00:00,  2.23s/it]\n",
      "100%|██████████| 17/17 [00:26<00:00,  1.56s/it]\n",
      "100%|██████████| 17/17 [00:26<00:00,  1.55s/it]\n"
     ]
    },
    {
     "name": "stdout",
     "output_type": "stream",
     "text": [
      "[full_500] Finished. Best mIoU=0.7445 at epoch 24. Log: weights/ablation/full_500/training_log.txt\n",
      "[WARN] No log file found for dataset_full_2000, skipping.\n",
      "[WARN] No log file found for dataset_no_dem_1000, skipping.\n",
      "[WARN] No log file found for dataset_no_optical_1000, skipping.\n",
      "[WARN] No log file found for dataset_no_outlines_2000, skipping.\n",
      "[WARN] No log file found for dataset_optical_only_500, skipping.\n",
      "[WARN] No log file found for dataset_full_500, skipping.\n",
      "[INFO] Saved dataset ablation results → results/dataset_ablation_results.csv, results/dataset_ablation_results.md\n",
      "Empty DataFrame\n",
      "Columns: []\n",
      "Index: []\n"
     ]
    }
   ],
   "source": [
    "# Example usage:\n",
    "variants = [\n",
    "    {\"name\": \"full_2000\", \"modalities\": ['dem', 'optical', 'bright_dark_outlines'], \"length_train\": 2000, \"length_val\": 500},\n",
    "    {\"name\": \"no_dem_1000\", \"modalities\": ['optical', 'bright_dark_outlines'], \"length_train\": 1000, \"length_val\": 250},\n",
    "    {\"name\": \"no_optical_1000\", \"modalities\": ['dem', 'bright_dark_outlines'], \"length_train\": 1000, \"length_val\": 250},\n",
    "    {\"name\": \"no_outlines_2000\", \"modalities\": ['dem', 'optical'], \"length_train\": 2000, \"length_val\": 500},\n",
    "    {\"name\": \"optical_only_500\", \"modalities\": ['optical'], \"length_train\": 500, \"length_val\": 125},\n",
    "    {\"name\": \"full_500\", \"modalities\": ['dem', 'optical', 'bright_dark_outlines'], \"length_train\": 500, \"length_val\": 125},\n",
    "]\n",
    "\n",
    "# Run all dataset configs\n",
    "run_all_dataset_configs(\n",
    "    variants=variants,\n",
    "    train_path=TRAIN_PATH,\n",
    "    val_path=VAL_PATH,\n",
    "    device=DEVICE,\n",
    "    epochs=30,\n",
    "    batch_size=30,\n",
    "    num_classes=2,\n",
    "    base_run_dir=\"runs/ablation\",\n",
    "    base_weight_dir=\"weights/ablation\"\n",
    ")\n",
    "\n",
    "# Collect summary table\n",
    "df = collect_dataset_results(variants, base_weight_dir=\"weights/ablation\", out_dir=\"results\")\n",
    "print(df)\n"
   ]
  },
  {
   "cell_type": "code",
   "execution_count": 1,
   "id": "5fcc4670",
   "metadata": {},
   "outputs": [
    {
     "name": "stderr",
     "output_type": "stream",
     "text": [
      "/tmp/ipykernel_7367/540894653.py:28: FutureWarning: errors='ignore' is deprecated and will raise in a future version. Use to_numeric without passing `errors` and catch exceptions explicitly instead\n",
      "  df = df.apply(pd.to_numeric, errors=\"ignore\")\n"
     ]
    },
    {
     "name": "stdout",
     "output_type": "stream",
     "text": [
      "[INFO] Saved summary → results/plots/dataset_ablation_study/summary.csv, results/plots/dataset_ablation_study/summary.md\n",
      "[INFO] Plots saved to results/plots/dataset_ablation_study\n"
     ]
    }
   ],
   "source": [
    "# %%\n",
    "import os, pandas as pd, matplotlib.pyplot as plt\n",
    "\n",
    "def parse_training_log(log_path):\n",
    "    \"\"\"\n",
    "    Parse a training_log.txt file into a DataFrame (epochs) and best metrics dict.\n",
    "    \"\"\"\n",
    "    df = []\n",
    "    best = {\"Config\": os.path.basename(os.path.dirname(log_path))}\n",
    "    with open(log_path, \"r\") as f:\n",
    "        lines = f.readlines()\n",
    "\n",
    "    # Separate header/data vs best lines\n",
    "    header = None\n",
    "    for line in lines:\n",
    "        line = line.strip()\n",
    "        if line.startswith(\"epoch,\"):\n",
    "            header = line.split(\",\")\n",
    "        elif line.startswith(\"BEST_EPOCH\") or line.startswith(\"BEST_mIoU\") or line.startswith(\"TOTAL_TIME_SEC\"):\n",
    "            key, val = line.split(\"=\")\n",
    "            best[key.strip()] = val.strip()\n",
    "        elif header and line[0].isdigit():\n",
    "            parts = line.split(\",\")\n",
    "            row = dict(zip(header, parts))\n",
    "            df.append(row)\n",
    "\n",
    "    df = pd.DataFrame(df)\n",
    "    df = df.apply(pd.to_numeric, errors=\"ignore\")\n",
    "    return df, best\n",
    "\n",
    "\n",
    "def collect_all_logs(base_dir=\"weights/ablation\"):\n",
    "    \"\"\"\n",
    "    Collect all training logs from dataset ablation runs.\n",
    "    \"\"\"\n",
    "    all_dfs, all_bests = {}, []\n",
    "    for config in os.listdir(base_dir):\n",
    "        log_path = os.path.join(base_dir, config, \"training_log.txt\")\n",
    "        if not os.path.exists(log_path):\n",
    "            continue\n",
    "        df, best = parse_training_log(log_path)\n",
    "        all_dfs[config] = df\n",
    "        best[\"Config\"] = config\n",
    "        all_bests.append(best)\n",
    "    return all_dfs, pd.DataFrame(all_bests)\n",
    "\n",
    "\n",
    "def plot_metric(all_dfs, metric, out_dir):\n",
    "    \"\"\"\n",
    "    Plot one metric (line plot with all configs overlapped).\n",
    "    \"\"\"\n",
    "    plt.figure(figsize=(8, 5))\n",
    "    for config, df in all_dfs.items():\n",
    "        if metric in df.columns:\n",
    "            plt.plot(df[\"epoch\"], df[metric], label=config)\n",
    "    plt.xlabel(\"Epoch\")\n",
    "    plt.ylabel(metric)\n",
    "    plt.title(f\"{metric} over epochs\")\n",
    "    plt.legend()\n",
    "    plt.grid(True, alpha=0.3)\n",
    "    plt.tight_layout()\n",
    "    plt.savefig(os.path.join(out_dir, f\"{metric}_lineplot.png\"))\n",
    "    plt.close()\n",
    "\n",
    "\n",
    "def plot_bar(df_summary, metric, out_dir):\n",
    "    \"\"\"\n",
    "    Bar plot of best metrics per config.\n",
    "    \"\"\"\n",
    "    plt.figure(figsize=(8, 5))\n",
    "    plt.bar(df_summary[\"Config\"], df_summary[metric].astype(float))\n",
    "    plt.ylabel(metric)\n",
    "    plt.title(f\"Best {metric} per config\")\n",
    "    plt.xticks(rotation=45, ha=\"right\")\n",
    "    plt.tight_layout()\n",
    "    plt.savefig(os.path.join(out_dir, f\"{metric}_barplot.png\"))\n",
    "    plt.close()\n",
    "\n",
    "\n",
    "# === Main workflow ===\n",
    "base_dir = \"weights/ablation\"\n",
    "out_dir = \"results/plots/dataset_ablation_study\"\n",
    "os.makedirs(out_dir, exist_ok=True)\n",
    "\n",
    "# Collect logs\n",
    "all_dfs, df_summary = collect_all_logs(base_dir)\n",
    "\n",
    "# Save summary as CSV + Markdown\n",
    "csv_path = os.path.join(out_dir, \"summary.csv\")\n",
    "md_path  = os.path.join(out_dir, \"summary.md\")\n",
    "df_summary.to_csv(csv_path, index=False)\n",
    "\n",
    "with open(md_path, \"w\") as f:\n",
    "    f.write(df_summary.to_markdown(index=False))\n",
    "\n",
    "print(f\"[INFO] Saved summary → {csv_path}, {md_path}\")\n",
    "\n",
    "# Plot epoch-wise metrics\n",
    "metrics_to_plot = [\"train_loss\", \"val_loss\", \"val_pixel_acc\", \"val_mIoU\", \"val_dice\", \"val_precision\", \"val_recall\"]\n",
    "for m in metrics_to_plot:\n",
    "    plot_metric(all_dfs, m, out_dir)\n",
    "\n",
    "# Plot bar charts for best values\n",
    "for m in [\"BEST_mIoU\", \"BEST_EPOCH\", \"TOTAL_TIME_SEC\"]:\n",
    "    if m in df_summary.columns:\n",
    "        plot_bar(df_summary, m, out_dir)\n",
    "\n",
    "print(f\"[INFO] Plots saved to {out_dir}\")\n"
   ]
  },
  {
   "cell_type": "code",
   "execution_count": null,
   "id": "e1fddc6e",
   "metadata": {},
   "outputs": [],
   "source": []
  }
 ],
 "metadata": {
  "kernelspec": {
   "display_name": "Thesis",
   "language": "python",
   "name": "python3"
  },
  "language_info": {
   "codemirror_mode": {
    "name": "ipython",
    "version": 3
   },
   "file_extension": ".py",
   "mimetype": "text/x-python",
   "name": "python",
   "nbconvert_exporter": "python",
   "pygments_lexer": "ipython3",
   "version": "3.10.18"
  }
 },
 "nbformat": 4,
 "nbformat_minor": 5
}
